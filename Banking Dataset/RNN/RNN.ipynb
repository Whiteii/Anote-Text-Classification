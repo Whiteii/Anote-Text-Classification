{
 "cells": [
  {
   "cell_type": "code",
   "execution_count": 146,
   "metadata": {},
   "outputs": [],
   "source": [
    "import tensorflow as tf\n",
    "import os\n",
    "import numpy as np \n",
    "from sklearn.utils import shuffle\n",
    "import pandas as pd \n",
    "from tensorflow.keras.layers.experimental.preprocessing import TextVectorization"
   ]
  },
  {
   "cell_type": "markdown",
   "metadata": {},
   "source": [
    "# Data"
   ]
  },
  {
   "cell_type": "code",
   "execution_count": 147,
   "metadata": {},
   "outputs": [],
   "source": [
    "train_df,test_df = pd.read_csv(\"seed.csv\"), pd.read_csv('test.csv')\n",
    "total_df = pd.concat([train_df,test_df],axis=0)\n",
    "label_to_id = {label : id  for id, label in enumerate(total_df.label.unique())}\n",
    "test_df['label'] = test_df['label'].map(label_to_id)\n",
    "examples = test_df['example'][:150]\n",
    "labels = test_df['label'][:150]"
   ]
  },
  {
   "cell_type": "markdown",
   "metadata": {},
   "source": [
    "# text_vec_layer"
   ]
  },
  {
   "cell_type": "code",
   "execution_count": 148,
   "metadata": {},
   "outputs": [],
   "source": [
    "vocab_size = 10000  # Set your vocabulary size\n",
    "max_sequence_length = 150  # Set your desired sequence length\n",
    "text_vec_layer = tf.keras.layers.TextVectorization(max_tokens=vocab_size,  output_sequence_length=max_sequence_length )"
   ]
  },
  {
   "cell_type": "code",
   "execution_count": 149,
   "metadata": {},
   "outputs": [],
   "source": [
    "text_vec_layer.adapt(train_df['example']) # import step\n",
    "vectorized_examples = text_vec_layer(examples) # import steps "
   ]
  },
  {
   "cell_type": "markdown",
   "metadata": {},
   "source": [
    "- Example"
   ]
  },
  {
   "cell_type": "code",
   "execution_count": 150,
   "metadata": {},
   "outputs": [
    {
     "data": {
      "text/plain": [
       "<tf.Tensor: shape=(150, 150), dtype=int64, numpy=\n",
       "array([[  2,  84,   4, ...,   0,   0,   0],\n",
       "       [ 13, 301,   2, ...,   0,   0,   0],\n",
       "       [  2,  22,   6, ...,   0,   0,   0],\n",
       "       ...,\n",
       "       [  3,   8,  26, ...,   0,   0,   0],\n",
       "       [ 83, 135,   2, ...,   0,   0,   0],\n",
       "       [  9, 349,  11, ...,   0,   0,   0]], dtype=int64)>"
      ]
     },
     "execution_count": 150,
     "metadata": {},
     "output_type": "execute_result"
    }
   ],
   "source": [
    "vectorized_examples"
   ]
  },
  {
   "cell_type": "markdown",
   "metadata": {},
   "source": [
    "# Embedding Layer"
   ]
  },
  {
   "cell_type": "code",
   "execution_count": 151,
   "metadata": {},
   "outputs": [
    {
     "name": "stdout",
     "output_type": "stream",
     "text": [
      "TextVectorization Output Shape: (150, 150)\n",
      "Embedding Output Shape: (150, 150, 128)\n"
     ]
    }
   ],
   "source": [
    "# Embedding layer\n",
    "embed_size = 128  # Set your desired embedding size\n",
    "embedding_layer = tf.keras.layers.Embedding(input_dim=vocab_size, output_dim=embed_size)\n",
    "# Apply the embedding layer to the vectorized examples\n",
    "embedded_examples = embedding_layer(vectorized_examples)\n",
    "\n",
    "# Print the shape of the output\n",
    "print(\"TextVectorization Output Shape:\", vectorized_examples.shape)\n",
    "print(\"Embedding Output Shape:\", embedded_examples.shape)"
   ]
  }
 ],
 "metadata": {
  "kernelspec": {
   "display_name": "Anote_AI",
   "language": "python",
   "name": "python3"
  },
  "language_info": {
   "codemirror_mode": {
    "name": "ipython",
    "version": 3
   },
   "file_extension": ".py",
   "mimetype": "text/x-python",
   "name": "python",
   "nbconvert_exporter": "python",
   "pygments_lexer": "ipython3",
   "version": "3.10.13"
  }
 },
 "nbformat": 4,
 "nbformat_minor": 2
}
