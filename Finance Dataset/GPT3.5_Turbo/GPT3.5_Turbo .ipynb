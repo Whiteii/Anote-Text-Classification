{
 "cells": [
  {
   "cell_type": "code",
   "execution_count": 96,
   "metadata": {},
   "outputs": [],
   "source": [
    "import datasets\n",
    "import numpy as np\n",
    "import seaborn as sns\n",
    "from sklearn.metrics import accuracy_score, precision_recall_fscore_support\n",
    "import pandas as pd\n",
    "import openai\n",
    "from sklearn.model_selection import train_test_split\n",
    "import json\n",
    "import time "
   ]
  },
  {
   "cell_type": "code",
   "execution_count": 50,
   "metadata": {},
   "outputs": [],
   "source": [
    "openai.api_key = \"Enter API KEY\""
   ]
  },
  {
   "cell_type": "code",
   "execution_count": 51,
   "metadata": {},
   "outputs": [],
   "source": [
    "dataset = datasets.load_dataset('financial_phrasebank', 'sentences_allagree')"
   ]
  },
  {
   "cell_type": "code",
   "execution_count": 52,
   "metadata": {},
   "outputs": [],
   "source": [
    "df = pd.DataFrame(dataset['train'])"
   ]
  },
  {
   "cell_type": "code",
   "execution_count": 53,
   "metadata": {},
   "outputs": [
    {
     "data": {
      "text/html": [
       "<div>\n",
       "<style scoped>\n",
       "    .dataframe tbody tr th:only-of-type {\n",
       "        vertical-align: middle;\n",
       "    }\n",
       "\n",
       "    .dataframe tbody tr th {\n",
       "        vertical-align: top;\n",
       "    }\n",
       "\n",
       "    .dataframe thead th {\n",
       "        text-align: right;\n",
       "    }\n",
       "</style>\n",
       "<table border=\"1\" class=\"dataframe\">\n",
       "  <thead>\n",
       "    <tr style=\"text-align: right;\">\n",
       "      <th></th>\n",
       "      <th>sentence</th>\n",
       "      <th>label</th>\n",
       "    </tr>\n",
       "  </thead>\n",
       "  <tbody>\n",
       "    <tr>\n",
       "      <th>0</th>\n",
       "      <td>According to Gran , the company has no plans t...</td>\n",
       "      <td>1</td>\n",
       "    </tr>\n",
       "    <tr>\n",
       "      <th>1</th>\n",
       "      <td>For the last quarter of 2010 , Componenta 's n...</td>\n",
       "      <td>2</td>\n",
       "    </tr>\n",
       "    <tr>\n",
       "      <th>2</th>\n",
       "      <td>In the third quarter of 2010 , net sales incre...</td>\n",
       "      <td>2</td>\n",
       "    </tr>\n",
       "    <tr>\n",
       "      <th>3</th>\n",
       "      <td>Operating profit rose to EUR 13.1 mn from EUR ...</td>\n",
       "      <td>2</td>\n",
       "    </tr>\n",
       "    <tr>\n",
       "      <th>4</th>\n",
       "      <td>Operating profit totalled EUR 21.1 mn , up fro...</td>\n",
       "      <td>2</td>\n",
       "    </tr>\n",
       "    <tr>\n",
       "      <th>5</th>\n",
       "      <td>Finnish Talentum reports its operating profit ...</td>\n",
       "      <td>2</td>\n",
       "    </tr>\n",
       "    <tr>\n",
       "      <th>6</th>\n",
       "      <td>Clothing retail chain Sepp+ñl+ñ 's sales incre...</td>\n",
       "      <td>2</td>\n",
       "    </tr>\n",
       "    <tr>\n",
       "      <th>7</th>\n",
       "      <td>Consolidated net sales increased 16 % to reach...</td>\n",
       "      <td>2</td>\n",
       "    </tr>\n",
       "    <tr>\n",
       "      <th>8</th>\n",
       "      <td>Foundries division reports its sales increased...</td>\n",
       "      <td>2</td>\n",
       "    </tr>\n",
       "    <tr>\n",
       "      <th>9</th>\n",
       "      <td>HELSINKI ( AFX ) - Shares closed higher , led ...</td>\n",
       "      <td>2</td>\n",
       "    </tr>\n",
       "  </tbody>\n",
       "</table>\n",
       "</div>"
      ],
      "text/plain": [
       "                                            sentence  label\n",
       "0  According to Gran , the company has no plans t...      1\n",
       "1  For the last quarter of 2010 , Componenta 's n...      2\n",
       "2  In the third quarter of 2010 , net sales incre...      2\n",
       "3  Operating profit rose to EUR 13.1 mn from EUR ...      2\n",
       "4  Operating profit totalled EUR 21.1 mn , up fro...      2\n",
       "5  Finnish Talentum reports its operating profit ...      2\n",
       "6  Clothing retail chain Sepp+ñl+ñ 's sales incre...      2\n",
       "7  Consolidated net sales increased 16 % to reach...      2\n",
       "8  Foundries division reports its sales increased...      2\n",
       "9  HELSINKI ( AFX ) - Shares closed higher , led ...      2"
      ]
     },
     "execution_count": 53,
     "metadata": {},
     "output_type": "execute_result"
    }
   ],
   "source": [
    "df.head(10)"
   ]
  },
  {
   "cell_type": "code",
   "execution_count": 54,
   "metadata": {},
   "outputs": [
    {
     "data": {
      "text/plain": [
       "-0.06717208823404655"
      ]
     },
     "execution_count": 54,
     "metadata": {},
     "output_type": "execute_result"
    }
   ],
   "source": [
    "df['label'].skew()"
   ]
  },
  {
   "cell_type": "code",
   "execution_count": 55,
   "metadata": {},
   "outputs": [],
   "source": [
    "id_to_label = {0 : 'negative', 1 : 'neutral' ,  2 : 'postive'}"
   ]
  },
  {
   "cell_type": "code",
   "execution_count": 56,
   "metadata": {},
   "outputs": [],
   "source": [
    "df[\"label\"] = df[\"label\"].map(id_to_label)"
   ]
  },
  {
   "cell_type": "code",
   "execution_count": 57,
   "metadata": {},
   "outputs": [],
   "source": [
    "categories = df['label'].unique()"
   ]
  },
  {
   "cell_type": "code",
   "execution_count": 58,
   "metadata": {},
   "outputs": [],
   "source": [
    "train_df, test_df = train_test_split(df, test_size=100/283, stratify=df['label'], random_state=42)"
   ]
  },
  {
   "cell_type": "code",
   "execution_count": 70,
   "metadata": {},
   "outputs": [],
   "source": [
    "categories = train_df['label'].unique()"
   ]
  },
  {
   "cell_type": "code",
   "execution_count": 71,
   "metadata": {},
   "outputs": [],
   "source": [
    "def text_to_openai_json(data,filename):\n",
    "    \"\"\"\n",
    "    Converts a given dataset into a JSON Lines (JSONL) file suitable for OpenAI's GPT-3.5 turbo model.\n",
    "    \n",
    "    Args:\n",
    "        data (DataFrame or similar data structure): Input data containing text and labels.\n",
    "\n",
    "    The function processes the input data row by row, constructing conversations for each row with a system message, user message, and an assistant message. It then writes the generated conversation data to a JSONL file.\n",
    " \n",
    "    \"\"\"\n",
    "    # Initialize an empty list to store conversation data\n",
    "    message_list = []\n",
    "\n",
    "    # Iterate through the rows in the input data\n",
    "    for _, row in data.iterrows():\n",
    "        # Create a system message as an initial instruction\n",
    "        system_message = {\n",
    "            \"role\": \"system\",\n",
    "            \"content\": f\"given the following text: find the category in: {categories} that is most closely associated with it. Return only the category name\"\n",
    "        }\n",
    "\n",
    "        # Append the system message to the conversation\n",
    "        message_list.append({\"messages\": [system_message]})\n",
    "\n",
    "        # Create a user message based on the 'text' column from the data\n",
    "        user_message = {\n",
    "            \"role\": \"user\",\n",
    "            \"content\": row['sentence']\n",
    "        }\n",
    "\n",
    "        # Append the user message to the conversation\n",
    "        message_list[-1][\"messages\"].append(user_message)\n",
    "\n",
    "        # Create an assistant message based on the 'coarse_label' column from the data\n",
    "        assistant_message = {\n",
    "            \"role\": 'assistant',\n",
    "            \"content\": row['label']\n",
    "        }\n",
    "\n",
    "        # Append the assistant message to the conversation\n",
    "        message_list[-1][\"messages\"].append(assistant_message)\n",
    "\n",
    "    # Write the conversation data to a JSON Lines (JSONL) file\n",
    "    with open(filename, \"w\") as json_file:\n",
    "        for message in message_list:\n",
    "            # Serialize the conversation data to JSON and write it to the file\n",
    "            json.dump(message, json_file)\n",
    "            json_file.write(\"\\n\")"
   ]
  },
  {
   "cell_type": "code",
   "execution_count": 72,
   "metadata": {},
   "outputs": [],
   "source": [
    "system_content =  f\"given the following text: find the category in: {categories} that is most closely associated with it. Return only the category name only in following format\""
   ]
  },
  {
   "cell_type": "code",
   "execution_count": 73,
   "metadata": {},
   "outputs": [],
   "source": [
    "from sklearn.metrics import precision_recall_fscore_support"
   ]
  },
  {
   "cell_type": "code",
   "execution_count": 87,
   "metadata": {},
   "outputs": [],
   "source": [
    "def zero_shot_model(data,model_id):\n",
    "    pred = []\n",
    "    for row in data[\"sentence\"]:\n",
    "        completion = openai.ChatCompletion.create(\n",
    "            model= model_id ,\n",
    "            messages=[\n",
    "                {\"role\": \"system\", \"content\": system_content },\n",
    "                {\"role\": \"user\", \"content\": row }\n",
    "            ])\n",
    "        \n",
    "        print(f'text: {row}')\n",
    "        print(completion.choices[0].message.content)\n",
    "        pred.append(completion.choices[0].message.content)\n",
    "    pred_df = pd.DataFrame({'sentence': data[\"sentence\"], 'label' : data['label'], 'few-shot predictions' : pred })\n",
    "    \n",
    "    return pred_df"
   ]
  },
  {
   "cell_type": "code",
   "execution_count": 88,
   "metadata": {},
   "outputs": [],
   "source": [
    "cumulative_increment = 0\n",
    "model_id = 'gpt-3.5-turbo-0301'\n",
    "all_model_id = []"
   ]
  },
  {
   "cell_type": "code",
   "execution_count": 91,
   "metadata": {},
   "outputs": [],
   "source": [
    "def fine_tune_model(model_id,num_label,pred_df):\n",
    "    incorrection_pred_df = pred_df[pred_df['label'] != pred_df['few-shot predictions']][:num_label]\n",
    "    filename = f'ft_increment_{num_label}.jsonl'\n",
    "    text_to_openai_json(incorrection_pred_df, filename)\n",
    "    loader = openai.File.create(file=open(filename, \"rb\"), purpose='fine-tune')\n",
    "    fine_tuning_job = openai.FineTuningJob.create(training_file=loader.id, model=\"gpt-3.5-turbo\")\n",
    "    return fine_tuning_job.id"
   ]
  },
  {
   "cell_type": "code",
   "execution_count": null,
   "metadata": {},
   "outputs": [],
   "source": [
    "def wait_for_fine_tuning(job_id):\n",
    "    while True:\n",
    "        response = openai.FineTuningJob.retrieve(job_id)\n",
    "        print(response[\"fine_tuned_model\"])\n",
    "        if response[\"fine_tuned_model\"]:\n",
    "            print(response[\"fine_tuned_model\"])\n",
    "            return response[\"fine_tuned_model\"]\n",
    "        time.sleep(60)  # Check every 60 seconds"
   ]
  },
  {
   "cell_type": "code",
   "execution_count": 92,
   "metadata": {},
   "outputs": [],
   "source": [
    "def ft_accuracy(data,model_id):\n",
    "    pred = []\n",
    "    for row in data[\"sentence\"]:\n",
    "        completion = openai.ChatCompletion.create(\n",
    "            model= model_id ,\n",
    "            messages=[\n",
    "                {\"role\": \"system\", \"content\": system_content },\n",
    "                {\"role\": \"user\", \"content\": row }\n",
    "            ])\n",
    "        \n",
    "        print(f'text: {row}')\n",
    "        print(completion.choices[0].message.content)\n",
    "        pred.append(completion.choices[0].message.content)\n",
    "        \n",
    "    accuracy = accuracy_score(data['label'], pred)\n",
    "    print(f'Accuracy: {accuracy * 100:.2f}%')\n",
    "    precision, recall, f1, _ = precision_recall_fscore_support(data['label'], pred, average='macro',zero_division=1)\n",
    "    \n",
    "    return accuracy, precision, recall, f1, pred"
   ]
  },
  {
   "cell_type": "code",
   "execution_count": 93,
   "metadata": {},
   "outputs": [
    {
     "data": {
      "text/html": [
       "<div>\n",
       "<style scoped>\n",
       "    .dataframe tbody tr th:only-of-type {\n",
       "        vertical-align: middle;\n",
       "    }\n",
       "\n",
       "    .dataframe tbody tr th {\n",
       "        vertical-align: top;\n",
       "    }\n",
       "\n",
       "    .dataframe thead th {\n",
       "        text-align: right;\n",
       "    }\n",
       "</style>\n",
       "<table border=\"1\" class=\"dataframe\">\n",
       "  <thead>\n",
       "    <tr style=\"text-align: right;\">\n",
       "      <th></th>\n",
       "      <th>sentence</th>\n",
       "      <th>label</th>\n",
       "    </tr>\n",
       "  </thead>\n",
       "  <tbody>\n",
       "    <tr>\n",
       "      <th>971</th>\n",
       "      <td>Following the issue , the new shares will cons...</td>\n",
       "      <td>neutral</td>\n",
       "    </tr>\n",
       "    <tr>\n",
       "      <th>540</th>\n",
       "      <td>An  of the invention , released by the Patent ...</td>\n",
       "      <td>neutral</td>\n",
       "    </tr>\n",
       "    <tr>\n",
       "      <th>1621</th>\n",
       "      <td>Currently it operates a fleet of eight carrier...</td>\n",
       "      <td>neutral</td>\n",
       "    </tr>\n",
       "    <tr>\n",
       "      <th>2143</th>\n",
       "      <td>In a separate announcement to the Helsinki sto...</td>\n",
       "      <td>negative</td>\n",
       "    </tr>\n",
       "    <tr>\n",
       "      <th>25</th>\n",
       "      <td>In January , traffic , measured in revenue pas...</td>\n",
       "      <td>postive</td>\n",
       "    </tr>\n",
       "  </tbody>\n",
       "</table>\n",
       "</div>"
      ],
      "text/plain": [
       "                                               sentence     label\n",
       "971   Following the issue , the new shares will cons...   neutral\n",
       "540   An  of the invention , released by the Patent ...   neutral\n",
       "1621  Currently it operates a fleet of eight carrier...   neutral\n",
       "2143  In a separate announcement to the Helsinki sto...  negative\n",
       "25    In January , traffic , measured in revenue pas...   postive"
      ]
     },
     "execution_count": 93,
     "metadata": {},
     "output_type": "execute_result"
    }
   ],
   "source": [
    "test_df.head()"
   ]
  },
  {
   "cell_type": "code",
   "execution_count": 1,
   "metadata": {},
   "outputs": [],
   "source": [
    "pred_df = zero_shot_model(model_id='gpt-3.5-turbo-0301', data = test_df)"
   ]
  },
  {
   "cell_type": "code",
   "execution_count": 2,
   "metadata": {},
   "outputs": [
    {
     "data": {
      "text/plain": [
       "\"model_ids = []\\naccs = [] \\nprecisions = [] \\nrecalls = [] \\nf1s = []\\nlabels = []\\nlabel_count = 0\\nfor i in range(15):\\n    label_count += 10\\n    ft_id = fine_tune_model(model_id = 'gpt-3.5-turbo-0301', num_label=label_count, pred_df=pred_df)\\n    if wait_for_fine_tuning(ft_id) is not None:\\n        model_ids.append(wait_for_fine_tuning(ft_id))\\n        accuracy, precision, recall, f1, pred = ft_accuracy(data=test_df,model_id=(wait_for_fine_tuning(ft_id)))\\n        labels.append(label_count)\\n        accs.append(accuracy)\\n        precisions.append(precision)\\n        recalls.append(recall)\\n        f1s.append(f1)\""
      ]
     },
     "execution_count": 2,
     "metadata": {},
     "output_type": "execute_result"
    }
   ],
   "source": [
    "model_ids = []\n",
    "accs = [] \n",
    "precisions = [] \n",
    "recalls = [] \n",
    "f1s = []\n",
    "labels = []\n",
    "label_count = 0\n",
    "for i in range(15):\n",
    "    label_count += 10\n",
    "    ft_id = fine_tune_model(model_id = 'gpt-3.5-turbo-0301', num_label=label_count, pred_df=pred_df)\n",
    "    if wait_for_fine_tuning(ft_id) is not None:\n",
    "        model_ids.append(wait_for_fine_tuning(ft_id))\n",
    "        accuracy, precision, recall, f1, pred = ft_accuracy(data=test_df,model_id=(wait_for_fine_tuning(ft_id)))\n",
    "        labels.append(label_count)\n",
    "        accs.append(accuracy)\n",
    "        precisions.append(precision)\n",
    "        recalls.append(recall)\n",
    "        f1s.append(f1)"
   ]
  },
  {
   "cell_type": "markdown",
   "metadata": {},
   "source": [
    "# Confusion Matrix\n"
   ]
  },
  {
   "cell_type": "code",
   "execution_count": 112,
   "metadata": {},
   "outputs": [],
   "source": [
    "from sklearn.metrics import confusion_matrix\n",
    "import seaborn as sns \n",
    "import matplotlib.pyplot as plt"
   ]
  },
  {
   "cell_type": "code",
   "execution_count": 119,
   "metadata": {},
   "outputs": [
    {
     "data": {
      "image/png": "[encoded data removed]",
      "text/plain": [
       "<Figure size 1200x1000 with 2 Axes>"
      ]
     },
     "metadata": {},
     "output_type": "display_data"
    }
   ],
   "source": [
    "cm = confusion_matrix( test_df['label'],pred)\n",
    "\n",
    "plt.figure(figsize=(12, 10))\n",
    "sns.heatmap(cm, annot=True, fmt=\"d\", cmap=\"Blues\")\n",
    "plt.xlabel('Predicted Labels')\n",
    "plt.ylabel('True Labels')\n",
    "plt.title('Confusion Matrix for FT3.5 GPT Finance Label Prediction')\n",
    "plt.show()"
   ]
  }
 ],
 "metadata": {
  "kernelspec": {
   "display_name": "Anote_AI",
   "language": "python",
   "name": "python3"
  },
  "language_info": {
   "codemirror_mode": {
    "name": "ipython",
    "version": 3
   },
   "file_extension": ".py",
   "mimetype": "text/x-python",
   "name": "python",
   "nbconvert_exporter": "python",
   "pygments_lexer": "ipython3",
   "version": "3.10.13"
  }
 },
 "nbformat": 4,
 "nbformat_minor": 2
}
