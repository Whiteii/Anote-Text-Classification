{
 "cells": [
  {
   "cell_type": "code",
   "execution_count": 1,
   "metadata": {},
   "outputs": [],
   "source": [
    "import pandas as pd\n",
    "from datasets import load_dataset\n",
    "import matplotlib.pyplot as plt\n",
    "import torch, os\n",
    "from torch.utils.data import Dataset\n",
    "from ipywidgets import interact \n",
    "import seaborn as sns\n",
    "from transformers import BertTokenizerFast, BertForSequenceClassification, TrainingArguments, Trainer\n",
    "from sklearn.model_selection import train_test_split\n",
    "from sklearn.metrics import accuracy_score, precision_recall_fscore_support\n",
    "import tensorflow as tf\n",
    "import numpy as np"
   ]
  },
  {
   "cell_type": "code",
   "execution_count": 2,
   "metadata": {},
   "outputs": [
    {
     "data": {
      "text/plain": [
       "'2.1.0'"
      ]
     },
     "execution_count": 2,
     "metadata": {},
     "output_type": "execute_result"
    }
   ],
   "source": [
    "torch.__version__"
   ]
  },
  {
   "cell_type": "markdown",
   "metadata": {},
   "source": [
    "# Loading Data"
   ]
  },
  {
   "cell_type": "code",
   "execution_count": 3,
   "metadata": {},
   "outputs": [],
   "source": [
    "dataset = load_dataset(\"trec\")\n",
    "train_dataset = dataset['train']\n",
    "test_dataset = dataset['test']"
   ]
  },
  {
   "cell_type": "code",
   "execution_count": 4,
   "metadata": {},
   "outputs": [],
   "source": [
    "train_df = pd.DataFrame({'text' : train_dataset['text'], 'coarse_label' : train_dataset['coarse_label']})\n",
    "test_df = pd.DataFrame({'text' : test_dataset['text'], 'coarse_label' : test_dataset['coarse_label']})"
   ]
  },
  {
   "cell_type": "code",
   "execution_count": 5,
   "metadata": {},
   "outputs": [
    {
     "data": {
      "text/html": [
       "<div>\n",
       "<style scoped>\n",
       "    .dataframe tbody tr th:only-of-type {\n",
       "        vertical-align: middle;\n",
       "    }\n",
       "\n",
       "    .dataframe tbody tr th {\n",
       "        vertical-align: top;\n",
       "    }\n",
       "\n",
       "    .dataframe thead th {\n",
       "        text-align: right;\n",
       "    }\n",
       "</style>\n",
       "<table border=\"1\" class=\"dataframe\">\n",
       "  <thead>\n",
       "    <tr style=\"text-align: right;\">\n",
       "      <th></th>\n",
       "      <th>text</th>\n",
       "      <th>coarse_label</th>\n",
       "    </tr>\n",
       "  </thead>\n",
       "  <tbody>\n",
       "    <tr>\n",
       "      <th>0</th>\n",
       "      <td>How did serfdom develop in and then leave Russ...</td>\n",
       "      <td>2</td>\n",
       "    </tr>\n",
       "    <tr>\n",
       "      <th>1</th>\n",
       "      <td>What films featured the character Popeye Doyle ?</td>\n",
       "      <td>1</td>\n",
       "    </tr>\n",
       "    <tr>\n",
       "      <th>2</th>\n",
       "      <td>How can I find a list of celebrities ' real na...</td>\n",
       "      <td>2</td>\n",
       "    </tr>\n",
       "    <tr>\n",
       "      <th>3</th>\n",
       "      <td>What fowl grabs the spotlight after the Chines...</td>\n",
       "      <td>1</td>\n",
       "    </tr>\n",
       "    <tr>\n",
       "      <th>4</th>\n",
       "      <td>What is the full form of .com ?</td>\n",
       "      <td>0</td>\n",
       "    </tr>\n",
       "  </tbody>\n",
       "</table>\n",
       "</div>"
      ],
      "text/plain": [
       "                                                text  coarse_label\n",
       "0  How did serfdom develop in and then leave Russ...             2\n",
       "1   What films featured the character Popeye Doyle ?             1\n",
       "2  How can I find a list of celebrities ' real na...             2\n",
       "3  What fowl grabs the spotlight after the Chines...             1\n",
       "4                    What is the full form of .com ?             0"
      ]
     },
     "execution_count": 5,
     "metadata": {},
     "output_type": "execute_result"
    }
   ],
   "source": [
    "train_df.head()"
   ]
  },
  {
   "cell_type": "code",
   "execution_count": 6,
   "metadata": {},
   "outputs": [],
   "source": [
    "from sklearn.model_selection import train_test_split\n",
    "initial_labeled_set, pool = train_test_split(train_df, test_size=0.95, stratify=train_df['coarse_label'])"
   ]
  },
  {
   "cell_type": "code",
   "execution_count": 7,
   "metadata": {},
   "outputs": [
    {
     "data": {
      "text/html": [
       "<div>\n",
       "<style scoped>\n",
       "    .dataframe tbody tr th:only-of-type {\n",
       "        vertical-align: middle;\n",
       "    }\n",
       "\n",
       "    .dataframe tbody tr th {\n",
       "        vertical-align: top;\n",
       "    }\n",
       "\n",
       "    .dataframe thead th {\n",
       "        text-align: right;\n",
       "    }\n",
       "</style>\n",
       "<table border=\"1\" class=\"dataframe\">\n",
       "  <thead>\n",
       "    <tr style=\"text-align: right;\">\n",
       "      <th></th>\n",
       "      <th>text</th>\n",
       "      <th>coarse_label</th>\n",
       "    </tr>\n",
       "  </thead>\n",
       "  <tbody>\n",
       "    <tr>\n",
       "      <th>1200</th>\n",
       "      <td>What mountainous region of the world is the Lh...</td>\n",
       "      <td>4</td>\n",
       "    </tr>\n",
       "    <tr>\n",
       "      <th>1066</th>\n",
       "      <td>How many acres in a mile ?</td>\n",
       "      <td>5</td>\n",
       "    </tr>\n",
       "    <tr>\n",
       "      <th>2927</th>\n",
       "      <td>Which Latin American country is the largest ?</td>\n",
       "      <td>4</td>\n",
       "    </tr>\n",
       "    <tr>\n",
       "      <th>5274</th>\n",
       "      <td>What was the Long March in China ?</td>\n",
       "      <td>2</td>\n",
       "    </tr>\n",
       "    <tr>\n",
       "      <th>4603</th>\n",
       "      <td>What 12-hour cold medicine uses the formula ``...</td>\n",
       "      <td>1</td>\n",
       "    </tr>\n",
       "    <tr>\n",
       "      <th>...</th>\n",
       "      <td>...</td>\n",
       "      <td>...</td>\n",
       "    </tr>\n",
       "    <tr>\n",
       "      <th>2270</th>\n",
       "      <td>In which state are the Mark Twain National For...</td>\n",
       "      <td>4</td>\n",
       "    </tr>\n",
       "    <tr>\n",
       "      <th>4877</th>\n",
       "      <td>What is Remembrance Day all about ?</td>\n",
       "      <td>2</td>\n",
       "    </tr>\n",
       "    <tr>\n",
       "      <th>4697</th>\n",
       "      <td>How many people died on South Carolina highway...</td>\n",
       "      <td>5</td>\n",
       "    </tr>\n",
       "    <tr>\n",
       "      <th>3178</th>\n",
       "      <td>What country will hit the year 2 first ?</td>\n",
       "      <td>4</td>\n",
       "    </tr>\n",
       "    <tr>\n",
       "      <th>5275</th>\n",
       "      <td>What international organization was founded by...</td>\n",
       "      <td>3</td>\n",
       "    </tr>\n",
       "  </tbody>\n",
       "</table>\n",
       "<p>272 rows × 2 columns</p>\n",
       "</div>"
      ],
      "text/plain": [
       "                                                   text  coarse_label\n",
       "1200  What mountainous region of the world is the Lh...             4\n",
       "1066                         How many acres in a mile ?             5\n",
       "2927      Which Latin American country is the largest ?             4\n",
       "5274                 What was the Long March in China ?             2\n",
       "4603  What 12-hour cold medicine uses the formula ``...             1\n",
       "...                                                 ...           ...\n",
       "2270  In which state are the Mark Twain National For...             4\n",
       "4877                What is Remembrance Day all about ?             2\n",
       "4697  How many people died on South Carolina highway...             5\n",
       "3178           What country will hit the year 2 first ?             4\n",
       "5275  What international organization was founded by...             3\n",
       "\n",
       "[272 rows x 2 columns]"
      ]
     },
     "execution_count": 7,
     "metadata": {},
     "output_type": "execute_result"
    }
   ],
   "source": [
    "initial_labeled_set"
   ]
  },
  {
   "cell_type": "markdown",
   "metadata": {},
   "source": [
    "# Spliting Data into train_encodings, test_encodings"
   ]
  },
  {
   "cell_type": "code",
   "execution_count": 8,
   "metadata": {},
   "outputs": [],
   "source": [
    "tokenizer = BertTokenizerFast.from_pretrained(\"bert-base-uncased\", max_length=512)"
   ]
  },
  {
   "cell_type": "code",
   "execution_count": 9,
   "metadata": {},
   "outputs": [],
   "source": [
    "train_encodings = tokenizer(initial_labeled_set['text'].to_list(), truncation=True, padding=True)\n",
    "test_encodings = tokenizer(test_df['text'].to_list(), truncation=True, padding=True)\n",
    "train_labels = initial_labeled_set.coarse_label.to_list()\n",
    "test_labels = test_df.coarse_label.to_list()"
   ]
  },
  {
   "cell_type": "code",
   "execution_count": 10,
   "metadata": {},
   "outputs": [],
   "source": [
    "num_labels = 6\n",
    "id_to_label = {0 : 'ABBR' , 1 : 'ENTY', 2: 'DESC', 3 : 'HUM', 4 : 'LOC', 5 : 'NUM'}\n",
    "label_to_id= { 'ABBR' : 0 , 'ENTY' : 1, 'DESC': 2, 'HUM' :3, 'LOC' : 4, 'NUM' : 5}"
   ]
  },
  {
   "cell_type": "code",
   "execution_count": 11,
   "metadata": {},
   "outputs": [
    {
     "name": "stderr",
     "output_type": "stream",
     "text": [
      "Some weights of BertForSequenceClassification were not initialized from the model checkpoint at bert-base-uncased and are newly initialized: ['classifier.bias', 'classifier.weight']\n",
      "You should probably TRAIN this model on a down-stream task to be able to use it for predictions and inference.\n"
     ]
    }
   ],
   "source": [
    "model = BertForSequenceClassification.from_pretrained('bert-base-uncased', num_labels=6, id2label = id_to_label, label2id = label_to_id)"
   ]
  },
  {
   "cell_type": "markdown",
   "metadata": {},
   "source": [
    "### TrainingArguments, Dataloader, Metrics are needed to construct this Fine-tune the model"
   ]
  },
  {
   "cell_type": "code",
   "execution_count": 12,
   "metadata": {},
   "outputs": [],
   "source": [
    "training_args = TrainingArguments(\n",
    "    # The output directory where the model predictions and checkpoints will be written\n",
    "    output_dir='./BERTModel2',\n",
    "    do_train=True,\n",
    "    do_eval=True,\n",
    "    #  The number of epochs, defaults to 3.0\n",
    "    num_train_epochs=3,\n",
    "    per_device_train_batch_size=16,\n",
    "    per_device_eval_batch_size=32,\n",
    "    # Number of steps used for a linear warmup\n",
    "    warmup_steps=100,\n",
    "    weight_decay=0.01,\n",
    "    logging_strategy='steps',\n",
    "   # TensorBoard log directory\n",
    "    logging_dir='./multi-class-logs',\n",
    "    logging_steps=50,\n",
    "    evaluation_strategy=\"steps\",\n",
    "    eval_steps=50,\n",
    "    save_strategy=\"steps\",\n",
    ")"
   ]
  },
  {
   "cell_type": "code",
   "execution_count": 13,
   "metadata": {},
   "outputs": [],
   "source": [
    "class DataLoader(Dataset):\n",
    "    def __init__(self, encodings, labels):\n",
    "        self.encodings = encodings\n",
    "        self.labels = labels\n",
    "    def __getitem__(self, idx):\n",
    "        \"\"\"\n",
    "          This construct a dict that is (index position) to encoding pairs.\n",
    "          Where the Encoding becomes tensor(Encoding), which is an requirements\n",
    "          for training the model\n",
    "        \"\"\"\n",
    "        item = {key: torch.tensor(val[idx]) for key, val in self.encodings.items()}\n",
    "        item['labels'] = torch.tensor(self.labels[idx])\n",
    "        return item\n",
    "    def __len__(self):\n",
    "        \"\"\"\n",
    "        Returns the number of data items in the dataset.\n",
    "\n",
    "        \"\"\"\n",
    "        return len(self.labels)"
   ]
  },
  {
   "cell_type": "code",
   "execution_count": 14,
   "metadata": {},
   "outputs": [],
   "source": [
    "def compute_metrics(pred):\n",
    "    \n",
    "    ''' \n",
    "    Compute Metrics\n",
    "\n",
    "    This function computes various classification metrics based on the model's predictions and true labels, \n",
    "    including accuracy, F1 score, precision, and recall.\n",
    "\n",
    "    Args:\n",
    "        pred: A prediction object containing the true labels and predicted probabilities.\n",
    "\n",
    "    Returns:\n",
    "        metrics (dict): A dictionary containing the computed metrics:\n",
    "            - 'Accuracy': The accuracy of the model's predictions.\n",
    "            - 'F1': The macro F1 score.\n",
    "            - 'Precision': The macro precision score.\n",
    "            - 'Recall': The macro recall score.'''\n",
    "\n",
    "\n",
    "    # Extract true labels from the input object\n",
    "    labels = pred.label_ids\n",
    "\n",
    "    # Obtain predicted class labels by finding the column index with the maximum probability\n",
    "    preds = pred.predictions.argmax(-1)\n",
    "\n",
    "    # Compute macro precision, recall, and F1 score using sklearn's precision_recall_fscore_support function\n",
    "    precision, recall, f1, _ = precision_recall_fscore_support(labels, preds, average='macro',zero_division=1)\n",
    "\n",
    "    # Calculate the accuracy score using sklearn's accuracy_score function\n",
    "    acc = accuracy_score(labels, preds)\n",
    "\n",
    "    # Return the computed metrics as a dictionary\n",
    "    return {\n",
    "        'Accuracy': acc,\n",
    "        'F1': f1,\n",
    "        'Precision': precision,\n",
    "        'Recall': recall\n",
    "    }"
   ]
  },
  {
   "cell_type": "markdown",
   "metadata": {},
   "source": [
    "# Calling our Dataloader"
   ]
  },
  {
   "cell_type": "code",
   "execution_count": 15,
   "metadata": {},
   "outputs": [],
   "source": [
    "train_dataloader = DataLoader(train_encodings,train_labels)\n",
    "test_dataloader = DataLoader(test_encodings,test_labels)"
   ]
  },
  {
   "cell_type": "code",
   "execution_count": 16,
   "metadata": {},
   "outputs": [],
   "source": [
    "trainer = Trainer(\n",
    "    #the pre-trained bert model that will be fine-tuned\n",
    "    model=model,\n",
    "    #training arguments that we defined above\n",
    "    args=training_args,\n",
    "    train_dataset= train_dataloader,\n",
    "    eval_dataset = test_dataloader,\n",
    "    compute_metrics= compute_metrics\n",
    ")"
   ]
  },
  {
   "cell_type": "markdown",
   "metadata": {},
   "source": [
    "#  Evaluate the prediction accuracy of our model on the dataset without training or fine-tuning it"
   ]
  },
  {
   "cell_type": "code",
   "execution_count": 17,
   "metadata": {},
   "outputs": [
    {
     "data": {
      "application/vnd.jupyter.widget-view+json": {
       "model_id": "ff1666caee27412e83db32431da9b093",
       "version_major": 2,
       "version_minor": 0
      },
      "text/plain": [
       "  0%|          | 0/16 [00:00<?, ?it/s]"
      ]
     },
     "metadata": {},
     "output_type": "display_data"
    }
   ],
   "source": [
    "predictions = trainer.predict(test_dataloader)\n"
   ]
  },
  {
   "cell_type": "code",
   "execution_count": 18,
   "metadata": {},
   "outputs": [],
   "source": [
    "predicted_labels = predictions.predictions.argmax(axis=1)\n"
   ]
  },
  {
   "cell_type": "code",
   "execution_count": 19,
   "metadata": {},
   "outputs": [
    {
     "name": "stdout",
     "output_type": "stream",
     "text": [
      "accuracy 0.166 \n"
     ]
    }
   ],
   "source": [
    "accuracy = accuracy_score(test_df['coarse_label'].to_list(),predicted_labels)\n",
    "print('accuracy {}% '.format(np.round(accuracy * 100)))"
   ]
  },
  {
   "cell_type": "markdown",
   "metadata": {},
   "source": [
    "## An Active Learning Approach Based On Uncertain Sampling"
   ]
  },
  {
   "cell_type": "code",
   "execution_count": 20,
   "metadata": {},
   "outputs": [
    {
     "data": {
      "text/html": [
       "<div>\n",
       "<style scoped>\n",
       "    .dataframe tbody tr th:only-of-type {\n",
       "        vertical-align: middle;\n",
       "    }\n",
       "\n",
       "    .dataframe tbody tr th {\n",
       "        vertical-align: top;\n",
       "    }\n",
       "\n",
       "    .dataframe thead th {\n",
       "        text-align: right;\n",
       "    }\n",
       "</style>\n",
       "<table border=\"1\" class=\"dataframe\">\n",
       "  <thead>\n",
       "    <tr style=\"text-align: right;\">\n",
       "      <th></th>\n",
       "      <th>text</th>\n",
       "      <th>coarse_label</th>\n",
       "    </tr>\n",
       "  </thead>\n",
       "  <tbody>\n",
       "    <tr>\n",
       "      <th>1200</th>\n",
       "      <td>What mountainous region of the world is the Lh...</td>\n",
       "      <td>4</td>\n",
       "    </tr>\n",
       "    <tr>\n",
       "      <th>1066</th>\n",
       "      <td>How many acres in a mile ?</td>\n",
       "      <td>5</td>\n",
       "    </tr>\n",
       "    <tr>\n",
       "      <th>2927</th>\n",
       "      <td>Which Latin American country is the largest ?</td>\n",
       "      <td>4</td>\n",
       "    </tr>\n",
       "    <tr>\n",
       "      <th>5274</th>\n",
       "      <td>What was the Long March in China ?</td>\n",
       "      <td>2</td>\n",
       "    </tr>\n",
       "    <tr>\n",
       "      <th>4603</th>\n",
       "      <td>What 12-hour cold medicine uses the formula ``...</td>\n",
       "      <td>1</td>\n",
       "    </tr>\n",
       "  </tbody>\n",
       "</table>\n",
       "</div>"
      ],
      "text/plain": [
       "                                                   text  coarse_label\n",
       "1200  What mountainous region of the world is the Lh...             4\n",
       "1066                         How many acres in a mile ?             5\n",
       "2927      Which Latin American country is the largest ?             4\n",
       "5274                 What was the Long March in China ?             2\n",
       "4603  What 12-hour cold medicine uses the formula ``...             1"
      ]
     },
     "execution_count": 20,
     "metadata": {},
     "output_type": "execute_result"
    }
   ],
   "source": [
    "initial_labeled_set.head() # so we fine_tune with the inital_labeled data"
   ]
  },
  {
   "cell_type": "code",
   "execution_count": 21,
   "metadata": {},
   "outputs": [
    {
     "data": {
      "text/plain": [
       "(272, 2)"
      ]
     },
     "execution_count": 21,
     "metadata": {},
     "output_type": "execute_result"
    }
   ],
   "source": [
    "initial_labeled_set.shape"
   ]
  },
  {
   "cell_type": "markdown",
   "metadata": {},
   "source": [
    "# "
   ]
  },
  {
   "cell_type": "code",
   "execution_count": 22,
   "metadata": {},
   "outputs": [],
   "source": [
    "def entropy_for_each_row(class_probabilities):\n",
    "    \"\"\" Calculate entropy for each row in the array \"\"\"\n",
    "    return -tf.reduce_sum(class_probabilities * tf.math.log(class_probabilities),axis=1)"
   ]
  },
  {
   "cell_type": "code",
   "execution_count": 25,
   "metadata": {},
   "outputs": [],
   "source": [
    "def predict_and_calculate_entropy(data):\n",
    "    \n",
    "    ''' \n",
    "    Predict and Calculate Entropy\n",
    "    \n",
    "    This function makes predictions using a pre-trained BERT model, calculates the entropy (uncertainty) of these predictions, \n",
    "    and creates a DataFrame containing relevant information.\n",
    "    \n",
    "    Args:\n",
    "        data (DataFrame): A Pandas DataFrame containing text data and associated labels. The DataFrame should have \n",
    "        columns 'text' for text data and 'coarse_label' for labels.\n",
    "\n",
    "    Returns:\n",
    "        final_df (DataFrame): A Pandas DataFrame containing the following columns:\n",
    "            - 'text': The original text data.\n",
    "            - 'predicted_Label': The predicted class labels based on the model's predictions.\n",
    "            - 'predicted_Probability': The maximum predicted probability for each instance.\n",
    "            - 'Entropy': The calculated entropy (uncertainty) for each instance.\n",
    "            - 'coarse_label': The original coarse labels from the input data. ''' \n",
    "\n",
    "    \n",
    "            \n",
    "    # Sample the Data \n",
    "    data_encodings = tokenizer(data['text'].to_list(), truncation=True, padding=True)\n",
    "    dataloader = DataLoader(data_encodings, data.coarse_label.to_list())\n",
    "\n",
    "    # Make predictions with class_probabilities and calculate entropy (uncertainty) \n",
    "    predictions = trainer.predict(dataloader)\n",
    "    prediction_probabilities = tf.constant(predictions.predictions)\n",
    "\n",
    "    # Predicted Labels \n",
    "    predicted_labels = predictions.predictions.argmax(axis=1)\n",
    "\n",
    "    \n",
    "    # Prediction probabilities, returning the highest probability for each instance\n",
    "    prediction_probabilities_max = np.amax(prediction_probabilities, axis=1)\n",
    "\n",
    "    # Calculate entropy for each instance\n",
    "    entropies = entropy_for_each_row(tf.nn.softmax(prediction_probabilities))\n",
    "\n",
    "    entropy_df = pd.DataFrame(\n",
    "        {'text' : data['text'].to_list(),\n",
    "         'predicted_Label': predicted_labels,\n",
    "         'predicted_Probability': prediction_probabilities_max,\n",
    "         'Entropy': entropies},\n",
    "        index=data.index\n",
    "    )\n",
    "\n",
    "    final_df = pd.concat([data['coarse_label'], entropy_df], axis=1)\n",
    "\n",
    "    return final_df.sort_values(by=['Entropy'],ascending=False)\n"
   ]
  },
  {
   "cell_type": "code",
   "execution_count": 27,
   "metadata": {},
   "outputs": [
    {
     "data": {
      "application/vnd.jupyter.widget-view+json": {
       "model_id": "613e3efd4d7a428db6a4993f0d131473",
       "version_major": 2,
       "version_minor": 0
      },
      "text/plain": [
       "  0%|          | 0/1 [00:00<?, ?it/s]"
      ]
     },
     "metadata": {},
     "output_type": "display_data"
    },
    {
     "data": {
      "application/vnd.jupyter.widget-view+json": {
       "model_id": "8c5686e9027044c7a293dfa529a83482",
       "version_major": 2,
       "version_minor": 0
      },
      "text/plain": [
       "  0%|          | 0/51 [00:00<?, ?it/s]"
      ]
     },
     "metadata": {},
     "output_type": "display_data"
    },
    {
     "name": "stdout",
     "output_type": "stream",
     "text": [
      "{'loss': 1.639, 'learning_rate': 2.5e-05, 'epoch': 2.94}\n"
     ]
    },
    {
     "data": {
      "application/vnd.jupyter.widget-view+json": {
       "model_id": "a85f2f1ecb814e229ee622b0034e6200",
       "version_major": 2,
       "version_minor": 0
      },
      "text/plain": [
       "  0%|          | 0/16 [00:00<?, ?it/s]"
      ]
     },
     "metadata": {},
     "output_type": "display_data"
    },
    {
     "name": "stdout",
     "output_type": "stream",
     "text": [
      "{'eval_loss': 1.4216967821121216, 'eval_Accuracy': 0.494, 'eval_F1': 0.3928242199506154, 'eval_Precision': 0.8155933619196695, 'eval_Recall': 0.41822098403844254, 'eval_runtime': 0.9826, 'eval_samples_per_second': 508.847, 'eval_steps_per_second': 16.283, 'epoch': 2.94}\n",
      "{'train_runtime': 9.6721, 'train_samples_per_second': 84.366, 'train_steps_per_second': 5.273, 'train_loss': 1.634072268710417, 'epoch': 3.0}\n"
     ]
    },
    {
     "data": {
      "application/vnd.jupyter.widget-view+json": {
       "model_id": "0b61defa736240668eaa1da2f1cac61c",
       "version_major": 2,
       "version_minor": 0
      },
      "text/plain": [
       "  0%|          | 0/16 [00:00<?, ?it/s]"
      ]
     },
     "metadata": {},
     "output_type": "display_data"
    },
    {
     "data": {
      "application/vnd.jupyter.widget-view+json": {
       "model_id": "23ad0e582eb643e7ad7b11806a9cbf17",
       "version_major": 2,
       "version_minor": 0
      },
      "text/plain": [
       "  0%|          | 0/1 [00:00<?, ?it/s]"
      ]
     },
     "metadata": {},
     "output_type": "display_data"
    },
    {
     "data": {
      "application/vnd.jupyter.widget-view+json": {
       "model_id": "812bd752877b49d4a288553682abcc54",
       "version_major": 2,
       "version_minor": 0
      },
      "text/plain": [
       "  0%|          | 0/51 [00:00<?, ?it/s]"
      ]
     },
     "metadata": {},
     "output_type": "display_data"
    },
    {
     "name": "stdout",
     "output_type": "stream",
     "text": [
      "{'loss': 1.1282, 'learning_rate': 2.5e-05, 'epoch': 2.94}\n"
     ]
    },
    {
     "data": {
      "application/vnd.jupyter.widget-view+json": {
       "model_id": "9ec002b8cb1a4a0d829c7096b2bdc980",
       "version_major": 2,
       "version_minor": 0
      },
      "text/plain": [
       "  0%|          | 0/16 [00:00<?, ?it/s]"
      ]
     },
     "metadata": {},
     "output_type": "display_data"
    },
    {
     "name": "stdout",
     "output_type": "stream",
     "text": [
      "{'eval_loss': 0.9728456139564514, 'eval_Accuracy': 0.776, 'eval_F1': 0.6652806570502763, 'eval_Precision': 0.8646894643024674, 'eval_Recall': 0.6639549247999762, 'eval_runtime': 0.9827, 'eval_samples_per_second': 508.828, 'eval_steps_per_second': 16.282, 'epoch': 2.94}\n",
      "{'train_runtime': 9.6811, 'train_samples_per_second': 84.288, 'train_steps_per_second': 5.268, 'train_loss': 1.1224161912413204, 'epoch': 3.0}\n"
     ]
    },
    {
     "data": {
      "application/vnd.jupyter.widget-view+json": {
       "model_id": "a61cf21e15394321943703fba88ddb1c",
       "version_major": 2,
       "version_minor": 0
      },
      "text/plain": [
       "  0%|          | 0/16 [00:00<?, ?it/s]"
      ]
     },
     "metadata": {},
     "output_type": "display_data"
    },
    {
     "data": {
      "application/vnd.jupyter.widget-view+json": {
       "model_id": "8a4fa85ec4024924a40399bd226ba71d",
       "version_major": 2,
       "version_minor": 0
      },
      "text/plain": [
       "  0%|          | 0/1 [00:00<?, ?it/s]"
      ]
     },
     "metadata": {},
     "output_type": "display_data"
    },
    {
     "data": {
      "application/vnd.jupyter.widget-view+json": {
       "model_id": "6e321d77221146c38a79c7b9db182b24",
       "version_major": 2,
       "version_minor": 0
      },
      "text/plain": [
       "  0%|          | 0/51 [00:00<?, ?it/s]"
      ]
     },
     "metadata": {},
     "output_type": "display_data"
    },
    {
     "name": "stdout",
     "output_type": "stream",
     "text": [
      "{'loss': 0.5741, 'learning_rate': 2.5e-05, 'epoch': 2.94}\n"
     ]
    },
    {
     "data": {
      "application/vnd.jupyter.widget-view+json": {
       "model_id": "639314e45b214ca7b0b26543657983fa",
       "version_major": 2,
       "version_minor": 0
      },
      "text/plain": [
       "  0%|          | 0/16 [00:00<?, ?it/s]"
      ]
     },
     "metadata": {},
     "output_type": "display_data"
    },
    {
     "name": "stdout",
     "output_type": "stream",
     "text": [
      "{'eval_loss': 0.6629984378814697, 'eval_Accuracy': 0.81, 'eval_F1': 0.6949725785794659, 'eval_Precision': 0.8739544710725279, 'eval_Recall': 0.705319266070628, 'eval_runtime': 0.9806, 'eval_samples_per_second': 509.879, 'eval_steps_per_second': 16.316, 'epoch': 2.94}\n",
      "{'train_runtime': 9.6827, 'train_samples_per_second': 84.274, 'train_steps_per_second': 5.267, 'train_loss': 0.569771914505491, 'epoch': 3.0}\n"
     ]
    },
    {
     "data": {
      "application/vnd.jupyter.widget-view+json": {
       "model_id": "eacb8a5b58644e2ab0c9d17e4cc3a709",
       "version_major": 2,
       "version_minor": 0
      },
      "text/plain": [
       "  0%|          | 0/16 [00:00<?, ?it/s]"
      ]
     },
     "metadata": {},
     "output_type": "display_data"
    },
    {
     "data": {
      "application/vnd.jupyter.widget-view+json": {
       "model_id": "6c7cbacf3b9b4a6ba6d50a1bc9365dd4",
       "version_major": 2,
       "version_minor": 0
      },
      "text/plain": [
       "  0%|          | 0/1 [00:00<?, ?it/s]"
      ]
     },
     "metadata": {},
     "output_type": "display_data"
    },
    {
     "data": {
      "application/vnd.jupyter.widget-view+json": {
       "model_id": "165ad1c5324045d0ae9d58dfb33d0b01",
       "version_major": 2,
       "version_minor": 0
      },
      "text/plain": [
       "  0%|          | 0/51 [00:00<?, ?it/s]"
      ]
     },
     "metadata": {},
     "output_type": "display_data"
    },
    {
     "name": "stdout",
     "output_type": "stream",
     "text": [
      "{'loss': 0.1744, 'learning_rate': 2.5e-05, 'epoch': 2.94}\n"
     ]
    },
    {
     "data": {
      "application/vnd.jupyter.widget-view+json": {
       "model_id": "b157fda73c804348914d0b3c2bf3c704",
       "version_major": 2,
       "version_minor": 0
      },
      "text/plain": [
       "  0%|          | 0/16 [00:00<?, ?it/s]"
      ]
     },
     "metadata": {},
     "output_type": "display_data"
    },
    {
     "name": "stdout",
     "output_type": "stream",
     "text": [
      "{'eval_loss': 0.9743455648422241, 'eval_Accuracy': 0.726, 'eval_F1': 0.6274641947593117, 'eval_Precision': 0.8429173037639096, 'eval_Recall': 0.655110870783338, 'eval_runtime': 0.975, 'eval_samples_per_second': 512.843, 'eval_steps_per_second': 16.411, 'epoch': 2.94}\n",
      "{'train_runtime': 9.8075, 'train_samples_per_second': 83.202, 'train_steps_per_second': 5.2, 'train_loss': 0.1735630637290431, 'epoch': 3.0}\n"
     ]
    },
    {
     "data": {
      "application/vnd.jupyter.widget-view+json": {
       "model_id": "b73e7030b193418e860c5fdbce9f7638",
       "version_major": 2,
       "version_minor": 0
      },
      "text/plain": [
       "  0%|          | 0/16 [00:00<?, ?it/s]"
      ]
     },
     "metadata": {},
     "output_type": "display_data"
    },
    {
     "data": {
      "application/vnd.jupyter.widget-view+json": {
       "model_id": "f818f91f715c46b1b96c558162352b30",
       "version_major": 2,
       "version_minor": 0
      },
      "text/plain": [
       "  0%|          | 0/1 [00:00<?, ?it/s]"
      ]
     },
     "metadata": {},
     "output_type": "display_data"
    },
    {
     "data": {
      "application/vnd.jupyter.widget-view+json": {
       "model_id": "2610d365f465409a944ae4b3e339612d",
       "version_major": 2,
       "version_minor": 0
      },
      "text/plain": [
       "  0%|          | 0/51 [00:00<?, ?it/s]"
      ]
     },
     "metadata": {},
     "output_type": "display_data"
    },
    {
     "name": "stdout",
     "output_type": "stream",
     "text": [
      "{'loss': 0.0528, 'learning_rate': 2.5e-05, 'epoch': 2.94}\n"
     ]
    },
    {
     "data": {
      "application/vnd.jupyter.widget-view+json": {
       "model_id": "76a56804c2a44a7eb770c780bbd148e1",
       "version_major": 2,
       "version_minor": 0
      },
      "text/plain": [
       "  0%|          | 0/16 [00:00<?, ?it/s]"
      ]
     },
     "metadata": {},
     "output_type": "display_data"
    },
    {
     "name": "stdout",
     "output_type": "stream",
     "text": [
      "{'eval_loss': 0.6855534911155701, 'eval_Accuracy': 0.814, 'eval_F1': 0.7291367924945215, 'eval_Precision': 0.877298100943694, 'eval_Recall': 0.731212818960789, 'eval_runtime': 0.965, 'eval_samples_per_second': 518.126, 'eval_steps_per_second': 16.58, 'epoch': 2.94}\n",
      "{'train_runtime': 9.6236, 'train_samples_per_second': 84.791, 'train_steps_per_second': 5.299, 'train_loss': 0.05249164531043932, 'epoch': 3.0}\n"
     ]
    },
    {
     "data": {
      "application/vnd.jupyter.widget-view+json": {
       "model_id": "454a8582f82041d2a34eb469aa5760f0",
       "version_major": 2,
       "version_minor": 0
      },
      "text/plain": [
       "  0%|          | 0/16 [00:00<?, ?it/s]"
      ]
     },
     "metadata": {},
     "output_type": "display_data"
    },
    {
     "data": {
      "application/vnd.jupyter.widget-view+json": {
       "model_id": "d5b76a6f8aef475c8a9079b43f3ce195",
       "version_major": 2,
       "version_minor": 0
      },
      "text/plain": [
       "  0%|          | 0/1 [00:00<?, ?it/s]"
      ]
     },
     "metadata": {},
     "output_type": "display_data"
    },
    {
     "data": {
      "application/vnd.jupyter.widget-view+json": {
       "model_id": "5a487b31c5b048f092f736ba510c1c66",
       "version_major": 2,
       "version_minor": 0
      },
      "text/plain": [
       "  0%|          | 0/51 [00:00<?, ?it/s]"
      ]
     },
     "metadata": {},
     "output_type": "display_data"
    },
    {
     "name": "stdout",
     "output_type": "stream",
     "text": [
      "{'loss': 0.0191, 'learning_rate': 2.5e-05, 'epoch': 2.94}\n"
     ]
    },
    {
     "data": {
      "application/vnd.jupyter.widget-view+json": {
       "model_id": "8818d33fc2f44faab87449b8186789d9",
       "version_major": 2,
       "version_minor": 0
      },
      "text/plain": [
       "  0%|          | 0/16 [00:00<?, ?it/s]"
      ]
     },
     "metadata": {},
     "output_type": "display_data"
    },
    {
     "name": "stdout",
     "output_type": "stream",
     "text": [
      "{'eval_loss': 0.5756201148033142, 'eval_Accuracy': 0.858, 'eval_F1': 0.729221162492612, 'eval_Precision': 0.8962287152029932, 'eval_Recall': 0.739684832171213, 'eval_runtime': 0.9649, 'eval_samples_per_second': 518.178, 'eval_steps_per_second': 16.582, 'epoch': 2.94}\n",
      "{'train_runtime': 9.6363, 'train_samples_per_second': 84.68, 'train_steps_per_second': 5.292, 'train_loss': 0.018874393922148968, 'epoch': 3.0}\n"
     ]
    },
    {
     "data": {
      "application/vnd.jupyter.widget-view+json": {
       "model_id": "6b45ba0fbc5c475bba2822481359e12a",
       "version_major": 2,
       "version_minor": 0
      },
      "text/plain": [
       "  0%|          | 0/16 [00:00<?, ?it/s]"
      ]
     },
     "metadata": {},
     "output_type": "display_data"
    },
    {
     "data": {
      "application/vnd.jupyter.widget-view+json": {
       "model_id": "af0607ac94bc43499cca395b0ca48339",
       "version_major": 2,
       "version_minor": 0
      },
      "text/plain": [
       "  0%|          | 0/1 [00:00<?, ?it/s]"
      ]
     },
     "metadata": {},
     "output_type": "display_data"
    },
    {
     "data": {
      "application/vnd.jupyter.widget-view+json": {
       "model_id": "edd41a4fa38c433b8c03f633cec0c536",
       "version_major": 2,
       "version_minor": 0
      },
      "text/plain": [
       "  0%|          | 0/51 [00:00<?, ?it/s]"
      ]
     },
     "metadata": {},
     "output_type": "display_data"
    },
    {
     "name": "stdout",
     "output_type": "stream",
     "text": [
      "{'loss': 0.0107, 'learning_rate': 2.5e-05, 'epoch': 2.94}\n"
     ]
    },
    {
     "data": {
      "application/vnd.jupyter.widget-view+json": {
       "model_id": "ad06ca5f333e4c3991010b7d0e19fc15",
       "version_major": 2,
       "version_minor": 0
      },
      "text/plain": [
       "  0%|          | 0/16 [00:00<?, ?it/s]"
      ]
     },
     "metadata": {},
     "output_type": "display_data"
    },
    {
     "name": "stdout",
     "output_type": "stream",
     "text": [
      "{'eval_loss': 0.4611596167087555, 'eval_Accuracy': 0.908, 'eval_F1': 0.867510433934957, 'eval_Precision': 0.9098252718796013, 'eval_Recall': 0.8459475901252927, 'eval_runtime': 0.9719, 'eval_samples_per_second': 514.456, 'eval_steps_per_second': 16.463, 'epoch': 2.94}\n",
      "{'train_runtime': 9.6407, 'train_samples_per_second': 84.641, 'train_steps_per_second': 5.29, 'train_loss': 0.010557608331973646, 'epoch': 3.0}\n"
     ]
    },
    {
     "data": {
      "application/vnd.jupyter.widget-view+json": {
       "model_id": "9c777ecbf0434463bafb9394303dc05f",
       "version_major": 2,
       "version_minor": 0
      },
      "text/plain": [
       "  0%|          | 0/16 [00:00<?, ?it/s]"
      ]
     },
     "metadata": {},
     "output_type": "display_data"
    },
    {
     "data": {
      "application/vnd.jupyter.widget-view+json": {
       "model_id": "ad07e93913784eeb8fb997d78baada82",
       "version_major": 2,
       "version_minor": 0
      },
      "text/plain": [
       "  0%|          | 0/1 [00:00<?, ?it/s]"
      ]
     },
     "metadata": {},
     "output_type": "display_data"
    },
    {
     "data": {
      "application/vnd.jupyter.widget-view+json": {
       "model_id": "03679812c0d14c5fb6c26d96c1caae30",
       "version_major": 2,
       "version_minor": 0
      },
      "text/plain": [
       "  0%|          | 0/51 [00:00<?, ?it/s]"
      ]
     },
     "metadata": {},
     "output_type": "display_data"
    },
    {
     "name": "stdout",
     "output_type": "stream",
     "text": [
      "{'loss': 0.0036, 'learning_rate': 2.5e-05, 'epoch': 2.94}\n"
     ]
    },
    {
     "data": {
      "application/vnd.jupyter.widget-view+json": {
       "model_id": "88afafb0dec142c4bdd75a17872fb681",
       "version_major": 2,
       "version_minor": 0
      },
      "text/plain": [
       "  0%|          | 0/16 [00:00<?, ?it/s]"
      ]
     },
     "metadata": {},
     "output_type": "display_data"
    },
    {
     "name": "stdout",
     "output_type": "stream",
     "text": [
      "{'eval_loss': 0.47675150632858276, 'eval_Accuracy': 0.908, 'eval_F1': 0.8926915539130037, 'eval_Precision': 0.9294088722172195, 'eval_Recall': 0.8714286378257426, 'eval_runtime': 0.9759, 'eval_samples_per_second': 512.358, 'eval_steps_per_second': 16.395, 'epoch': 2.94}\n",
      "{'train_runtime': 9.6398, 'train_samples_per_second': 84.649, 'train_steps_per_second': 5.291, 'train_loss': 0.0035955255951586307, 'epoch': 3.0}\n"
     ]
    },
    {
     "data": {
      "application/vnd.jupyter.widget-view+json": {
       "model_id": "aa3103e103af457488e16877c3aa6ece",
       "version_major": 2,
       "version_minor": 0
      },
      "text/plain": [
       "  0%|          | 0/16 [00:00<?, ?it/s]"
      ]
     },
     "metadata": {},
     "output_type": "display_data"
    },
    {
     "data": {
      "application/vnd.jupyter.widget-view+json": {
       "model_id": "ee3ec909cbe343c08920af0e956add97",
       "version_major": 2,
       "version_minor": 0
      },
      "text/plain": [
       "  0%|          | 0/1 [00:00<?, ?it/s]"
      ]
     },
     "metadata": {},
     "output_type": "display_data"
    },
    {
     "data": {
      "application/vnd.jupyter.widget-view+json": {
       "model_id": "b2fa1bdda9cf4aea9a23b8c7b6b7c21e",
       "version_major": 2,
       "version_minor": 0
      },
      "text/plain": [
       "  0%|          | 0/51 [00:00<?, ?it/s]"
      ]
     },
     "metadata": {},
     "output_type": "display_data"
    },
    {
     "name": "stdout",
     "output_type": "stream",
     "text": [
      "{'loss': 0.0016, 'learning_rate': 2.5e-05, 'epoch': 2.94}\n"
     ]
    },
    {
     "data": {
      "application/vnd.jupyter.widget-view+json": {
       "model_id": "08298686d84d4230a9acec494cae0ad9",
       "version_major": 2,
       "version_minor": 0
      },
      "text/plain": [
       "  0%|          | 0/16 [00:00<?, ?it/s]"
      ]
     },
     "metadata": {},
     "output_type": "display_data"
    },
    {
     "name": "stdout",
     "output_type": "stream",
     "text": [
      "{'eval_loss': 0.46972447633743286, 'eval_Accuracy': 0.92, 'eval_F1': 0.890672389520886, 'eval_Precision': 0.9165250405275575, 'eval_Recall': 0.8722519335588373, 'eval_runtime': 0.9681, 'eval_samples_per_second': 516.5, 'eval_steps_per_second': 16.528, 'epoch': 2.94}\n",
      "{'train_runtime': 9.6431, 'train_samples_per_second': 84.62, 'train_steps_per_second': 5.289, 'train_loss': 0.0015557863813477988, 'epoch': 3.0}\n"
     ]
    },
    {
     "data": {
      "application/vnd.jupyter.widget-view+json": {
       "model_id": "59aac49ffe1f4f6eb37833d18489816b",
       "version_major": 2,
       "version_minor": 0
      },
      "text/plain": [
       "  0%|          | 0/16 [00:00<?, ?it/s]"
      ]
     },
     "metadata": {},
     "output_type": "display_data"
    },
    {
     "data": {
      "application/vnd.jupyter.widget-view+json": {
       "model_id": "efb5797d753540eb80ca025635d6f7b2",
       "version_major": 2,
       "version_minor": 0
      },
      "text/plain": [
       "  0%|          | 0/1 [00:00<?, ?it/s]"
      ]
     },
     "metadata": {},
     "output_type": "display_data"
    },
    {
     "data": {
      "application/vnd.jupyter.widget-view+json": {
       "model_id": "b5d254bca8e14dc1be66aee02ee6b9a2",
       "version_major": 2,
       "version_minor": 0
      },
      "text/plain": [
       "  0%|          | 0/51 [00:00<?, ?it/s]"
      ]
     },
     "metadata": {},
     "output_type": "display_data"
    },
    {
     "name": "stdout",
     "output_type": "stream",
     "text": [
      "{'loss': 0.0006, 'learning_rate': 2.5e-05, 'epoch': 2.94}\n"
     ]
    },
    {
     "data": {
      "application/vnd.jupyter.widget-view+json": {
       "model_id": "fb0710a4e0724b328dbfc256aa9229c1",
       "version_major": 2,
       "version_minor": 0
      },
      "text/plain": [
       "  0%|          | 0/16 [00:00<?, ?it/s]"
      ]
     },
     "metadata": {},
     "output_type": "display_data"
    },
    {
     "name": "stdout",
     "output_type": "stream",
     "text": [
      "{'eval_loss': 0.49248242378234863, 'eval_Accuracy': 0.92, 'eval_F1': 0.8530576145079117, 'eval_Precision': 0.939355881294427, 'eval_Recall': 0.8242806145164936, 'eval_runtime': 0.976, 'eval_samples_per_second': 512.292, 'eval_steps_per_second': 16.393, 'epoch': 2.94}\n",
      "{'train_runtime': 9.655, 'train_samples_per_second': 84.516, 'train_steps_per_second': 5.282, 'train_loss': 0.0006095839449770603, 'epoch': 3.0}\n"
     ]
    },
    {
     "data": {
      "application/vnd.jupyter.widget-view+json": {
       "model_id": "1d4bc0c61cc54d939793d1b21e9ff707",
       "version_major": 2,
       "version_minor": 0
      },
      "text/plain": [
       "  0%|          | 0/16 [00:00<?, ?it/s]"
      ]
     },
     "metadata": {},
     "output_type": "display_data"
    }
   ],
   "source": [
    "# Initialize empty lists to store metrics for each iteration\n",
    "accuracy_list = []\n",
    "precision_list = []\n",
    "recall_list = []\n",
    "loss_list = []\n",
    "x_labels = []\n",
    "n = 0\n",
    "\n",
    "for iteration in range(10):\n",
    "    \n",
    "    sample_data = data.sample(n=10,random_state=42)\n",
    "    data.drop(sample_data.index,inplace = True)\n",
    "    entropy_prob_df = predict_and_calculate_entropy(sample_data)\n",
    "\n",
    "    #Let now apply active learning\n",
    "    text_encoding = tokenizer(entropy_prob_df['text'].to_list(),truncation=True,padding=True)\n",
    "    sample_dataloader = DataLoader(test_encodings, entropy_prob_df.coarse_label.to_list())\n",
    "\n",
    "    #test_df \n",
    "    test_encodings = tokenizer(test_df['text'].to_list(),truncation=True,padding=True)\n",
    "    test_dataloader = DataLoader(test_encodings, test_df.coarse_label.to_list())\n",
    "\n",
    "    trainer = Trainer(\n",
    "        #the pre-trained bert model that will be fine-tuned\n",
    "        model=model,\n",
    "        #training arguments that we defined above\n",
    "        args=training_args,\n",
    "        train_dataset= train_dataloader,\n",
    "        eval_dataset = test_dataloader,\n",
    "        compute_metrics= compute_metrics\n",
    "    )\n",
    "\n",
    "    trainer.train()\n",
    "\n",
    "    metrics = trainer.evaluate()\n",
    "\n",
    "    n += 10\n",
    "\n",
    "    accuracy_list.append(metrics['eval_Accuracy'])\n",
    "    precision_list.append(metrics['eval_Precision'])\n",
    "    recall_list.append(metrics['eval_Recall'])\n",
    "    loss_list.append(metrics['eval_loss'])\n",
    "    x_labels.append(n)\n",
    "\n",
    "\n",
    "\n",
    "    \n",
    "    "
   ]
  },
  {
   "cell_type": "code",
   "execution_count": 28,
   "metadata": {},
   "outputs": [
    {
     "data": {
      "image/png": "[encoded data removed]",
      "text/plain": [
       "<Figure size 1600x600 with 3 Axes>"
      ]
     },
     "metadata": {},
     "output_type": "display_data"
    }
   ],
   "source": [
    "# Plot the metrics\n",
    "plt.figure(figsize=(16, 6))\n",
    "plt.subplot(1, 3, 1)\n",
    "plt.plot(x_labels, accuracy_list, marker='o')\n",
    "plt.title('Accuracy Over Iterations')\n",
    "plt.xlabel('Number of Samples')\n",
    "plt.ylabel('Accuracy')\n",
    "\n",
    "plt.subplot(1, 3, 2)\n",
    "plt.plot(x_labels, precision_list, marker='o')\n",
    "plt.title('Precision Over Iterations')\n",
    "plt.xlabel('Number of Samples')\n",
    "plt.ylabel('Precision')\n",
    "\n",
    "plt.subplot(1, 3, 3)\n",
    "plt.plot(x_labels, recall_list, marker='o')\n",
    "plt.title('Recall Over Iterations')\n",
    "plt.xlabel('Number of Samples')\n",
    "plt.ylabel('Recall')\n",
    "\n",
    "plt.tight_layout()\n",
    "plt.show()"
   ]
  },
  {
   "cell_type": "code",
   "execution_count": 30,
   "metadata": {},
   "outputs": [
    {
     "data": {
      "application/vnd.jupyter.widget-view+json": {
       "model_id": "850179d364744fba83aa4e484a7c7b33",
       "version_major": 2,
       "version_minor": 0
      },
      "text/plain": [
       "  0%|          | 0/16 [00:00<?, ?it/s]"
      ]
     },
     "metadata": {},
     "output_type": "display_data"
    },
    {
     "name": "stdout",
     "output_type": "stream",
     "text": [
      "accuracy 92.0% \n"
     ]
    }
   ],
   "source": [
    "predictions = trainer.predict(test_dataloader)\n",
    "predicted_labels = predictions.predictions.argmax(axis=1)\n",
    "accuracy = accuracy_score(test_df['coarse_label'].to_list(),predicted_labels)\n",
    "print('accuracy {}% '.format(np.round(accuracy * 100)))\n"
   ]
  },
  {
   "cell_type": "markdown",
   "metadata": {},
   "source": [
    "# Confusion Matrix"
   ]
  },
  {
   "cell_type": "code",
   "execution_count": null,
   "metadata": {},
   "outputs": [],
   "source": []
  },
  {
   "cell_type": "code",
   "execution_count": null,
   "metadata": {},
   "outputs": [],
   "source": []
  }
 ],
 "metadata": {
  "kernelspec": {
   "display_name": "base",
   "language": "python",
   "name": "python3"
  },
  "language_info": {
   "codemirror_mode": {
    "name": "ipython",
    "version": 3
   },
   "file_extension": ".py",
   "mimetype": "text/x-python",
   "name": "python",
   "nbconvert_exporter": "python",
   "pygments_lexer": "ipython3",
   "version": "3.10.13"
  }
 },
 "nbformat": 4,
 "nbformat_minor": 2
}
