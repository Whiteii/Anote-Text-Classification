{
 "cells": [
  {
   "cell_type": "code",
   "execution_count": null,
   "metadata": {},
   "outputs": [],
   "source": [
    "import pandas as pd\n",
    "import matplotlib.pyplot as plt\n",
    "\n"
   ]
  },
  {
   "cell_type": "code",
   "execution_count": null,
   "metadata": {},
   "outputs": [],
   "source": [
    "bert_label_accuracies = pd.read_csv('Banking_Data_Label_Accuracies.csv')\n",
    "rnn_label_accuracies = pd.read_csv('RNN_labels_metrics_result.csv')\n",
    "ft_gpt_label_accuracies = pd.read_csv('ft_coarse_label_labels_metrics_results.csv')\n",
    "sefit_label_accuracies = pd.read_csv('setfit_label_acc.csv')"
   ]
  },
  {
   "cell_type": "code",
   "execution_count": null,
   "metadata": {},
   "outputs": [],
   "source": [
    "sefit_label_accuracies"
   ]
  },
  {
   "cell_type": "markdown",
   "metadata": {},
   "source": [
    "#  Accuracy, Precision, Recall Comparison Plot"
   ]
  },
  {
   "cell_type": "code",
   "execution_count": null,
   "metadata": {},
   "outputs": [],
   "source": [
    "import matplotlib.pyplot as plt\n",
    "\n",
    "plt.figure(figsize=(15, 5))\n",
    "\n",
    "# Plot Accuracy\n",
    "plt.subplot(1, 3, 1)\n",
    "plt.plot(bert_label_accuracies['Labels'], bert_label_accuracies['accuracy'], label='BERT', marker='o', linestyle='-', color='skyblue', linewidth=2)\n",
    "plt.plot(ft_gpt_label_accuracies['Labels'], ft_gpt_label_accuracies['accuracy'], label='FT-GPT', marker='^', linestyle='-', color='coral', linewidth=2)\n",
    "plt.plot(sefit_label_accuracies['Label'], sefit_label_accuracies['Accuracy'], label='Sefit', marker='^', linestyle='-.', color='lightcoral', linewidth=2)\n",
    "\n",
    "plt.xlabel('Labels')\n",
    "plt.ylabel('Accuracy')\n",
    "plt.title('Accuracy Comparison')\n",
    "plt.legend()\n",
    "\n",
    "# Plot Precision\n",
    "plt.subplot(1, 3, 2)\n",
    "plt.plot(bert_label_accuracies['Labels'], bert_label_accuracies['precision'], label='BERT', marker='o', linestyle='-', color='skyblue', linewidth=2)\n",
    "plt.plot(ft_gpt_label_accuracies['Labels'], ft_gpt_label_accuracies['precision'], label='FT-GPT', marker='^', linestyle='-', color='coral', linewidth=2)\n",
    "plt.plot(sefit_label_accuracies['Label'], sefit_label_accuracies['Precision'], label='Sefit', marker='^', linestyle='-.', color='lightcoral', linewidth=2)\n",
    "\n",
    "plt.xlabel('Labels')\n",
    "plt.ylabel('Precision')\n",
    "plt.title('Precision Comparison')\n",
    "plt.legend()\n",
    "\n",
    "# Plot Recall\n",
    "plt.subplot(1, 3, 3)\n",
    "plt.plot(bert_label_accuracies['Labels'], bert_label_accuracies['recall'], label='BERT', marker='o', linestyle='-', color='skyblue', linewidth=2)\n",
    "plt.plot(ft_gpt_label_accuracies['Labels'], ft_gpt_label_accuracies['recall'], label='FT-GPT', marker='^', linestyle='-', color='coral', linewidth=2)\n",
    "plt.plot(sefit_label_accuracies['Label'], sefit_label_accuracies['Recall'], label='Sefit', marker='^', linestyle='-.', color='lightcoral', linewidth=2)\n",
    "\n",
    "plt.xlabel('Labels')\n",
    "plt.ylabel('Recall')\n",
    "plt.title('Recall Comparison')\n",
    "plt.legend()\n",
    "\n",
    "plt.suptitle('Performance Comparison on TREC Dataset')\n",
    "\n",
    "plt.tight_layout()\n",
    "plt.show()\n",
    "\n"
   ]
  }
 ],
 "metadata": {
  "kernelspec": {
   "display_name": "Anote_AI",
   "language": "python",
   "name": "python3"
  },
  "language_info": {
   "codemirror_mode": {
    "name": "ipython",
    "version": 3
   },
   "file_extension": ".py",
   "mimetype": "text/x-python",
   "name": "python",
   "nbconvert_exporter": "python",
   "pygments_lexer": "ipython3",
   "version": "3.10.13"
  }
 },
 "nbformat": 4,
 "nbformat_minor": 2
}
