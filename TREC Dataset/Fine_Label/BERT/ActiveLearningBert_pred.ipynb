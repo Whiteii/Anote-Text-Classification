{
 "cells": [
  {
   "cell_type": "code",
   "execution_count": 1,
   "metadata": {},
   "outputs": [],
   "source": [
    "import pandas as pd\n",
    "from datasets import load_dataset\n",
    "import matplotlib.pyplot as plt\n",
    "import torch, os\n",
    "from torch.utils.data import Dataset\n",
    "from ipywidgets import interact \n",
    "import seaborn as sns\n",
    "from transformers import BertTokenizerFast, BertForSequenceClassification, TrainingArguments, Trainer\n",
    "from sklearn.model_selection import train_test_split\n",
    "from sklearn.metrics import accuracy_score, precision_recall_fscore_support\n",
    "import tensorflow as tf\n",
    "import numpy as np"
   ]
  },
  {
   "cell_type": "code",
   "execution_count": 2,
   "metadata": {},
   "outputs": [
    {
     "data": {
      "text/plain": [
       "'2.1.0'"
      ]
     },
     "execution_count": 2,
     "metadata": {},
     "output_type": "execute_result"
    }
   ],
   "source": [
    "torch.__version__"
   ]
  },
  {
   "cell_type": "markdown",
   "metadata": {},
   "source": [
    "# Loading Data"
   ]
  },
  {
   "cell_type": "code",
   "execution_count": 3,
   "metadata": {},
   "outputs": [],
   "source": [
    "dataset = load_dataset(\"trec\")\n",
    "train_dataset = dataset['train']\n",
    "test_dataset = dataset['test']"
   ]
  },
  {
   "cell_type": "code",
   "execution_count": 4,
   "metadata": {},
   "outputs": [],
   "source": [
    "train_df = pd.DataFrame({'text' : train_dataset['text'], 'fine_label' : train_dataset['fine_label']})\n",
    "test_df = pd.DataFrame({'text' : test_dataset['text'], 'fine_label' : test_dataset['fine_label']})"
   ]
  },
  {
   "cell_type": "code",
   "execution_count": 5,
   "metadata": {},
   "outputs": [
    {
     "data": {
      "text/html": [
       "<div>\n",
       "<style scoped>\n",
       "    .dataframe tbody tr th:only-of-type {\n",
       "        vertical-align: middle;\n",
       "    }\n",
       "\n",
       "    .dataframe tbody tr th {\n",
       "        vertical-align: top;\n",
       "    }\n",
       "\n",
       "    .dataframe thead th {\n",
       "        text-align: right;\n",
       "    }\n",
       "</style>\n",
       "<table border=\"1\" class=\"dataframe\">\n",
       "  <thead>\n",
       "    <tr style=\"text-align: right;\">\n",
       "      <th></th>\n",
       "      <th>text</th>\n",
       "      <th>fine_label</th>\n",
       "    </tr>\n",
       "  </thead>\n",
       "  <tbody>\n",
       "    <tr>\n",
       "      <th>0</th>\n",
       "      <td>How did serfdom develop in and then leave Russ...</td>\n",
       "      <td>26</td>\n",
       "    </tr>\n",
       "    <tr>\n",
       "      <th>1</th>\n",
       "      <td>What films featured the character Popeye Doyle ?</td>\n",
       "      <td>5</td>\n",
       "    </tr>\n",
       "    <tr>\n",
       "      <th>2</th>\n",
       "      <td>How can I find a list of celebrities ' real na...</td>\n",
       "      <td>26</td>\n",
       "    </tr>\n",
       "    <tr>\n",
       "      <th>3</th>\n",
       "      <td>What fowl grabs the spotlight after the Chines...</td>\n",
       "      <td>2</td>\n",
       "    </tr>\n",
       "    <tr>\n",
       "      <th>4</th>\n",
       "      <td>What is the full form of .com ?</td>\n",
       "      <td>1</td>\n",
       "    </tr>\n",
       "  </tbody>\n",
       "</table>\n",
       "</div>"
      ],
      "text/plain": [
       "                                                text  fine_label\n",
       "0  How did serfdom develop in and then leave Russ...          26\n",
       "1   What films featured the character Popeye Doyle ?           5\n",
       "2  How can I find a list of celebrities ' real na...          26\n",
       "3  What fowl grabs the spotlight after the Chines...           2\n",
       "4                    What is the full form of .com ?           1"
      ]
     },
     "execution_count": 5,
     "metadata": {},
     "output_type": "execute_result"
    }
   ],
   "source": [
    "train_df.head()"
   ]
  },
  {
   "cell_type": "code",
   "execution_count": 10,
   "metadata": {},
   "outputs": [],
   "source": [
    "from sklearn.model_selection import train_test_split\n",
    "initial_labeled_set, pool = train_test_split(train_df, test_size=0.95, stratify=train_df['fine_label'])"
   ]
  },
  {
   "cell_type": "code",
   "execution_count": 11,
   "metadata": {},
   "outputs": [
    {
     "data": {
      "text/html": [
       "<div>\n",
       "<style scoped>\n",
       "    .dataframe tbody tr th:only-of-type {\n",
       "        vertical-align: middle;\n",
       "    }\n",
       "\n",
       "    .dataframe tbody tr th {\n",
       "        vertical-align: top;\n",
       "    }\n",
       "\n",
       "    .dataframe thead th {\n",
       "        text-align: right;\n",
       "    }\n",
       "</style>\n",
       "<table border=\"1\" class=\"dataframe\">\n",
       "  <thead>\n",
       "    <tr style=\"text-align: right;\">\n",
       "      <th></th>\n",
       "      <th>text</th>\n",
       "      <th>fine_label</th>\n",
       "    </tr>\n",
       "  </thead>\n",
       "  <tbody>\n",
       "    <tr>\n",
       "      <th>3419</th>\n",
       "      <td>What substance did Joseph Priestley name for i...</td>\n",
       "      <td>18</td>\n",
       "    </tr>\n",
       "    <tr>\n",
       "      <th>1881</th>\n",
       "      <td>How many presidents have died on the 4th of Ju...</td>\n",
       "      <td>38</td>\n",
       "    </tr>\n",
       "    <tr>\n",
       "      <th>4995</th>\n",
       "      <td>How do I contact Answers.com direct ?</td>\n",
       "      <td>26</td>\n",
       "    </tr>\n",
       "    <tr>\n",
       "      <th>3378</th>\n",
       "      <td>How do you build a solar car for a high school...</td>\n",
       "      <td>26</td>\n",
       "    </tr>\n",
       "    <tr>\n",
       "      <th>1989</th>\n",
       "      <td>Which two products use a tiger as their symbol ?</td>\n",
       "      <td>15</td>\n",
       "    </tr>\n",
       "    <tr>\n",
       "      <th>...</th>\n",
       "      <td>...</td>\n",
       "      <td>...</td>\n",
       "    </tr>\n",
       "    <tr>\n",
       "      <th>1760</th>\n",
       "      <td>What city in the U.S. experienced the most gro...</td>\n",
       "      <td>32</td>\n",
       "    </tr>\n",
       "    <tr>\n",
       "      <th>5263</th>\n",
       "      <td>What President had never held an elected offic...</td>\n",
       "      <td>29</td>\n",
       "    </tr>\n",
       "    <tr>\n",
       "      <th>4936</th>\n",
       "      <td>What 's the name of Pittsburgh 's baseball team ?</td>\n",
       "      <td>28</td>\n",
       "    </tr>\n",
       "    <tr>\n",
       "      <th>2245</th>\n",
       "      <td>What are the environmental influences on plant...</td>\n",
       "      <td>25</td>\n",
       "    </tr>\n",
       "    <tr>\n",
       "      <th>1280</th>\n",
       "      <td>Which Bourbon king was restored to the French ...</td>\n",
       "      <td>29</td>\n",
       "    </tr>\n",
       "  </tbody>\n",
       "</table>\n",
       "<p>272 rows × 2 columns</p>\n",
       "</div>"
      ],
      "text/plain": [
       "                                                   text  fine_label\n",
       "3419  What substance did Joseph Priestley name for i...          18\n",
       "1881  How many presidents have died on the 4th of Ju...          38\n",
       "4995              How do I contact Answers.com direct ?          26\n",
       "3378  How do you build a solar car for a high school...          26\n",
       "1989   Which two products use a tiger as their symbol ?          15\n",
       "...                                                 ...         ...\n",
       "1760  What city in the U.S. experienced the most gro...          32\n",
       "5263  What President had never held an elected offic...          29\n",
       "4936  What 's the name of Pittsburgh 's baseball team ?          28\n",
       "2245  What are the environmental influences on plant...          25\n",
       "1280  Which Bourbon king was restored to the French ...          29\n",
       "\n",
       "[272 rows x 2 columns]"
      ]
     },
     "execution_count": 11,
     "metadata": {},
     "output_type": "execute_result"
    }
   ],
   "source": [
    "initial_labeled_set"
   ]
  },
  {
   "cell_type": "markdown",
   "metadata": {},
   "source": [
    "# Spliting Data into train_encodings, test_encodings"
   ]
  },
  {
   "cell_type": "code",
   "execution_count": 12,
   "metadata": {},
   "outputs": [],
   "source": [
    "tokenizer = BertTokenizerFast.from_pretrained(\"bert-base-uncased\", max_length=512)"
   ]
  },
  {
   "cell_type": "code",
   "execution_count": 14,
   "metadata": {},
   "outputs": [],
   "source": [
    "train_encodings = tokenizer(initial_labeled_set['text'].to_list(), truncation=True, padding=True)\n",
    "test_encodings = tokenizer(test_df['text'].to_list(), truncation=True, padding=True)\n",
    "train_labels = initial_labeled_set.fine_label.to_list()\n",
    "test_labels = test_df.fine_label.to_list()"
   ]
  },
  {
   "cell_type": "code",
   "execution_count": 17,
   "metadata": {},
   "outputs": [],
   "source": [
    "num_labels = 50\n",
    "label_to_id = {\n",
    "    'Abbreviation': 0,\n",
    "    'Expression abbreviated': 1,\n",
    "    'Animal': 2,\n",
    "    'Organ of body': 3,\n",
    "    'Color': 4,\n",
    "    'Invention, book and other creative piece': 5,\n",
    "    'Currency name': 6,\n",
    "    'Disease and medicine': 7,\n",
    "    'Event': 8,\n",
    "    'Food': 9,\n",
    "    'Musical instrument': 10,\n",
    "    'Language': 11,\n",
    "    'Letter like a-z': 12,\n",
    "    'Other entity': 13,\n",
    "    'Plant': 14,\n",
    "    'Product': 15,\n",
    "    'Religion': 16,\n",
    "    'Sport': 17,\n",
    "    'Element and substance': 18,\n",
    "    'Symbols and sign': 19,\n",
    "    'Techniques and method': 20,\n",
    "    'Equivalent term': 21,\n",
    "    'Vehicle': 22,\n",
    "    'Word with a special property': 23,\n",
    "    'Definition of something': 24,\n",
    "    'Description of something': 25,\n",
    "    'Manner of an action': 26,\n",
    "    'Reason': 27,\n",
    "    'Group or organization of persons': 28,\n",
    "    'Individual': 29,\n",
    "    'Title of a person': 30,\n",
    "    'Description of a person': 31,\n",
    "    'City': 32,\n",
    "    'Country': 33,\n",
    "    'Mountain': 34,\n",
    "    'Other location': 35,\n",
    "    'State': 36,\n",
    "    'Postcode or other code': 37,\n",
    "    'Number of something': 38,\n",
    "    'Date': 39,\n",
    "    'Distance, linear measure': 40,\n",
    "    'Price': 41,\n",
    "    'Order, rank': 42,\n",
    "    'Other number': 43,\n",
    "    'Lasting time of something': 44,\n",
    "    'Percent, fraction': 45,\n",
    "    'Speed': 46,\n",
    "    'Temperature': 47,\n",
    "    'Size, area and volume': 48,\n",
    "    'Weight': 49\n",
    "}\n",
    "\n",
    "\n",
    "\n",
    "id_to_label = {value : key for key, value in label_to_id.items()} "
   ]
  },
  {
   "cell_type": "code",
   "execution_count": 19,
   "metadata": {},
   "outputs": [
    {
     "name": "stderr",
     "output_type": "stream",
     "text": [
      "Some weights of BertForSequenceClassification were not initialized from the model checkpoint at bert-base-uncased and are newly initialized: ['classifier.weight', 'classifier.bias']\n",
      "You should probably TRAIN this model on a down-stream task to be able to use it for predictions and inference.\n"
     ]
    }
   ],
   "source": [
    "model = BertForSequenceClassification.from_pretrained('bert-base-uncased', num_labels=50, id2label = id_to_label, label2id = label_to_id)"
   ]
  },
  {
   "cell_type": "markdown",
   "metadata": {},
   "source": [
    "### TrainingArguments, Dataloader, Metrics are needed to construct this Fine-tune the model"
   ]
  },
  {
   "cell_type": "code",
   "execution_count": 20,
   "metadata": {},
   "outputs": [],
   "source": [
    "training_args = TrainingArguments(\n",
    "    output_dir='./BERTModel2',\n",
    "    do_train=True,\n",
    "    do_eval=True,\n",
    "    num_train_epochs=7,  # Reduced number of epochs.\n",
    "    per_device_train_batch_size=10,  # Reduced batch size for training.\n",
    "    per_device_eval_batch_size=35,  # Reduced batch size for evaluation.\n",
    "    warmup_steps=100,\n",
    "    weight_decay=0.01,\n",
    "    logging_strategy='steps',\n",
    "    logging_dir='./multi-class-logs',\n",
    "    logging_steps=50,\n",
    "    evaluation_strategy=\"steps\",\n",
    "    eval_steps=50,\n",
    "    save_strategy=\"steps\",\n",
    "    #fp16=True,  # Enable mixed precision training.\n",
    ")"
   ]
  },
  {
   "cell_type": "code",
   "execution_count": 21,
   "metadata": {},
   "outputs": [],
   "source": [
    "class DataLoader(Dataset):\n",
    "    def __init__(self, encodings, labels):\n",
    "        self.encodings = encodings\n",
    "        self.labels = labels\n",
    "    def __getitem__(self, idx):\n",
    "        \"\"\"\n",
    "          This construct a dict that is (index position) to encoding pairs.\n",
    "          Where the Encoding becomes tensor(Encoding), which is an requirements\n",
    "          for training the model\n",
    "        \"\"\"\n",
    "        item = {key: torch.tensor(val[idx]) for key, val in self.encodings.items()}\n",
    "        item['labels'] = torch.tensor(self.labels[idx])\n",
    "        return item\n",
    "    def __len__(self):\n",
    "        \"\"\"\n",
    "        Returns the number of data items in the dataset.\n",
    "\n",
    "        \"\"\"\n",
    "        return len(self.labels)"
   ]
  },
  {
   "cell_type": "code",
   "execution_count": 22,
   "metadata": {},
   "outputs": [],
   "source": [
    "def compute_metrics(pred):\n",
    "    \n",
    "    ''' \n",
    "    Compute Metrics\n",
    "\n",
    "    This function computes various classification metrics based on the model's predictions and true labels, \n",
    "    including accuracy, F1 score, precision, and recall.\n",
    "\n",
    "    Args:\n",
    "        pred: A prediction object containing the true labels and predicted probabilities.\n",
    "\n",
    "    Returns:\n",
    "        metrics (dict): A dictionary containing the computed metrics:\n",
    "            - 'Accuracy': The accuracy of the model's predictions.\n",
    "            - 'F1': The macro F1 score.\n",
    "            - 'Precision': The macro precision score.\n",
    "            - 'Recall': The macro recall score.'''\n",
    "\n",
    "\n",
    "    # Extract true labels from the input object\n",
    "    labels = pred.label_ids\n",
    "\n",
    "    # Obtain predicted class labels by finding the column index with the maximum probability\n",
    "    preds = pred.predictions.argmax(-1)\n",
    "\n",
    "    # Compute macro precision, recall, and F1 score using sklearn's precision_recall_fscore_support function\n",
    "    precision, recall, f1, _ = precision_recall_fscore_support(labels, preds, average='macro',zero_division=1)\n",
    "\n",
    "    # Calculate the accuracy score using sklearn's accuracy_score function\n",
    "    acc = accuracy_score(labels, preds)\n",
    "\n",
    "    # Return the computed metrics as a dictionary\n",
    "    return {\n",
    "        'Accuracy': acc,\n",
    "        'F1': f1,\n",
    "        'Precision': precision,\n",
    "        'Recall': recall\n",
    "    }"
   ]
  },
  {
   "cell_type": "markdown",
   "metadata": {},
   "source": [
    "# Calling our Dataloader"
   ]
  },
  {
   "cell_type": "code",
   "execution_count": 23,
   "metadata": {},
   "outputs": [],
   "source": [
    "train_dataloader = DataLoader(train_encodings,train_labels)\n",
    "test_dataloader = DataLoader(test_encodings,test_labels)"
   ]
  },
  {
   "cell_type": "code",
   "execution_count": 24,
   "metadata": {},
   "outputs": [],
   "source": [
    "trainer = Trainer(\n",
    "    #the pre-trained bert model that will be fine-tuned\n",
    "    model=model,\n",
    "    #training arguments that we defined above\n",
    "    args=training_args,\n",
    "    train_dataset= train_dataloader,\n",
    "    eval_dataset = test_dataloader,\n",
    "    compute_metrics= compute_metrics\n",
    ")"
   ]
  },
  {
   "cell_type": "markdown",
   "metadata": {},
   "source": [
    "#  Evaluate the prediction accuracy of our model on the dataset without training or fine-tuning it"
   ]
  },
  {
   "cell_type": "code",
   "execution_count": 25,
   "metadata": {},
   "outputs": [
    {
     "data": {
      "application/vnd.jupyter.widget-view+json": {
       "model_id": "4b53947895824d41b60e4a4b35897ada",
       "version_major": 2,
       "version_minor": 0
      },
      "text/plain": [
       "  0%|          | 0/15 [00:00<?, ?it/s]"
      ]
     },
     "metadata": {},
     "output_type": "display_data"
    }
   ],
   "source": [
    "predictions = trainer.predict(test_dataloader)\n"
   ]
  },
  {
   "cell_type": "code",
   "execution_count": 26,
   "metadata": {},
   "outputs": [],
   "source": [
    "predicted_labels = predictions.predictions.argmax(axis=1)\n"
   ]
  },
  {
   "cell_type": "code",
   "execution_count": 27,
   "metadata": {},
   "outputs": [],
   "source": [
    "probabilities = tf.nn.softmax(predictions.predictions[0] )\n"
   ]
  },
  {
   "cell_type": "code",
   "execution_count": 28,
   "metadata": {},
   "outputs": [
    {
     "data": {
      "text/plain": [
       "<tf.Tensor: shape=(50,), dtype=float32, numpy=\n",
       "array([0.0258021 , 0.02351519, 0.01634781, 0.01217542, 0.01281465,\n",
       "       0.02467192, 0.01745019, 0.02862006, 0.02317018, 0.02026442,\n",
       "       0.01641606, 0.01196124, 0.01917081, 0.02404782, 0.0164109 ,\n",
       "       0.03274611, 0.01481279, 0.02823277, 0.01496903, 0.01616346,\n",
       "       0.02938391, 0.02112618, 0.01320469, 0.01681057, 0.0199845 ,\n",
       "       0.02903154, 0.03009969, 0.01858445, 0.01943723, 0.02181489,\n",
       "       0.02354941, 0.02026298, 0.02413838, 0.01618954, 0.02288279,\n",
       "       0.02695143, 0.01176999, 0.01272145, 0.01823958, 0.01937616,\n",
       "       0.03034929, 0.02105668, 0.01222542, 0.01295799, 0.01940037,\n",
       "       0.02326288, 0.01679388, 0.02428768, 0.0105029 , 0.01384072],\n",
       "      dtype=float32)>"
      ]
     },
     "execution_count": 28,
     "metadata": {},
     "output_type": "execute_result"
    }
   ],
   "source": [
    "probabilities"
   ]
  },
  {
   "cell_type": "markdown",
   "metadata": {},
   "source": [
    "## An Active Learning Approach Based On Uncertain Sampling"
   ]
  },
  {
   "cell_type": "code",
   "execution_count": 29,
   "metadata": {},
   "outputs": [
    {
     "data": {
      "text/html": [
       "<div>\n",
       "<style scoped>\n",
       "    .dataframe tbody tr th:only-of-type {\n",
       "        vertical-align: middle;\n",
       "    }\n",
       "\n",
       "    .dataframe tbody tr th {\n",
       "        vertical-align: top;\n",
       "    }\n",
       "\n",
       "    .dataframe thead th {\n",
       "        text-align: right;\n",
       "    }\n",
       "</style>\n",
       "<table border=\"1\" class=\"dataframe\">\n",
       "  <thead>\n",
       "    <tr style=\"text-align: right;\">\n",
       "      <th></th>\n",
       "      <th>text</th>\n",
       "      <th>fine_label</th>\n",
       "    </tr>\n",
       "  </thead>\n",
       "  <tbody>\n",
       "    <tr>\n",
       "      <th>3419</th>\n",
       "      <td>What substance did Joseph Priestley name for i...</td>\n",
       "      <td>18</td>\n",
       "    </tr>\n",
       "    <tr>\n",
       "      <th>1881</th>\n",
       "      <td>How many presidents have died on the 4th of Ju...</td>\n",
       "      <td>38</td>\n",
       "    </tr>\n",
       "    <tr>\n",
       "      <th>4995</th>\n",
       "      <td>How do I contact Answers.com direct ?</td>\n",
       "      <td>26</td>\n",
       "    </tr>\n",
       "    <tr>\n",
       "      <th>3378</th>\n",
       "      <td>How do you build a solar car for a high school...</td>\n",
       "      <td>26</td>\n",
       "    </tr>\n",
       "    <tr>\n",
       "      <th>1989</th>\n",
       "      <td>Which two products use a tiger as their symbol ?</td>\n",
       "      <td>15</td>\n",
       "    </tr>\n",
       "  </tbody>\n",
       "</table>\n",
       "</div>"
      ],
      "text/plain": [
       "                                                   text  fine_label\n",
       "3419  What substance did Joseph Priestley name for i...          18\n",
       "1881  How many presidents have died on the 4th of Ju...          38\n",
       "4995              How do I contact Answers.com direct ?          26\n",
       "3378  How do you build a solar car for a high school...          26\n",
       "1989   Which two products use a tiger as their symbol ?          15"
      ]
     },
     "execution_count": 29,
     "metadata": {},
     "output_type": "execute_result"
    }
   ],
   "source": [
    "initial_labeled_set.head() # so we fine_tune with the inital_labeled data"
   ]
  },
  {
   "cell_type": "code",
   "execution_count": 30,
   "metadata": {},
   "outputs": [
    {
     "data": {
      "text/plain": [
       "(272, 2)"
      ]
     },
     "execution_count": 30,
     "metadata": {},
     "output_type": "execute_result"
    }
   ],
   "source": [
    "initial_labeled_set.shape"
   ]
  },
  {
   "cell_type": "markdown",
   "metadata": {},
   "source": [
    "# "
   ]
  },
  {
   "cell_type": "code",
   "execution_count": 31,
   "metadata": {},
   "outputs": [],
   "source": [
    "def entropy_for_each_row(class_probabilities):\n",
    "    \"\"\" Calculate entropy for each row in the array \"\"\"\n",
    "    return -tf.reduce_sum(class_probabilities * tf.math.log(class_probabilities),axis=1)"
   ]
  },
  {
   "cell_type": "code",
   "execution_count": 39,
   "metadata": {},
   "outputs": [],
   "source": [
    "def predict_and_calculate_entropy(data):\n",
    "    \n",
    "    ''' \n",
    "    Predict and Calculate Entropy\n",
    "    \n",
    "    This function makes predictions using a pre-trained BERT model, calculates the entropy (uncertainty) of these predictions, \n",
    "    and creates a DataFrame containing relevant information.\n",
    "    \n",
    "    Args:\n",
    "        data (DataFrame): A Pandas DataFrame containing text data and associated labels. The DataFrame should have \n",
    "        columns 'text' for text data and 'coarse_label' for labels.\n",
    "\n",
    "    Returns:\n",
    "        final_df (DataFrame): A Pandas DataFrame containing the following columns:\n",
    "            - 'text': The original text data.\n",
    "            - 'predicted_Label': The predicted class labels based on the model's predictions.\n",
    "            - 'predicted_Probability': The maximum predicted probability for each instance.\n",
    "            - 'Entropy': The calculated entropy (uncertainty) for each instance.\n",
    "            - 'coarse_label': The original coarse labels from the input data. ''' \n",
    "\n",
    "    \n",
    "            \n",
    "    # Sample the Data \n",
    "    data_encodings = tokenizer(data['text'].to_list(), truncation=True, padding=True)\n",
    "    dataloader = DataLoader(data_encodings, data.fine_label.to_list())\n",
    "\n",
    "    # Make predictions with class_probabilities and calculate entropy (uncertainty) \n",
    "    predictions = trainer.predict(dataloader)\n",
    "    prediction_probabilities = tf.constant(predictions.predictions)\n",
    "\n",
    "    # Predicted Labels \n",
    "    predicted_labels = predictions.predictions.argmax(axis=1)\n",
    "\n",
    "    \n",
    "    # Prediction probabilities, returning the highest probability for each instance\n",
    "    prediction_probabilities_max = np.amax(prediction_probabilities, axis=1)\n",
    "\n",
    "    # Calculate entropy for each instance\n",
    "    entropies = entropy_for_each_row(tf.nn.softmax(prediction_probabilities))\n",
    "\n",
    "    entropy_df = pd.DataFrame(\n",
    "        {'text' : data['text'].to_list(),\n",
    "         'predicted_Label': predicted_labels,\n",
    "         'predicted_Probability': prediction_probabilities_max,\n",
    "         'Entropy': entropies},\n",
    "        index=data.index\n",
    "    )\n",
    "\n",
    "    final_df = pd.concat([data['fine_label'], entropy_df], axis=1)\n",
    "\n",
    "    return final_df.sort_values(by=['Entropy'],ascending=False)\n"
   ]
  },
  {
   "cell_type": "code",
   "execution_count": 40,
   "metadata": {},
   "outputs": [
    {
     "data": {
      "text/plain": [
       "-0.5929439081622787"
      ]
     },
     "execution_count": 40,
     "metadata": {},
     "output_type": "execute_result"
    }
   ],
   "source": [
    "test_df['fine_label'].skew()"
   ]
  },
  {
   "cell_type": "markdown",
   "metadata": {},
   "source": [
    "# Simulated Active Learning"
   ]
  },
  {
   "cell_type": "code",
   "execution_count": 41,
   "metadata": {},
   "outputs": [],
   "source": [
    "initial_labeled_set = test_df"
   ]
  },
  {
   "cell_type": "code",
   "execution_count": 42,
   "metadata": {},
   "outputs": [
    {
     "data": {
      "text/html": [
       "<div>\n",
       "<style scoped>\n",
       "    .dataframe tbody tr th:only-of-type {\n",
       "        vertical-align: middle;\n",
       "    }\n",
       "\n",
       "    .dataframe tbody tr th {\n",
       "        vertical-align: top;\n",
       "    }\n",
       "\n",
       "    .dataframe thead th {\n",
       "        text-align: right;\n",
       "    }\n",
       "</style>\n",
       "<table border=\"1\" class=\"dataframe\">\n",
       "  <thead>\n",
       "    <tr style=\"text-align: right;\">\n",
       "      <th></th>\n",
       "      <th>text</th>\n",
       "      <th>fine_label</th>\n",
       "    </tr>\n",
       "  </thead>\n",
       "  <tbody>\n",
       "    <tr>\n",
       "      <th>0</th>\n",
       "      <td>How far is it from Denver to Aspen ?</td>\n",
       "      <td>40</td>\n",
       "    </tr>\n",
       "    <tr>\n",
       "      <th>1</th>\n",
       "      <td>What county is Modesto , California in ?</td>\n",
       "      <td>32</td>\n",
       "    </tr>\n",
       "    <tr>\n",
       "      <th>2</th>\n",
       "      <td>Who was Galileo ?</td>\n",
       "      <td>31</td>\n",
       "    </tr>\n",
       "    <tr>\n",
       "      <th>3</th>\n",
       "      <td>What is an atom ?</td>\n",
       "      <td>24</td>\n",
       "    </tr>\n",
       "    <tr>\n",
       "      <th>4</th>\n",
       "      <td>When did Hawaii become a state ?</td>\n",
       "      <td>39</td>\n",
       "    </tr>\n",
       "    <tr>\n",
       "      <th>...</th>\n",
       "      <td>...</td>\n",
       "      <td>...</td>\n",
       "    </tr>\n",
       "    <tr>\n",
       "      <th>495</th>\n",
       "      <td>Who was the 22nd President of the US ?</td>\n",
       "      <td>29</td>\n",
       "    </tr>\n",
       "    <tr>\n",
       "      <th>496</th>\n",
       "      <td>What is the money they use in Zambia ?</td>\n",
       "      <td>6</td>\n",
       "    </tr>\n",
       "    <tr>\n",
       "      <th>497</th>\n",
       "      <td>How many feet in a mile ?</td>\n",
       "      <td>38</td>\n",
       "    </tr>\n",
       "    <tr>\n",
       "      <th>498</th>\n",
       "      <td>What is the birthstone of October ?</td>\n",
       "      <td>18</td>\n",
       "    </tr>\n",
       "    <tr>\n",
       "      <th>499</th>\n",
       "      <td>What is e-coli ?</td>\n",
       "      <td>24</td>\n",
       "    </tr>\n",
       "  </tbody>\n",
       "</table>\n",
       "<p>500 rows × 2 columns</p>\n",
       "</div>"
      ],
      "text/plain": [
       "                                         text  fine_label\n",
       "0        How far is it from Denver to Aspen ?          40\n",
       "1    What county is Modesto , California in ?          32\n",
       "2                           Who was Galileo ?          31\n",
       "3                           What is an atom ?          24\n",
       "4            When did Hawaii become a state ?          39\n",
       "..                                        ...         ...\n",
       "495    Who was the 22nd President of the US ?          29\n",
       "496    What is the money they use in Zambia ?           6\n",
       "497                 How many feet in a mile ?          38\n",
       "498       What is the birthstone of October ?          18\n",
       "499                          What is e-coli ?          24\n",
       "\n",
       "[500 rows x 2 columns]"
      ]
     },
     "execution_count": 42,
     "metadata": {},
     "output_type": "execute_result"
    }
   ],
   "source": [
    "initial_labeled_set"
   ]
  },
  {
   "cell_type": "code",
   "execution_count": 43,
   "metadata": {},
   "outputs": [
    {
     "data": {
      "application/vnd.jupyter.widget-view+json": {
       "model_id": "44124acb0f0b45da88aaa7986930b897",
       "version_major": 2,
       "version_minor": 0
      },
      "text/plain": [
       "  0%|          | 0/15 [00:00<?, ?it/s]"
      ]
     },
     "metadata": {},
     "output_type": "display_data"
    }
   ],
   "source": [
    "hundreds_rows_pred = predict_and_calculate_entropy(initial_labeled_set)"
   ]
  },
  {
   "cell_type": "code",
   "execution_count": 44,
   "metadata": {},
   "outputs": [
    {
     "data": {
      "text/html": [
       "<div>\n",
       "<style scoped>\n",
       "    .dataframe tbody tr th:only-of-type {\n",
       "        vertical-align: middle;\n",
       "    }\n",
       "\n",
       "    .dataframe tbody tr th {\n",
       "        vertical-align: top;\n",
       "    }\n",
       "\n",
       "    .dataframe thead th {\n",
       "        text-align: right;\n",
       "    }\n",
       "</style>\n",
       "<table border=\"1\" class=\"dataframe\">\n",
       "  <thead>\n",
       "    <tr style=\"text-align: right;\">\n",
       "      <th></th>\n",
       "      <th>fine_label</th>\n",
       "      <th>text</th>\n",
       "      <th>predicted_Label</th>\n",
       "      <th>predicted_Probability</th>\n",
       "      <th>Entropy</th>\n",
       "    </tr>\n",
       "  </thead>\n",
       "  <tbody>\n",
       "    <tr>\n",
       "      <th>158</th>\n",
       "      <td>35</td>\n",
       "      <td>In the late 1700 's British convicts were used...</td>\n",
       "      <td>40</td>\n",
       "      <td>0.596739</td>\n",
       "      <td>3.878440</td>\n",
       "    </tr>\n",
       "    <tr>\n",
       "      <th>318</th>\n",
       "      <td>13</td>\n",
       "      <td>What are the two types of twins ?</td>\n",
       "      <td>15</td>\n",
       "      <td>0.612430</td>\n",
       "      <td>3.877137</td>\n",
       "    </tr>\n",
       "    <tr>\n",
       "      <th>299</th>\n",
       "      <td>4</td>\n",
       "      <td>What color is a giraffe 's tongue ?</td>\n",
       "      <td>15</td>\n",
       "      <td>0.581302</td>\n",
       "      <td>3.875459</td>\n",
       "    </tr>\n",
       "    <tr>\n",
       "      <th>154</th>\n",
       "      <td>28</td>\n",
       "      <td>What baseball team was the first to make numbe...</td>\n",
       "      <td>20</td>\n",
       "      <td>0.500323</td>\n",
       "      <td>3.875252</td>\n",
       "    </tr>\n",
       "    <tr>\n",
       "      <th>454</th>\n",
       "      <td>47</td>\n",
       "      <td>How cold should a refrigerator be ?</td>\n",
       "      <td>15</td>\n",
       "      <td>0.658486</td>\n",
       "      <td>3.875235</td>\n",
       "    </tr>\n",
       "    <tr>\n",
       "      <th>...</th>\n",
       "      <td>...</td>\n",
       "      <td>...</td>\n",
       "      <td>...</td>\n",
       "      <td>...</td>\n",
       "      <td>...</td>\n",
       "    </tr>\n",
       "    <tr>\n",
       "      <th>174</th>\n",
       "      <td>35</td>\n",
       "      <td>Where is the Shawnee National Forest ?</td>\n",
       "      <td>35</td>\n",
       "      <td>0.696515</td>\n",
       "      <td>3.835715</td>\n",
       "    </tr>\n",
       "    <tr>\n",
       "      <th>151</th>\n",
       "      <td>29</td>\n",
       "      <td>Who discovered radium ?</td>\n",
       "      <td>35</td>\n",
       "      <td>0.703612</td>\n",
       "      <td>3.835310</td>\n",
       "    </tr>\n",
       "    <tr>\n",
       "      <th>34</th>\n",
       "      <td>39</td>\n",
       "      <td>When did John F. Kennedy get elected as Presid...</td>\n",
       "      <td>35</td>\n",
       "      <td>0.713202</td>\n",
       "      <td>3.831922</td>\n",
       "    </tr>\n",
       "    <tr>\n",
       "      <th>82</th>\n",
       "      <td>29</td>\n",
       "      <td>Who was elected president of South Africa in 1...</td>\n",
       "      <td>35</td>\n",
       "      <td>0.690025</td>\n",
       "      <td>3.831551</td>\n",
       "    </tr>\n",
       "    <tr>\n",
       "      <th>62</th>\n",
       "      <td>35</td>\n",
       "      <td>What river flows between Fargo , North Dakota ...</td>\n",
       "      <td>35</td>\n",
       "      <td>0.755929</td>\n",
       "      <td>3.825450</td>\n",
       "    </tr>\n",
       "  </tbody>\n",
       "</table>\n",
       "<p>500 rows × 5 columns</p>\n",
       "</div>"
      ],
      "text/plain": [
       "     fine_label                                               text  \\\n",
       "158          35  In the late 1700 's British convicts were used...   \n",
       "318          13                  What are the two types of twins ?   \n",
       "299           4                What color is a giraffe 's tongue ?   \n",
       "154          28  What baseball team was the first to make numbe...   \n",
       "454          47                How cold should a refrigerator be ?   \n",
       "..          ...                                                ...   \n",
       "174          35             Where is the Shawnee National Forest ?   \n",
       "151          29                            Who discovered radium ?   \n",
       "34           39  When did John F. Kennedy get elected as Presid...   \n",
       "82           29  Who was elected president of South Africa in 1...   \n",
       "62           35  What river flows between Fargo , North Dakota ...   \n",
       "\n",
       "     predicted_Label  predicted_Probability   Entropy  \n",
       "158               40               0.596739  3.878440  \n",
       "318               15               0.612430  3.877137  \n",
       "299               15               0.581302  3.875459  \n",
       "154               20               0.500323  3.875252  \n",
       "454               15               0.658486  3.875235  \n",
       "..               ...                    ...       ...  \n",
       "174               35               0.696515  3.835715  \n",
       "151               35               0.703612  3.835310  \n",
       "34                35               0.713202  3.831922  \n",
       "82                35               0.690025  3.831551  \n",
       "62                35               0.755929  3.825450  \n",
       "\n",
       "[500 rows x 5 columns]"
      ]
     },
     "execution_count": 44,
     "metadata": {},
     "output_type": "execute_result"
    }
   ],
   "source": [
    "hundreds_rows_pred"
   ]
  },
  {
   "cell_type": "markdown",
   "metadata": {},
   "source": [
    "# Active Learning"
   ]
  },
  {
   "cell_type": "code",
   "execution_count": 46,
   "metadata": {},
   "outputs": [
    {
     "data": {
      "application/vnd.jupyter.widget-view+json": {
       "model_id": "af7effee1e9f47de91e33862038c30bf",
       "version_major": 2,
       "version_minor": 0
      },
      "text/plain": [
       "  0%|          | 0/7 [00:00<?, ?it/s]"
      ]
     },
     "metadata": {},
     "output_type": "display_data"
    },
    {
     "name": "stdout",
     "output_type": "stream",
     "text": [
      "{'train_runtime': 0.9682, 'train_samples_per_second': 72.299, 'train_steps_per_second': 7.23, 'train_loss': 3.994554247174944, 'epoch': 7.0}\n"
     ]
    },
    {
     "data": {
      "application/vnd.jupyter.widget-view+json": {
       "model_id": "eb7ce78bf84a43b79d09a2664a0d6bd1",
       "version_major": 2,
       "version_minor": 0
      },
      "text/plain": [
       "  0%|          | 0/15 [00:00<?, ?it/s]"
      ]
     },
     "metadata": {},
     "output_type": "display_data"
    },
    {
     "name": "stdout",
     "output_type": "stream",
     "text": [
      "eval_Accuracy : 0.046\n"
     ]
    },
    {
     "data": {
      "application/vnd.jupyter.widget-view+json": {
       "model_id": "84ee4826a950467f8a25be22187137dc",
       "version_major": 2,
       "version_minor": 0
      },
      "text/plain": [
       "  0%|          | 0/14 [00:00<?, ?it/s]"
      ]
     },
     "metadata": {},
     "output_type": "display_data"
    },
    {
     "name": "stdout",
     "output_type": "stream",
     "text": [
      "{'train_runtime': 1.4797, 'train_samples_per_second': 94.616, 'train_steps_per_second': 9.462, 'train_loss': 3.9430176871163503, 'epoch': 7.0}\n"
     ]
    },
    {
     "data": {
      "application/vnd.jupyter.widget-view+json": {
       "model_id": "0c2508a05fd44013b194e141eb78908b",
       "version_major": 2,
       "version_minor": 0
      },
      "text/plain": [
       "  0%|          | 0/15 [00:00<?, ?it/s]"
      ]
     },
     "metadata": {},
     "output_type": "display_data"
    },
    {
     "name": "stdout",
     "output_type": "stream",
     "text": [
      "eval_Accuracy : 0.058\n"
     ]
    },
    {
     "data": {
      "application/vnd.jupyter.widget-view+json": {
       "model_id": "6a4b096f3f1b41c7b510117b08c0a28b",
       "version_major": 2,
       "version_minor": 0
      },
      "text/plain": [
       "  0%|          | 0/21 [00:00<?, ?it/s]"
      ]
     },
     "metadata": {},
     "output_type": "display_data"
    },
    {
     "name": "stdout",
     "output_type": "stream",
     "text": [
      "{'train_runtime': 2.1408, 'train_samples_per_second': 98.096, 'train_steps_per_second': 9.81, 'train_loss': 3.7672217232840404, 'epoch': 7.0}\n"
     ]
    },
    {
     "data": {
      "application/vnd.jupyter.widget-view+json": {
       "model_id": "cc56f217f0e24362ade7b50946d4eb3a",
       "version_major": 2,
       "version_minor": 0
      },
      "text/plain": [
       "  0%|          | 0/15 [00:00<?, ?it/s]"
      ]
     },
     "metadata": {},
     "output_type": "display_data"
    },
    {
     "name": "stdout",
     "output_type": "stream",
     "text": [
      "eval_Accuracy : 0.036\n"
     ]
    },
    {
     "data": {
      "application/vnd.jupyter.widget-view+json": {
       "model_id": "bfaf2d6e779e4ff58d83eed75e6e362d",
       "version_major": 2,
       "version_minor": 0
      },
      "text/plain": [
       "  0%|          | 0/28 [00:00<?, ?it/s]"
      ]
     },
     "metadata": {},
     "output_type": "display_data"
    },
    {
     "name": "stdout",
     "output_type": "stream",
     "text": [
      "{'train_runtime': 2.8323, 'train_samples_per_second': 98.858, 'train_steps_per_second': 9.886, 'train_loss': 3.522611618041992, 'epoch': 7.0}\n"
     ]
    },
    {
     "data": {
      "application/vnd.jupyter.widget-view+json": {
       "model_id": "35a8eca7758f46a085ebcff48761a39b",
       "version_major": 2,
       "version_minor": 0
      },
      "text/plain": [
       "  0%|          | 0/15 [00:00<?, ?it/s]"
      ]
     },
     "metadata": {},
     "output_type": "display_data"
    },
    {
     "name": "stdout",
     "output_type": "stream",
     "text": [
      "eval_Accuracy : 0.106\n"
     ]
    },
    {
     "data": {
      "application/vnd.jupyter.widget-view+json": {
       "model_id": "391b50eaaad342f1960e0bb3573ac411",
       "version_major": 2,
       "version_minor": 0
      },
      "text/plain": [
       "  0%|          | 0/35 [00:00<?, ?it/s]"
      ]
     },
     "metadata": {},
     "output_type": "display_data"
    },
    {
     "name": "stdout",
     "output_type": "stream",
     "text": [
      "{'train_runtime': 3.6266, 'train_samples_per_second': 96.509, 'train_steps_per_second': 9.651, 'train_loss': 3.2330906459263393, 'epoch': 7.0}\n"
     ]
    },
    {
     "data": {
      "application/vnd.jupyter.widget-view+json": {
       "model_id": "34e839ef0d164c52855a2d782f82bb80",
       "version_major": 2,
       "version_minor": 0
      },
      "text/plain": [
       "  0%|          | 0/15 [00:00<?, ?it/s]"
      ]
     },
     "metadata": {},
     "output_type": "display_data"
    },
    {
     "name": "stdout",
     "output_type": "stream",
     "text": [
      "eval_Accuracy : 0.188\n"
     ]
    },
    {
     "data": {
      "application/vnd.jupyter.widget-view+json": {
       "model_id": "1a10efe7321c44af91c0afa0811a56e6",
       "version_major": 2,
       "version_minor": 0
      },
      "text/plain": [
       "  0%|          | 0/42 [00:00<?, ?it/s]"
      ]
     },
     "metadata": {},
     "output_type": "display_data"
    },
    {
     "name": "stdout",
     "output_type": "stream",
     "text": [
      "{'train_runtime': 4.4144, 'train_samples_per_second': 95.143, 'train_steps_per_second': 9.514, 'train_loss': 2.914369855608259, 'epoch': 7.0}\n"
     ]
    },
    {
     "data": {
      "application/vnd.jupyter.widget-view+json": {
       "model_id": "bfe60e91f65e4dbdaf33a452946469ed",
       "version_major": 2,
       "version_minor": 0
      },
      "text/plain": [
       "  0%|          | 0/15 [00:00<?, ?it/s]"
      ]
     },
     "metadata": {},
     "output_type": "display_data"
    },
    {
     "name": "stdout",
     "output_type": "stream",
     "text": [
      "eval_Accuracy : 0.264\n"
     ]
    },
    {
     "data": {
      "application/vnd.jupyter.widget-view+json": {
       "model_id": "bb753a30b23f4fcfb341ad5ae78980ea",
       "version_major": 2,
       "version_minor": 0
      },
      "text/plain": [
       "  0%|          | 0/49 [00:00<?, ?it/s]"
      ]
     },
     "metadata": {},
     "output_type": "display_data"
    },
    {
     "name": "stdout",
     "output_type": "stream",
     "text": [
      "{'train_runtime': 5.2452, 'train_samples_per_second': 93.418, 'train_steps_per_second': 9.342, 'train_loss': 2.6162551568478953, 'epoch': 7.0}\n"
     ]
    },
    {
     "data": {
      "application/vnd.jupyter.widget-view+json": {
       "model_id": "c120412ea9a242558b756979072d9ac3",
       "version_major": 2,
       "version_minor": 0
      },
      "text/plain": [
       "  0%|          | 0/15 [00:00<?, ?it/s]"
      ]
     },
     "metadata": {},
     "output_type": "display_data"
    },
    {
     "name": "stdout",
     "output_type": "stream",
     "text": [
      "eval_Accuracy : 0.26\n"
     ]
    },
    {
     "data": {
      "application/vnd.jupyter.widget-view+json": {
       "model_id": "85626e81ca554dfda60682dafc721267",
       "version_major": 2,
       "version_minor": 0
      },
      "text/plain": [
       "  0%|          | 0/56 [00:00<?, ?it/s]"
      ]
     },
     "metadata": {},
     "output_type": "display_data"
    },
    {
     "name": "stdout",
     "output_type": "stream",
     "text": [
      "{'loss': 2.2347, 'learning_rate': 2.5e-05, 'epoch': 6.25}\n"
     ]
    },
    {
     "data": {
      "application/vnd.jupyter.widget-view+json": {
       "model_id": "e76d28440ddf4e4db5c65ff44cc86759",
       "version_major": 2,
       "version_minor": 0
      },
      "text/plain": [
       "  0%|          | 0/15 [00:00<?, ?it/s]"
      ]
     },
     "metadata": {},
     "output_type": "display_data"
    },
    {
     "name": "stdout",
     "output_type": "stream",
     "text": [
      "{'eval_loss': 3.0882503986358643, 'eval_Accuracy': 0.332, 'eval_F1': 0.10854501331352234, 'eval_Precision': 0.902317739512396, 'eval_Recall': 0.15729858104858105, 'eval_runtime': 0.7604, 'eval_samples_per_second': 657.561, 'eval_steps_per_second': 19.727, 'epoch': 6.25}\n",
      "{'train_runtime': 6.757, 'train_samples_per_second': 82.877, 'train_steps_per_second': 8.288, 'train_loss': 2.1919349942888533, 'epoch': 7.0}\n"
     ]
    },
    {
     "data": {
      "application/vnd.jupyter.widget-view+json": {
       "model_id": "454564492dea452b8e3933b84bada252",
       "version_major": 2,
       "version_minor": 0
      },
      "text/plain": [
       "  0%|          | 0/15 [00:00<?, ?it/s]"
      ]
     },
     "metadata": {},
     "output_type": "display_data"
    },
    {
     "name": "stdout",
     "output_type": "stream",
     "text": [
      "eval_Accuracy : 0.358\n"
     ]
    },
    {
     "data": {
      "application/vnd.jupyter.widget-view+json": {
       "model_id": "27c6f72340ce4fa791f9e22d6ca576cd",
       "version_major": 2,
       "version_minor": 0
      },
      "text/plain": [
       "  0%|          | 0/63 [00:00<?, ?it/s]"
      ]
     },
     "metadata": {},
     "output_type": "display_data"
    },
    {
     "name": "stdout",
     "output_type": "stream",
     "text": [
      "{'loss': 1.8152, 'learning_rate': 2.5e-05, 'epoch': 5.56}\n"
     ]
    },
    {
     "data": {
      "application/vnd.jupyter.widget-view+json": {
       "model_id": "f2b83b2d66c74870a7f678ce5488f8f2",
       "version_major": 2,
       "version_minor": 0
      },
      "text/plain": [
       "  0%|          | 0/15 [00:00<?, ?it/s]"
      ]
     },
     "metadata": {},
     "output_type": "display_data"
    },
    {
     "name": "stdout",
     "output_type": "stream",
     "text": [
      "{'eval_loss': 2.751643657684326, 'eval_Accuracy': 0.394, 'eval_F1': 0.18819315570268638, 'eval_Precision': 0.9011186607550091, 'eval_Recall': 0.21851379440665153, 'eval_runtime': 0.7618, 'eval_samples_per_second': 656.315, 'eval_steps_per_second': 19.689, 'epoch': 5.56}\n",
      "{'train_runtime': 7.4867, 'train_samples_per_second': 84.149, 'train_steps_per_second': 8.415, 'train_loss': 1.7656853993733723, 'epoch': 7.0}\n"
     ]
    },
    {
     "data": {
      "application/vnd.jupyter.widget-view+json": {
       "model_id": "0ad9f1af54534abda63127a92a86d648",
       "version_major": 2,
       "version_minor": 0
      },
      "text/plain": [
       "  0%|          | 0/15 [00:00<?, ?it/s]"
      ]
     },
     "metadata": {},
     "output_type": "display_data"
    },
    {
     "name": "stdout",
     "output_type": "stream",
     "text": [
      "eval_Accuracy : 0.412\n"
     ]
    },
    {
     "data": {
      "application/vnd.jupyter.widget-view+json": {
       "model_id": "517c912da0324bae815afdb8cf27d9da",
       "version_major": 2,
       "version_minor": 0
      },
      "text/plain": [
       "  0%|          | 0/70 [00:00<?, ?it/s]"
      ]
     },
     "metadata": {},
     "output_type": "display_data"
    },
    {
     "name": "stdout",
     "output_type": "stream",
     "text": [
      "{'loss': 1.4347, 'learning_rate': 2.5e-05, 'epoch': 5.0}\n"
     ]
    },
    {
     "data": {
      "application/vnd.jupyter.widget-view+json": {
       "model_id": "d9155883ee034a168da27f87e5717193",
       "version_major": 2,
       "version_minor": 0
      },
      "text/plain": [
       "  0%|          | 0/15 [00:00<?, ?it/s]"
      ]
     },
     "metadata": {},
     "output_type": "display_data"
    },
    {
     "name": "stdout",
     "output_type": "stream",
     "text": [
      "{'eval_loss': 2.487318754196167, 'eval_Accuracy': 0.418, 'eval_F1': 0.2078652625282636, 'eval_Precision': 0.8688144644739866, 'eval_Recall': 0.25284274007706065, 'eval_runtime': 0.7629, 'eval_samples_per_second': 655.41, 'eval_steps_per_second': 19.662, 'epoch': 5.0}\n",
      "{'train_runtime': 8.1676, 'train_samples_per_second': 85.705, 'train_steps_per_second': 8.57, 'train_loss': 1.361130932399205, 'epoch': 7.0}\n"
     ]
    },
    {
     "data": {
      "application/vnd.jupyter.widget-view+json": {
       "model_id": "ffcd156f12b842899ee15f4ad44ecc83",
       "version_major": 2,
       "version_minor": 0
      },
      "text/plain": [
       "  0%|          | 0/15 [00:00<?, ?it/s]"
      ]
     },
     "metadata": {},
     "output_type": "display_data"
    },
    {
     "name": "stdout",
     "output_type": "stream",
     "text": [
      "eval_Accuracy : 0.468\n"
     ]
    },
    {
     "data": {
      "application/vnd.jupyter.widget-view+json": {
       "model_id": "6a98220636504a6781297469ea903f9e",
       "version_major": 2,
       "version_minor": 0
      },
      "text/plain": [
       "  0%|          | 0/77 [00:00<?, ?it/s]"
      ]
     },
     "metadata": {},
     "output_type": "display_data"
    },
    {
     "name": "stdout",
     "output_type": "stream",
     "text": [
      "{'loss': 1.087, 'learning_rate': 2.5e-05, 'epoch': 4.55}\n"
     ]
    },
    {
     "data": {
      "application/vnd.jupyter.widget-view+json": {
       "model_id": "869169321a9a469389fd140d7b7661ca",
       "version_major": 2,
       "version_minor": 0
      },
      "text/plain": [
       "  0%|          | 0/15 [00:00<?, ?it/s]"
      ]
     },
     "metadata": {},
     "output_type": "display_data"
    },
    {
     "name": "stdout",
     "output_type": "stream",
     "text": [
      "{'eval_loss': 1.871028184890747, 'eval_Accuracy': 0.64, 'eval_F1': 0.4008987239951044, 'eval_Precision': 0.8734480317956577, 'eval_Recall': 0.3955692104385484, 'eval_runtime': 0.7711, 'eval_samples_per_second': 648.412, 'eval_steps_per_second': 19.452, 'epoch': 4.55}\n",
      "{'train_runtime': 8.8867, 'train_samples_per_second': 86.646, 'train_steps_per_second': 8.665, 'train_loss': 1.0025349901868152, 'epoch': 7.0}\n"
     ]
    },
    {
     "data": {
      "application/vnd.jupyter.widget-view+json": {
       "model_id": "54e63e1fdfc4451fa92f09e266c6d483",
       "version_major": 2,
       "version_minor": 0
      },
      "text/plain": [
       "  0%|          | 0/15 [00:00<?, ?it/s]"
      ]
     },
     "metadata": {},
     "output_type": "display_data"
    },
    {
     "name": "stdout",
     "output_type": "stream",
     "text": [
      "eval_Accuracy : 0.676\n"
     ]
    },
    {
     "data": {
      "application/vnd.jupyter.widget-view+json": {
       "model_id": "717477a7487a4415a97d0c003293c2f5",
       "version_major": 2,
       "version_minor": 0
      },
      "text/plain": [
       "  0%|          | 0/84 [00:00<?, ?it/s]"
      ]
     },
     "metadata": {},
     "output_type": "display_data"
    },
    {
     "name": "stdout",
     "output_type": "stream",
     "text": [
      "{'loss': 0.7785, 'learning_rate': 2.5e-05, 'epoch': 4.17}\n"
     ]
    },
    {
     "data": {
      "application/vnd.jupyter.widget-view+json": {
       "model_id": "fbd6dbf64b1e447cbae908ce18e0a293",
       "version_major": 2,
       "version_minor": 0
      },
      "text/plain": [
       "  0%|          | 0/15 [00:00<?, ?it/s]"
      ]
     },
     "metadata": {},
     "output_type": "display_data"
    },
    {
     "name": "stdout",
     "output_type": "stream",
     "text": [
      "{'eval_loss': 1.4046698808670044, 'eval_Accuracy': 0.756, 'eval_F1': 0.45361142965410006, 'eval_Precision': 0.8500125528680371, 'eval_Recall': 0.4639480209427945, 'eval_runtime': 0.7586, 'eval_samples_per_second': 659.133, 'eval_steps_per_second': 19.774, 'epoch': 4.17}\n",
      "{'train_runtime': 9.5833, 'train_samples_per_second': 87.653, 'train_steps_per_second': 8.765, 'train_loss': 0.6925119218372163, 'epoch': 7.0}\n"
     ]
    },
    {
     "data": {
      "application/vnd.jupyter.widget-view+json": {
       "model_id": "0dc1b07421814a9c864a77da320aef9d",
       "version_major": 2,
       "version_minor": 0
      },
      "text/plain": [
       "  0%|          | 0/15 [00:00<?, ?it/s]"
      ]
     },
     "metadata": {},
     "output_type": "display_data"
    },
    {
     "name": "stdout",
     "output_type": "stream",
     "text": [
      "eval_Accuracy : 0.772\n"
     ]
    },
    {
     "data": {
      "application/vnd.jupyter.widget-view+json": {
       "model_id": "593a98c035f5446a891dd3e05384c79a",
       "version_major": 2,
       "version_minor": 0
      },
      "text/plain": [
       "  0%|          | 0/91 [00:00<?, ?it/s]"
      ]
     },
     "metadata": {},
     "output_type": "display_data"
    },
    {
     "name": "stdout",
     "output_type": "stream",
     "text": [
      "{'loss': 0.4577, 'learning_rate': 2.5e-05, 'epoch': 3.85}\n"
     ]
    },
    {
     "data": {
      "application/vnd.jupyter.widget-view+json": {
       "model_id": "5b67900953104ce0823e0733c7ec445c",
       "version_major": 2,
       "version_minor": 0
      },
      "text/plain": [
       "  0%|          | 0/15 [00:00<?, ?it/s]"
      ]
     },
     "metadata": {},
     "output_type": "display_data"
    },
    {
     "name": "stdout",
     "output_type": "stream",
     "text": [
      "{'eval_loss': 1.082638144493103, 'eval_Accuracy': 0.778, 'eval_F1': 0.5319351484952423, 'eval_Precision': 0.8901388726367216, 'eval_Recall': 0.5241855421646362, 'eval_runtime': 0.7714, 'eval_samples_per_second': 648.203, 'eval_steps_per_second': 19.446, 'epoch': 3.85}\n",
      "{'train_runtime': 10.4064, 'train_samples_per_second': 87.446, 'train_steps_per_second': 8.745, 'train_loss': 0.3855577615591196, 'epoch': 7.0}\n"
     ]
    },
    {
     "data": {
      "application/vnd.jupyter.widget-view+json": {
       "model_id": "2e7b5ea6100846ccb885ba51d4ae8d3e",
       "version_major": 2,
       "version_minor": 0
      },
      "text/plain": [
       "  0%|          | 0/15 [00:00<?, ?it/s]"
      ]
     },
     "metadata": {},
     "output_type": "display_data"
    },
    {
     "name": "stdout",
     "output_type": "stream",
     "text": [
      "eval_Accuracy : 0.792\n"
     ]
    },
    {
     "data": {
      "application/vnd.jupyter.widget-view+json": {
       "model_id": "ef13a73b7ae449f9bda1f0f53b1b80ce",
       "version_major": 2,
       "version_minor": 0
      },
      "text/plain": [
       "  0%|          | 0/98 [00:00<?, ?it/s]"
      ]
     },
     "metadata": {},
     "output_type": "display_data"
    },
    {
     "name": "stdout",
     "output_type": "stream",
     "text": [
      "{'loss': 0.2196, 'learning_rate': 2.5e-05, 'epoch': 3.57}\n"
     ]
    },
    {
     "data": {
      "application/vnd.jupyter.widget-view+json": {
       "model_id": "9ef98352ac1240b09f4a5231882f9419",
       "version_major": 2,
       "version_minor": 0
      },
      "text/plain": [
       "  0%|          | 0/15 [00:00<?, ?it/s]"
      ]
     },
     "metadata": {},
     "output_type": "display_data"
    },
    {
     "name": "stdout",
     "output_type": "stream",
     "text": [
      "{'eval_loss': 0.9647507071495056, 'eval_Accuracy': 0.804, 'eval_F1': 0.5508510212365076, 'eval_Precision': 0.8882217660981456, 'eval_Recall': 0.5508749976955553, 'eval_runtime': 0.7629, 'eval_samples_per_second': 655.374, 'eval_steps_per_second': 19.661, 'epoch': 3.57}\n",
      "{'train_runtime': 11.0701, 'train_samples_per_second': 88.526, 'train_steps_per_second': 8.853, 'train_loss': 0.1836093250586062, 'epoch': 7.0}\n"
     ]
    },
    {
     "data": {
      "application/vnd.jupyter.widget-view+json": {
       "model_id": "e7ddb669868444e697bd9dc49c9597fa",
       "version_major": 2,
       "version_minor": 0
      },
      "text/plain": [
       "  0%|          | 0/15 [00:00<?, ?it/s]"
      ]
     },
     "metadata": {},
     "output_type": "display_data"
    },
    {
     "name": "stdout",
     "output_type": "stream",
     "text": [
      "eval_Accuracy : 0.806\n"
     ]
    },
    {
     "data": {
      "application/vnd.jupyter.widget-view+json": {
       "model_id": "493385a0b77e4a08ac786ae83d0b20d1",
       "version_major": 2,
       "version_minor": 0
      },
      "text/plain": [
       "  0%|          | 0/105 [00:00<?, ?it/s]"
      ]
     },
     "metadata": {},
     "output_type": "display_data"
    },
    {
     "name": "stdout",
     "output_type": "stream",
     "text": [
      "{'loss': 0.1473, 'learning_rate': 2.5e-05, 'epoch': 3.33}\n"
     ]
    },
    {
     "data": {
      "application/vnd.jupyter.widget-view+json": {
       "model_id": "558f08cb92184ebeb7a1fb1b78157b84",
       "version_major": 2,
       "version_minor": 0
      },
      "text/plain": [
       "  0%|          | 0/15 [00:00<?, ?it/s]"
      ]
     },
     "metadata": {},
     "output_type": "display_data"
    },
    {
     "name": "stdout",
     "output_type": "stream",
     "text": [
      "{'eval_loss': 0.8873711228370667, 'eval_Accuracy': 0.812, 'eval_F1': 0.5607750700640242, 'eval_Precision': 0.8543043840912988, 'eval_Recall': 0.5787208026842173, 'eval_runtime': 0.7631, 'eval_samples_per_second': 655.252, 'eval_steps_per_second': 19.658, 'epoch': 3.33}\n",
      "{'loss': 0.0999, 'learning_rate': 5e-05, 'epoch': 6.67}\n"
     ]
    },
    {
     "data": {
      "application/vnd.jupyter.widget-view+json": {
       "model_id": "229b764a2d5e47889420572feac001f1",
       "version_major": 2,
       "version_minor": 0
      },
      "text/plain": [
       "  0%|          | 0/15 [00:00<?, ?it/s]"
      ]
     },
     "metadata": {},
     "output_type": "display_data"
    },
    {
     "name": "stdout",
     "output_type": "stream",
     "text": [
      "{'eval_loss': 0.8928499221801758, 'eval_Accuracy': 0.808, 'eval_F1': 0.5543734472911558, 'eval_Precision': 0.8410322448327063, 'eval_Recall': 0.5753574654794167, 'eval_runtime': 0.7576, 'eval_samples_per_second': 659.975, 'eval_steps_per_second': 19.799, 'epoch': 6.67}\n",
      "{'train_runtime': 12.6246, 'train_samples_per_second': 83.171, 'train_steps_per_second': 8.317, 'train_loss': 0.12388668003536406, 'epoch': 7.0}\n"
     ]
    },
    {
     "data": {
      "application/vnd.jupyter.widget-view+json": {
       "model_id": "2a78a3eb428e4addaf0513820f8259e9",
       "version_major": 2,
       "version_minor": 0
      },
      "text/plain": [
       "  0%|          | 0/15 [00:00<?, ?it/s]"
      ]
     },
     "metadata": {},
     "output_type": "display_data"
    },
    {
     "name": "stdout",
     "output_type": "stream",
     "text": [
      "eval_Accuracy : 0.808\n"
     ]
    }
   ],
   "source": [
    "# Initialize empty lists to store metrics for each iteration\n",
    "accuracy_list = []\n",
    "precision_list = []\n",
    "recall_list = []\n",
    "loss_list = []\n",
    "x_labels = []\n",
    "n = 0\n",
    "\n",
    "for iteration in range(15):\n",
    "    n += 10\n",
    "    #print(n)\n",
    "    #print(hundreds_rows_pred[0:n])\n",
    "    initial_labeled_encoding = tokenizer(hundreds_rows_pred[0:n]['text'].to_list(), truncation=True, padding=True)\n",
    "    initial_labeled_labels = hundreds_rows_pred[0:n].fine_label.to_list()\n",
    "    initial_labeled_dataloader = DataLoader(initial_labeled_encoding,initial_labeled_labels)\n",
    "\n",
    "   \n",
    "    trainer = Trainer(\n",
    "        #the pre-trained bert model that will be fine-tuned\n",
    "        model=model,\n",
    "        #training arguments that we defined above\n",
    "        args=training_args,\n",
    "        train_dataset= initial_labeled_dataloader,\n",
    "        eval_dataset = test_dataloader,\n",
    "        compute_metrics= compute_metrics\n",
    "    )\n",
    "\n",
    "    trainer.train()  \n",
    "\n",
    "\n",
    "    #hundreds_rows_pred = predict_and_calculate_entropy(hundreds_rows_pred)\n",
    "\n",
    "\n",
    "    metrics = trainer.evaluate()\n",
    "\n",
    "    print('eval_Accuracy :',metrics['eval_Accuracy'])\n",
    "\n",
    "    accuracy_list.append(metrics['eval_Accuracy'])\n",
    "    precision_list.append(metrics['eval_Precision'])\n",
    "    recall_list.append(metrics['eval_Recall'])\n",
    "    loss_list.append(metrics['eval_loss'])\n",
    "    x_labels.append(n)\n",
    "\n"
   ]
  },
  {
   "cell_type": "code",
   "execution_count": 47,
   "metadata": {},
   "outputs": [],
   "source": [
    "bert_pred_df = pd.DataFrame({'Bert_Pred' : predicted_labels, 'Label' : test_df['fine_label'].to_list() }) \n",
    "\n",
    "bert_pred_df.to_csv('Trec_fine_label_Bert_Pred.csv',index=False)"
   ]
  },
  {
   "cell_type": "code",
   "execution_count": 48,
   "metadata": {},
   "outputs": [
    {
     "data": {
      "image/png": "[encoded data removed]",
      "text/plain": [
       "<Figure size 1600x600 with 3 Axes>"
      ]
     },
     "metadata": {},
     "output_type": "display_data"
    }
   ],
   "source": [
    "# Plot the metrics\n",
    "plt.figure(figsize=(16, 6))\n",
    "plt.subplot(1, 3, 1)\n",
    "plt.plot(x_labels, accuracy_list, marker='o')\n",
    "plt.title('Accuracy Over Iterations')\n",
    "plt.xlabel('Number of Samples')\n",
    "plt.ylabel('Accuracy')\n",
    "\n",
    "plt.subplot(1, 3, 2)\n",
    "plt.plot(x_labels, precision_list, marker='o')\n",
    "plt.title('Precision Over Iterations')\n",
    "plt.xlabel('Number of Samples')\n",
    "plt.ylabel('Precision')\n",
    "\n",
    "plt.subplot(1, 3, 3)\n",
    "plt.plot(x_labels, recall_list, marker='o')\n",
    "plt.title('Recall Over Iterations')\n",
    "plt.xlabel('Number of Samples')\n",
    "plt.ylabel('Recall')\n",
    "\n",
    "plt.tight_layout()\n",
    "plt.show()"
   ]
  },
  {
   "cell_type": "code",
   "execution_count": 49,
   "metadata": {},
   "outputs": [
    {
     "data": {
      "application/vnd.jupyter.widget-view+json": {
       "model_id": "a9abcbcc103045c488f320e3e59a9994",
       "version_major": 2,
       "version_minor": 0
      },
      "text/plain": [
       "  0%|          | 0/15 [00:00<?, ?it/s]"
      ]
     },
     "metadata": {},
     "output_type": "display_data"
    },
    {
     "name": "stdout",
     "output_type": "stream",
     "text": [
      "accuracy 81.0% \n"
     ]
    }
   ],
   "source": [
    "predictions = trainer.predict(test_dataloader)\n",
    "predicted_labels = predictions.predictions.argmax(axis=1)\n",
    "accuracy = accuracy_score(test_df['fine_label'].to_list(),predicted_labels)\n",
    "print('accuracy {}% '.format(np.round(accuracy * 100)))\n"
   ]
  },
  {
   "cell_type": "code",
   "execution_count": 50,
   "metadata": {},
   "outputs": [],
   "source": [
    "from sklearn.metrics import confusion_matrix\n"
   ]
  },
  {
   "cell_type": "markdown",
   "metadata": {},
   "source": [
    "# Confusion Matrix"
   ]
  },
  {
   "cell_type": "code",
   "execution_count": 52,
   "metadata": {},
   "outputs": [
    {
     "data": {
      "image/png": "[encoded data removed]",
      "text/plain": [
       "<Figure size 1200x1000 with 2 Axes>"
      ]
     },
     "metadata": {},
     "output_type": "display_data"
    }
   ],
   "source": [
    "# Compute the confusion matrix\n",
    "cm = confusion_matrix(test_df['fine_label'].to_list(),predicted_labels)\n",
    "\n",
    "# Create a heatmap of the confusion matrix\n",
    "plt.figure(figsize=(12, 10))\n",
    "sns.heatmap(cm, annot=True, fmt=\"d\", cmap=\"Blues\")\n",
    "plt.xlabel('Predicted Labels')\n",
    "plt.ylabel('True Labels')\n",
    "plt.title('Confusion Matrix')\n",
    "\n",
    "# Save the confusion matrix as an image\n",
    "plt.savefig('confusion_matrix.png')\n",
    "plt.show()"
   ]
  },
  {
   "cell_type": "code",
   "execution_count": 53,
   "metadata": {},
   "outputs": [
    {
     "data": {
      "application/vnd.jupyter.widget-view+json": {
       "model_id": "1a7706212ccd4e8692106cc59665b087",
       "version_major": 2,
       "version_minor": 0
      },
      "text/plain": [
       "  0%|          | 0/8 [00:00<?, ?it/s]"
      ]
     },
     "metadata": {},
     "output_type": "display_data"
    }
   ],
   "source": [
    "predictions = trainer.predict(train_dataloader)"
   ]
  },
  {
   "cell_type": "code",
   "execution_count": 54,
   "metadata": {},
   "outputs": [],
   "source": [
    "predicted_labels = predictions.predictions.argmax(axis=1)"
   ]
  },
  {
   "cell_type": "code",
   "execution_count": 55,
   "metadata": {},
   "outputs": [
    {
     "data": {
      "text/plain": [
       "array([18, 38, 15, 26, 13, 29, 29, 35, 13, 29, 32, 29, 40, 32, 29, 35, 36,\n",
       "       24, 24, 32, 29,  1, 29,  4, 32, 29, 28, 35, 28,  1, 40, 35, 15, 35,\n",
       "       38, 13, 35, 24, 29, 24, 44, 28, 35,  1, 24, 29, 35, 35, 29, 27, 29,\n",
       "       35, 24, 28, 24, 29, 29, 24, 35, 18, 32,  9, 38, 49, 39, 29, 29, 28,\n",
       "        9, 26,  9, 35, 24, 38, 13,  2,  9, 28, 29,  1,  1, 29, 49, 29,  1,\n",
       "       28, 39, 13, 29, 24, 29, 38, 49, 29, 27, 38,  1, 32,  1, 29, 38,  1,\n",
       "       24, 28,  9, 35, 40, 28, 27, 35, 39, 27, 26, 29, 28, 29, 32, 27, 24,\n",
       "       32, 35, 38, 29, 24, 35, 38, 32, 10, 29, 39, 27, 28, 29, 24, 40, 13,\n",
       "       32, 32, 36,  1, 32, 15, 24, 29, 18, 24, 29, 32, 28, 35, 27, 24, 27,\n",
       "       27, 34,  2, 49, 35, 32, 38, 24, 24, 24, 28, 32, 29, 24, 29, 29, 24,\n",
       "       29, 15,  1, 28, 35, 38, 27, 38, 38, 29, 29, 26, 21, 29, 38,  9, 39,\n",
       "       35, 39,  9, 39, 29,  1, 15, 35, 24, 39, 35, 39, 31, 29, 38, 35, 39,\n",
       "       29, 28, 29, 39, 24, 39, 35, 38, 39, 35, 29, 38, 38, 29, 38, 13, 31,\n",
       "       36, 28, 29,  1,  3, 27, 35,  4, 35, 28, 29, 38, 28, 35, 13, 15, 27,\n",
       "       29, 41, 29, 24, 29, 32, 32, 32, 44, 29, 26, 15, 47, 35, 39, 27, 39,\n",
       "       28, 29, 29, 28, 18, 39, 24, 39, 35, 35, 29, 44, 32, 29, 28, 13, 29],\n",
       "      dtype=int64)"
      ]
     },
     "execution_count": 55,
     "metadata": {},
     "output_type": "execute_result"
    }
   ],
   "source": [
    "predicted_labels"
   ]
  },
  {
   "cell_type": "code",
   "execution_count": 56,
   "metadata": {},
   "outputs": [
    {
     "data": {
      "text/plain": [
       "[10, 20, 30, 40, 50, 60, 70, 80, 90, 100, 110, 120, 130, 140, 150]"
      ]
     },
     "execution_count": 56,
     "metadata": {},
     "output_type": "execute_result"
    }
   ],
   "source": [
    "x_labels"
   ]
  },
  {
   "cell_type": "code",
   "execution_count": 58,
   "metadata": {},
   "outputs": [
    {
     "name": "stdout",
     "output_type": "stream",
     "text": [
      "CSV file 'TREC_Fine_label_ACC.csv' has been created.\n"
     ]
    }
   ],
   "source": [
    "import csv\n",
    "\n",
    "\n",
    "# Combine the lists into a list of tuples\n",
    "data = list(zip(x_labels, accuracy_list, precision_list, recall_list, loss_list))\n",
    "\n",
    "# Specify the file name\n",
    "csv_file_name = \"TREC_Fine_label_ACC.csv\"\n",
    "\n",
    "# Write the data to a CSV file\n",
    "with open(csv_file_name, 'w', newline='') as csv_file:\n",
    "    csv_writer = csv.writer(csv_file)\n",
    "    \n",
    "    csv_writer.writerow(['Labels', 'accuracy', 'precision', 'recall', 'loss'])\n",
    "    \n",
    "    # Write the data\n",
    "    csv_writer.writerows(data)\n",
    "\n",
    "print(f\"CSV file '{csv_file_name}' has been created.\")\n"
   ]
  }
 ],
 "metadata": {
  "kernelspec": {
   "display_name": "base",
   "language": "python",
   "name": "python3"
  },
  "language_info": {
   "codemirror_mode": {
    "name": "ipython",
    "version": 3
   },
   "file_extension": ".py",
   "mimetype": "text/x-python",
   "name": "python",
   "nbconvert_exporter": "python",
   "pygments_lexer": "ipython3",
   "version": "3.10.13"
  }
 },
 "nbformat": 4,
 "nbformat_minor": 2
}
