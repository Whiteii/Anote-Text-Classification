{
 "cells": [
  {
   "cell_type": "code",
   "execution_count": 1,
   "metadata": {},
   "outputs": [],
   "source": [
    "import pandas as pd\n",
    "from datasets import load_dataset\n",
    "import matplotlib.pyplot as plt\n",
    "import torch, os\n",
    "from torch.utils.data import Dataset\n",
    "from ipywidgets import interact \n",
    "import seaborn as sns\n",
    "from transformers import BertTokenizerFast, BertForSequenceClassification, TrainingArguments, Trainer\n",
    "from sklearn.model_selection import train_test_split\n",
    "from sklearn.metrics import accuracy_score, precision_recall_fscore_support\n",
    "import tensorflow as tf\n",
    "import numpy as np"
   ]
  },
  {
   "cell_type": "code",
   "execution_count": 2,
   "metadata": {},
   "outputs": [
    {
     "data": {
      "text/plain": [
       "'2.1.0+cpu'"
      ]
     },
     "execution_count": 2,
     "metadata": {},
     "output_type": "execute_result"
    }
   ],
   "source": [
    "torch.__version__"
   ]
  },
  {
   "cell_type": "markdown",
   "metadata": {},
   "source": [
    "# Loading Data"
   ]
  },
  {
   "cell_type": "code",
   "execution_count": 3,
   "metadata": {},
   "outputs": [],
   "source": [
    "dataset = load_dataset(\"trec\")\n",
    "train_dataset = dataset['train']\n",
    "test_dataset = dataset['test']"
   ]
  },
  {
   "cell_type": "code",
   "execution_count": 4,
   "metadata": {},
   "outputs": [],
   "source": [
    "train_df = pd.DataFrame({'text' : train_dataset['text'], 'coarse_label' : train_dataset['coarse_label']})\n",
    "test_df = pd.DataFrame({'text' : test_dataset['text'], 'coarse_label' : test_dataset['coarse_label']})"
   ]
  },
  {
   "cell_type": "code",
   "execution_count": 5,
   "metadata": {},
   "outputs": [
    {
     "data": {
      "text/html": [
       "<div>\n",
       "<style scoped>\n",
       "    .dataframe tbody tr th:only-of-type {\n",
       "        vertical-align: middle;\n",
       "    }\n",
       "\n",
       "    .dataframe tbody tr th {\n",
       "        vertical-align: top;\n",
       "    }\n",
       "\n",
       "    .dataframe thead th {\n",
       "        text-align: right;\n",
       "    }\n",
       "</style>\n",
       "<table border=\"1\" class=\"dataframe\">\n",
       "  <thead>\n",
       "    <tr style=\"text-align: right;\">\n",
       "      <th></th>\n",
       "      <th>text</th>\n",
       "      <th>coarse_label</th>\n",
       "    </tr>\n",
       "  </thead>\n",
       "  <tbody>\n",
       "    <tr>\n",
       "      <th>0</th>\n",
       "      <td>How did serfdom develop in and then leave Russ...</td>\n",
       "      <td>2</td>\n",
       "    </tr>\n",
       "    <tr>\n",
       "      <th>1</th>\n",
       "      <td>What films featured the character Popeye Doyle ?</td>\n",
       "      <td>1</td>\n",
       "    </tr>\n",
       "    <tr>\n",
       "      <th>2</th>\n",
       "      <td>How can I find a list of celebrities ' real na...</td>\n",
       "      <td>2</td>\n",
       "    </tr>\n",
       "    <tr>\n",
       "      <th>3</th>\n",
       "      <td>What fowl grabs the spotlight after the Chines...</td>\n",
       "      <td>1</td>\n",
       "    </tr>\n",
       "    <tr>\n",
       "      <th>4</th>\n",
       "      <td>What is the full form of .com ?</td>\n",
       "      <td>0</td>\n",
       "    </tr>\n",
       "  </tbody>\n",
       "</table>\n",
       "</div>"
      ],
      "text/plain": [
       "                                                text  coarse_label\n",
       "0  How did serfdom develop in and then leave Russ...             2\n",
       "1   What films featured the character Popeye Doyle ?             1\n",
       "2  How can I find a list of celebrities ' real na...             2\n",
       "3  What fowl grabs the spotlight after the Chines...             1\n",
       "4                    What is the full form of .com ?             0"
      ]
     },
     "execution_count": 5,
     "metadata": {},
     "output_type": "execute_result"
    }
   ],
   "source": [
    "train_df.head()"
   ]
  },
  {
   "cell_type": "code",
   "execution_count": 6,
   "metadata": {},
   "outputs": [],
   "source": [
    "from sklearn.model_selection import train_test_split\n",
    "initial_labeled_set, pool = train_test_split(train_df, test_size=0.95, stratify=train_df['coarse_label'])"
   ]
  },
  {
   "cell_type": "code",
   "execution_count": 7,
   "metadata": {},
   "outputs": [
    {
     "data": {
      "text/html": [
       "<div>\n",
       "<style scoped>\n",
       "    .dataframe tbody tr th:only-of-type {\n",
       "        vertical-align: middle;\n",
       "    }\n",
       "\n",
       "    .dataframe tbody tr th {\n",
       "        vertical-align: top;\n",
       "    }\n",
       "\n",
       "    .dataframe thead th {\n",
       "        text-align: right;\n",
       "    }\n",
       "</style>\n",
       "<table border=\"1\" class=\"dataframe\">\n",
       "  <thead>\n",
       "    <tr style=\"text-align: right;\">\n",
       "      <th></th>\n",
       "      <th>text</th>\n",
       "      <th>coarse_label</th>\n",
       "    </tr>\n",
       "  </thead>\n",
       "  <tbody>\n",
       "    <tr>\n",
<<<<<<< Updated upstream
       "      <th>4572</th>\n",
       "      <td>What is the world 's deadliest infectious dise...</td>\n",
       "      <td>1</td>\n",
       "    </tr>\n",
       "    <tr>\n",
       "      <th>2534</th>\n",
       "      <td>Which continent has the most roses ?</td>\n",
       "      <td>4</td>\n",
       "    </tr>\n",
       "    <tr>\n",
       "      <th>1745</th>\n",
       "      <td>What kind of weapons were used in Medieval war...</td>\n",
       "      <td>1</td>\n",
       "    </tr>\n",
       "    <tr>\n",
       "      <th>2225</th>\n",
       "      <td>How many wings does a flea have ?</td>\n",
       "      <td>5</td>\n",
       "    </tr>\n",
       "    <tr>\n",
       "      <th>3449</th>\n",
       "      <td>What is a fear of money ?</td>\n",
       "      <td>1</td>\n",
=======
       "      <th>533</th>\n",
       "      <td>Who invented baseball ?</td>\n",
       "      <td>3</td>\n",
       "    </tr>\n",
       "    <tr>\n",
       "      <th>3970</th>\n",
       "      <td>Who is Prince Naseem Hamed ?</td>\n",
       "      <td>3</td>\n",
       "    </tr>\n",
       "    <tr>\n",
       "      <th>1300</th>\n",
       "      <td>What 's the largest U.S. city on the Great Lak...</td>\n",
       "      <td>4</td>\n",
       "    </tr>\n",
       "    <tr>\n",
       "      <th>3819</th>\n",
       "      <td>What does the word affiant mean ?</td>\n",
       "      <td>2</td>\n",
       "    </tr>\n",
       "    <tr>\n",
       "      <th>1314</th>\n",
       "      <td>What is the origin of the ethnic category `` c...</td>\n",
       "      <td>2</td>\n",
>>>>>>> Stashed changes
       "    </tr>\n",
       "    <tr>\n",
       "      <th>...</th>\n",
       "      <td>...</td>\n",
       "      <td>...</td>\n",
       "    </tr>\n",
       "    <tr>\n",
<<<<<<< Updated upstream
       "      <th>1643</th>\n",
       "      <td>What kind of organization is ` Last Chance for...</td>\n",
       "      <td>3</td>\n",
       "    </tr>\n",
       "    <tr>\n",
       "      <th>2926</th>\n",
       "      <td>What was the first English play written exclus...</td>\n",
       "      <td>1</td>\n",
       "    </tr>\n",
       "    <tr>\n",
       "      <th>2692</th>\n",
       "      <td>What is HTML ?</td>\n",
       "      <td>0</td>\n",
       "    </tr>\n",
       "    <tr>\n",
       "      <th>5415</th>\n",
       "      <td>What famous comic strip character died of acne ?</td>\n",
       "      <td>3</td>\n",
       "    </tr>\n",
       "    <tr>\n",
       "      <th>4667</th>\n",
       "      <td>What college did Joe Namath play football for ?</td>\n",
=======
       "      <th>651</th>\n",
       "      <td>How fast is light ?</td>\n",
       "      <td>5</td>\n",
       "    </tr>\n",
       "    <tr>\n",
       "      <th>3596</th>\n",
       "      <td>What do penguins eat ?</td>\n",
       "      <td>1</td>\n",
       "    </tr>\n",
       "    <tr>\n",
       "      <th>2550</th>\n",
       "      <td>How far can you see ?</td>\n",
       "      <td>5</td>\n",
       "    </tr>\n",
       "    <tr>\n",
       "      <th>2638</th>\n",
       "      <td>What TV character said ; `` One of these days ...</td>\n",
>>>>>>> Stashed changes
       "      <td>3</td>\n",
       "    </tr>\n",
       "    <tr>\n",
       "      <th>4850</th>\n",
       "      <td>What is the oldest website on the Internet ?</td>\n",
       "      <td>4</td>\n",
       "    </tr>\n",
       "  </tbody>\n",
       "</table>\n",
       "<p>272 rows × 2 columns</p>\n",
       "</div>"
      ],
      "text/plain": [
       "                                                   text  coarse_label\n",
<<<<<<< Updated upstream
       "4572  What is the world 's deadliest infectious dise...             1\n",
       "2534               Which continent has the most roses ?             4\n",
       "1745  What kind of weapons were used in Medieval war...             1\n",
       "2225                  How many wings does a flea have ?             5\n",
       "3449                          What is a fear of money ?             1\n",
       "...                                                 ...           ...\n",
       "1643  What kind of organization is ` Last Chance for...             3\n",
       "2926  What was the first English play written exclus...             1\n",
       "2692                                     What is HTML ?             0\n",
       "5415   What famous comic strip character died of acne ?             3\n",
       "4667    What college did Joe Namath play football for ?             3\n",
=======
       "533                             Who invented baseball ?             3\n",
       "3970                       Who is Prince Naseem Hamed ?             3\n",
       "1300  What 's the largest U.S. city on the Great Lak...             4\n",
       "3819                  What does the word affiant mean ?             2\n",
       "1314  What is the origin of the ethnic category `` c...             2\n",
       "...                                                 ...           ...\n",
       "651                                 How fast is light ?             5\n",
       "3596                             What do penguins eat ?             1\n",
       "2550                              How far can you see ?             5\n",
       "2638  What TV character said ; `` One of these days ...             3\n",
       "4850       What is the oldest website on the Internet ?             4\n",
>>>>>>> Stashed changes
       "\n",
       "[272 rows x 2 columns]"
      ]
     },
     "execution_count": 7,
     "metadata": {},
     "output_type": "execute_result"
    }
   ],
   "source": [
    "initial_labeled_set"
   ]
  },
  {
   "cell_type": "markdown",
   "metadata": {},
   "source": [
    "# Spliting Data into train_encodings, test_encodings"
   ]
  },
  {
   "cell_type": "code",
   "execution_count": 8,
   "metadata": {},
   "outputs": [],
   "source": [
    "tokenizer = BertTokenizerFast.from_pretrained(\"bert-base-uncased\", max_length=512)"
   ]
  },
  {
   "cell_type": "code",
   "execution_count": 9,
   "metadata": {},
   "outputs": [],
   "source": [
    "train_encodings = tokenizer(initial_labeled_set['text'].to_list(), truncation=True, padding=True)\n",
    "test_encodings = tokenizer(test_df['text'].to_list(), truncation=True, padding=True)\n",
    "train_labels = initial_labeled_set.coarse_label.to_list()\n",
    "test_labels = test_df.coarse_label.to_list()"
   ]
  },
  {
   "cell_type": "code",
   "execution_count": 10,
   "metadata": {},
   "outputs": [],
   "source": [
    "num_labels = 6\n",
    "id_to_label = {0 : 'ABBR' , 1 : 'ENTY', 2: 'DESC', 3 : 'HUM', 4 : 'LOC', 5 : 'NUM'}\n",
    "label_to_id= { 'ABBR' : 0 , 'ENTY' : 1, 'DESC': 2, 'HUM' :3, 'LOC' : 4, 'NUM' : 5}"
   ]
  },
  {
   "cell_type": "code",
   "execution_count": 11,
   "metadata": {},
   "outputs": [
    {
     "name": "stderr",
     "output_type": "stream",
     "text": [
      "Some weights of BertForSequenceClassification were not initialized from the model checkpoint at bert-base-uncased and are newly initialized: ['classifier.weight', 'classifier.bias']\n",
      "You should probably TRAIN this model on a down-stream task to be able to use it for predictions and inference.\n"
     ]
    }
   ],
   "source": [
    "model = BertForSequenceClassification.from_pretrained('bert-base-uncased', num_labels=6, id2label = id_to_label, label2id = label_to_id)"
   ]
  },
  {
   "cell_type": "markdown",
   "metadata": {},
   "source": [
    "### TrainingArguments, Dataloader, Metrics are needed to construct this Fine-tune the model"
   ]
  },
  {
   "cell_type": "code",
   "execution_count": 12,
   "metadata": {},
   "outputs": [
    {
     "ename": "ImportError",
     "evalue": "Using the `Trainer` with `PyTorch` requires `accelerate>=0.20.1`: Please run `pip install transformers[torch]` or `pip install accelerate -U`",
     "output_type": "error",
     "traceback": [
      "\u001b[1;31m---------------------------------------------------------------------------\u001b[0m",
      "\u001b[1;31mImportError\u001b[0m                               Traceback (most recent call last)",
      "\u001b[1;32mc:\\Users\\liang\\OneDrive\\Desktop\\Anote-Text-Classification\\TREC Dataset\\BERT\\ActiveLearningBert_pred.ipynb Cell 15\u001b[0m line \u001b[0;36m1\n\u001b[1;32m----> <a href='vscode-notebook-cell:/c%3A/Users/liang/OneDrive/Desktop/Anote-Text-Classification/TREC%20Dataset/BERT/ActiveLearningBert_pred.ipynb#X20sZmlsZQ%3D%3D?line=0'>1</a>\u001b[0m training_args \u001b[39m=\u001b[39m TrainingArguments(\n\u001b[0;32m      <a href='vscode-notebook-cell:/c%3A/Users/liang/OneDrive/Desktop/Anote-Text-Classification/TREC%20Dataset/BERT/ActiveLearningBert_pred.ipynb#X20sZmlsZQ%3D%3D?line=1'>2</a>\u001b[0m     \u001b[39m# The output directory where the model predictions and checkpoints will be written\u001b[39;49;00m\n\u001b[0;32m      <a href='vscode-notebook-cell:/c%3A/Users/liang/OneDrive/Desktop/Anote-Text-Classification/TREC%20Dataset/BERT/ActiveLearningBert_pred.ipynb#X20sZmlsZQ%3D%3D?line=2'>3</a>\u001b[0m     output_dir\u001b[39m=\u001b[39;49m\u001b[39m'\u001b[39;49m\u001b[39m./BERTModel2\u001b[39;49m\u001b[39m'\u001b[39;49m,\n\u001b[0;32m      <a href='vscode-notebook-cell:/c%3A/Users/liang/OneDrive/Desktop/Anote-Text-Classification/TREC%20Dataset/BERT/ActiveLearningBert_pred.ipynb#X20sZmlsZQ%3D%3D?line=3'>4</a>\u001b[0m     do_train\u001b[39m=\u001b[39;49m\u001b[39mTrue\u001b[39;49;00m,\n\u001b[0;32m      <a href='vscode-notebook-cell:/c%3A/Users/liang/OneDrive/Desktop/Anote-Text-Classification/TREC%20Dataset/BERT/ActiveLearningBert_pred.ipynb#X20sZmlsZQ%3D%3D?line=4'>5</a>\u001b[0m     do_eval\u001b[39m=\u001b[39;49m\u001b[39mTrue\u001b[39;49;00m,\n\u001b[0;32m      <a href='vscode-notebook-cell:/c%3A/Users/liang/OneDrive/Desktop/Anote-Text-Classification/TREC%20Dataset/BERT/ActiveLearningBert_pred.ipynb#X20sZmlsZQ%3D%3D?line=5'>6</a>\u001b[0m     \u001b[39m#  The number of epochs, defaults to 3.0\u001b[39;49;00m\n\u001b[0;32m      <a href='vscode-notebook-cell:/c%3A/Users/liang/OneDrive/Desktop/Anote-Text-Classification/TREC%20Dataset/BERT/ActiveLearningBert_pred.ipynb#X20sZmlsZQ%3D%3D?line=6'>7</a>\u001b[0m     num_train_epochs\u001b[39m=\u001b[39;49m\u001b[39m3\u001b[39;49m,\n\u001b[0;32m      <a href='vscode-notebook-cell:/c%3A/Users/liang/OneDrive/Desktop/Anote-Text-Classification/TREC%20Dataset/BERT/ActiveLearningBert_pred.ipynb#X20sZmlsZQ%3D%3D?line=7'>8</a>\u001b[0m     per_device_train_batch_size\u001b[39m=\u001b[39;49m\u001b[39m16\u001b[39;49m,\n\u001b[0;32m      <a href='vscode-notebook-cell:/c%3A/Users/liang/OneDrive/Desktop/Anote-Text-Classification/TREC%20Dataset/BERT/ActiveLearningBert_pred.ipynb#X20sZmlsZQ%3D%3D?line=8'>9</a>\u001b[0m     per_device_eval_batch_size\u001b[39m=\u001b[39;49m\u001b[39m32\u001b[39;49m,\n\u001b[0;32m     <a href='vscode-notebook-cell:/c%3A/Users/liang/OneDrive/Desktop/Anote-Text-Classification/TREC%20Dataset/BERT/ActiveLearningBert_pred.ipynb#X20sZmlsZQ%3D%3D?line=9'>10</a>\u001b[0m     \u001b[39m# Number of steps used for a linear warmup\u001b[39;49;00m\n\u001b[0;32m     <a href='vscode-notebook-cell:/c%3A/Users/liang/OneDrive/Desktop/Anote-Text-Classification/TREC%20Dataset/BERT/ActiveLearningBert_pred.ipynb#X20sZmlsZQ%3D%3D?line=10'>11</a>\u001b[0m     warmup_steps\u001b[39m=\u001b[39;49m\u001b[39m100\u001b[39;49m,\n\u001b[0;32m     <a href='vscode-notebook-cell:/c%3A/Users/liang/OneDrive/Desktop/Anote-Text-Classification/TREC%20Dataset/BERT/ActiveLearningBert_pred.ipynb#X20sZmlsZQ%3D%3D?line=11'>12</a>\u001b[0m     weight_decay\u001b[39m=\u001b[39;49m\u001b[39m0.01\u001b[39;49m,\n\u001b[0;32m     <a href='vscode-notebook-cell:/c%3A/Users/liang/OneDrive/Desktop/Anote-Text-Classification/TREC%20Dataset/BERT/ActiveLearningBert_pred.ipynb#X20sZmlsZQ%3D%3D?line=12'>13</a>\u001b[0m     logging_strategy\u001b[39m=\u001b[39;49m\u001b[39m'\u001b[39;49m\u001b[39msteps\u001b[39;49m\u001b[39m'\u001b[39;49m,\n\u001b[0;32m     <a href='vscode-notebook-cell:/c%3A/Users/liang/OneDrive/Desktop/Anote-Text-Classification/TREC%20Dataset/BERT/ActiveLearningBert_pred.ipynb#X20sZmlsZQ%3D%3D?line=13'>14</a>\u001b[0m    \u001b[39m# TensorBoard log directory\u001b[39;49;00m\n\u001b[0;32m     <a href='vscode-notebook-cell:/c%3A/Users/liang/OneDrive/Desktop/Anote-Text-Classification/TREC%20Dataset/BERT/ActiveLearningBert_pred.ipynb#X20sZmlsZQ%3D%3D?line=14'>15</a>\u001b[0m     logging_dir\u001b[39m=\u001b[39;49m\u001b[39m'\u001b[39;49m\u001b[39m./multi-class-logs\u001b[39;49m\u001b[39m'\u001b[39;49m,\n\u001b[0;32m     <a href='vscode-notebook-cell:/c%3A/Users/liang/OneDrive/Desktop/Anote-Text-Classification/TREC%20Dataset/BERT/ActiveLearningBert_pred.ipynb#X20sZmlsZQ%3D%3D?line=15'>16</a>\u001b[0m     logging_steps\u001b[39m=\u001b[39;49m\u001b[39m50\u001b[39;49m,\n\u001b[0;32m     <a href='vscode-notebook-cell:/c%3A/Users/liang/OneDrive/Desktop/Anote-Text-Classification/TREC%20Dataset/BERT/ActiveLearningBert_pred.ipynb#X20sZmlsZQ%3D%3D?line=16'>17</a>\u001b[0m     evaluation_strategy\u001b[39m=\u001b[39;49m\u001b[39m\"\u001b[39;49m\u001b[39msteps\u001b[39;49m\u001b[39m\"\u001b[39;49m,\n\u001b[0;32m     <a href='vscode-notebook-cell:/c%3A/Users/liang/OneDrive/Desktop/Anote-Text-Classification/TREC%20Dataset/BERT/ActiveLearningBert_pred.ipynb#X20sZmlsZQ%3D%3D?line=17'>18</a>\u001b[0m     eval_steps\u001b[39m=\u001b[39;49m\u001b[39m50\u001b[39;49m,\n\u001b[0;32m     <a href='vscode-notebook-cell:/c%3A/Users/liang/OneDrive/Desktop/Anote-Text-Classification/TREC%20Dataset/BERT/ActiveLearningBert_pred.ipynb#X20sZmlsZQ%3D%3D?line=18'>19</a>\u001b[0m     save_strategy\u001b[39m=\u001b[39;49m\u001b[39m\"\u001b[39;49m\u001b[39msteps\u001b[39;49m\u001b[39m\"\u001b[39;49m,\n\u001b[0;32m     <a href='vscode-notebook-cell:/c%3A/Users/liang/OneDrive/Desktop/Anote-Text-Classification/TREC%20Dataset/BERT/ActiveLearningBert_pred.ipynb#X20sZmlsZQ%3D%3D?line=19'>20</a>\u001b[0m )\n",
      "File \u001b[1;32m<string>:115\u001b[0m, in \u001b[0;36m__init__\u001b[1;34m(self, output_dir, overwrite_output_dir, do_train, do_eval, do_predict, evaluation_strategy, prediction_loss_only, per_device_train_batch_size, per_device_eval_batch_size, per_gpu_train_batch_size, per_gpu_eval_batch_size, gradient_accumulation_steps, eval_accumulation_steps, eval_delay, learning_rate, weight_decay, adam_beta1, adam_beta2, adam_epsilon, max_grad_norm, num_train_epochs, max_steps, lr_scheduler_type, warmup_ratio, warmup_steps, log_level, log_level_replica, log_on_each_node, logging_dir, logging_strategy, logging_first_step, logging_steps, logging_nan_inf_filter, save_strategy, save_steps, save_total_limit, save_safetensors, save_on_each_node, no_cuda, use_cpu, use_mps_device, seed, data_seed, jit_mode_eval, use_ipex, bf16, fp16, fp16_opt_level, half_precision_backend, bf16_full_eval, fp16_full_eval, tf32, local_rank, ddp_backend, tpu_num_cores, tpu_metrics_debug, debug, dataloader_drop_last, eval_steps, dataloader_num_workers, past_index, run_name, disable_tqdm, remove_unused_columns, label_names, load_best_model_at_end, metric_for_best_model, greater_is_better, ignore_data_skip, sharded_ddp, fsdp, fsdp_min_num_params, fsdp_config, fsdp_transformer_layer_cls_to_wrap, deepspeed, label_smoothing_factor, optim, optim_args, adafactor, group_by_length, length_column_name, report_to, ddp_find_unused_parameters, ddp_bucket_cap_mb, ddp_broadcast_buffers, dataloader_pin_memory, skip_memory_metrics, use_legacy_prediction_loop, push_to_hub, resume_from_checkpoint, hub_model_id, hub_strategy, hub_token, hub_private_repo, hub_always_push, gradient_checkpointing, include_inputs_for_metrics, fp16_backend, push_to_hub_model_id, push_to_hub_organization, push_to_hub_token, mp_parameters, auto_find_batch_size, full_determinism, torchdynamo, ray_scope, ddp_timeout, torch_compile, torch_compile_backend, torch_compile_mode, dispatch_batches, include_tokens_per_second)\u001b[0m\n",
      "File \u001b[1;32mc:\\Users\\liang\\anaconda3\\envs\\Anote_AI\\lib\\site-packages\\transformers\\training_args.py:1436\u001b[0m, in \u001b[0;36mTrainingArguments.__post_init__\u001b[1;34m(self)\u001b[0m\n\u001b[0;32m   1430\u001b[0m     \u001b[39mif\u001b[39;00m version\u001b[39m.\u001b[39mparse(version\u001b[39m.\u001b[39mparse(torch\u001b[39m.\u001b[39m__version__)\u001b[39m.\u001b[39mbase_version) \u001b[39m==\u001b[39m version\u001b[39m.\u001b[39mparse(\u001b[39m\"\u001b[39m\u001b[39m2.0.0\u001b[39m\u001b[39m\"\u001b[39m) \u001b[39mand\u001b[39;00m \u001b[39mself\u001b[39m\u001b[39m.\u001b[39mfp16:\n\u001b[0;32m   1431\u001b[0m         \u001b[39mraise\u001b[39;00m \u001b[39mValueError\u001b[39;00m(\u001b[39m\"\u001b[39m\u001b[39m--optim adamw_torch_fused with --fp16 requires PyTorch>2.0\u001b[39m\u001b[39m\"\u001b[39m)\n\u001b[0;32m   1433\u001b[0m \u001b[39mif\u001b[39;00m (\n\u001b[0;32m   1434\u001b[0m     \u001b[39mself\u001b[39m\u001b[39m.\u001b[39mframework \u001b[39m==\u001b[39m \u001b[39m\"\u001b[39m\u001b[39mpt\u001b[39m\u001b[39m\"\u001b[39m\n\u001b[0;32m   1435\u001b[0m     \u001b[39mand\u001b[39;00m is_torch_available()\n\u001b[1;32m-> 1436\u001b[0m     \u001b[39mand\u001b[39;00m (\u001b[39mself\u001b[39;49m\u001b[39m.\u001b[39;49mdevice\u001b[39m.\u001b[39mtype \u001b[39m!=\u001b[39m \u001b[39m\"\u001b[39m\u001b[39mcuda\u001b[39m\u001b[39m\"\u001b[39m)\n\u001b[0;32m   1437\u001b[0m     \u001b[39mand\u001b[39;00m (\u001b[39mself\u001b[39m\u001b[39m.\u001b[39mdevice\u001b[39m.\u001b[39mtype \u001b[39m!=\u001b[39m \u001b[39m\"\u001b[39m\u001b[39mnpu\u001b[39m\u001b[39m\"\u001b[39m)\n\u001b[0;32m   1438\u001b[0m     \u001b[39mand\u001b[39;00m (\u001b[39mself\u001b[39m\u001b[39m.\u001b[39mdevice\u001b[39m.\u001b[39mtype \u001b[39m!=\u001b[39m \u001b[39m\"\u001b[39m\u001b[39mxpu\u001b[39m\u001b[39m\"\u001b[39m)\n\u001b[0;32m   1439\u001b[0m     \u001b[39mand\u001b[39;00m (get_xla_device_type(\u001b[39mself\u001b[39m\u001b[39m.\u001b[39mdevice) \u001b[39m!=\u001b[39m \u001b[39m\"\u001b[39m\u001b[39mGPU\u001b[39m\u001b[39m\"\u001b[39m)\n\u001b[0;32m   1440\u001b[0m     \u001b[39mand\u001b[39;00m (\u001b[39mself\u001b[39m\u001b[39m.\u001b[39mfp16 \u001b[39mor\u001b[39;00m \u001b[39mself\u001b[39m\u001b[39m.\u001b[39mfp16_full_eval)\n\u001b[0;32m   1441\u001b[0m ):\n\u001b[0;32m   1442\u001b[0m     \u001b[39mraise\u001b[39;00m \u001b[39mValueError\u001b[39;00m(\n\u001b[0;32m   1443\u001b[0m         \u001b[39m\"\u001b[39m\u001b[39mFP16 Mixed precision training with AMP or APEX (`--fp16`) and FP16 half precision evaluation\u001b[39m\u001b[39m\"\u001b[39m\n\u001b[0;32m   1444\u001b[0m         \u001b[39m\"\u001b[39m\u001b[39m (`--fp16_full_eval`) can only be used on CUDA or NPU devices or certain XPU devices (with IPEX).\u001b[39m\u001b[39m\"\u001b[39m\n\u001b[0;32m   1445\u001b[0m     )\n\u001b[0;32m   1447\u001b[0m \u001b[39mif\u001b[39;00m (\n\u001b[0;32m   1448\u001b[0m     \u001b[39mself\u001b[39m\u001b[39m.\u001b[39mframework \u001b[39m==\u001b[39m \u001b[39m\"\u001b[39m\u001b[39mpt\u001b[39m\u001b[39m\"\u001b[39m\n\u001b[0;32m   1449\u001b[0m     \u001b[39mand\u001b[39;00m is_torch_available()\n\u001b[1;32m   (...)\u001b[0m\n\u001b[0;32m   1456\u001b[0m     \u001b[39mand\u001b[39;00m (\u001b[39mself\u001b[39m\u001b[39m.\u001b[39mbf16 \u001b[39mor\u001b[39;00m \u001b[39mself\u001b[39m\u001b[39m.\u001b[39mbf16_full_eval)\n\u001b[0;32m   1457\u001b[0m ):\n",
      "File \u001b[1;32mc:\\Users\\liang\\anaconda3\\envs\\Anote_AI\\lib\\site-packages\\transformers\\training_args.py:1901\u001b[0m, in \u001b[0;36mTrainingArguments.device\u001b[1;34m(self)\u001b[0m\n\u001b[0;32m   1897\u001b[0m \u001b[39m\u001b[39m\u001b[39m\"\"\"\u001b[39;00m\n\u001b[0;32m   1898\u001b[0m \u001b[39mThe device used by this process.\u001b[39;00m\n\u001b[0;32m   1899\u001b[0m \u001b[39m\"\"\"\u001b[39;00m\n\u001b[0;32m   1900\u001b[0m requires_backends(\u001b[39mself\u001b[39m, [\u001b[39m\"\u001b[39m\u001b[39mtorch\u001b[39m\u001b[39m\"\u001b[39m])\n\u001b[1;32m-> 1901\u001b[0m \u001b[39mreturn\u001b[39;00m \u001b[39mself\u001b[39;49m\u001b[39m.\u001b[39;49m_setup_devices\n",
      "File \u001b[1;32mc:\\Users\\liang\\anaconda3\\envs\\Anote_AI\\lib\\site-packages\\transformers\\utils\\generic.py:54\u001b[0m, in \u001b[0;36mcached_property.__get__\u001b[1;34m(self, obj, objtype)\u001b[0m\n\u001b[0;32m     52\u001b[0m cached \u001b[39m=\u001b[39m \u001b[39mgetattr\u001b[39m(obj, attr, \u001b[39mNone\u001b[39;00m)\n\u001b[0;32m     53\u001b[0m \u001b[39mif\u001b[39;00m cached \u001b[39mis\u001b[39;00m \u001b[39mNone\u001b[39;00m:\n\u001b[1;32m---> 54\u001b[0m     cached \u001b[39m=\u001b[39m \u001b[39mself\u001b[39;49m\u001b[39m.\u001b[39;49mfget(obj)\n\u001b[0;32m     55\u001b[0m     \u001b[39msetattr\u001b[39m(obj, attr, cached)\n\u001b[0;32m     56\u001b[0m \u001b[39mreturn\u001b[39;00m cached\n",
      "File \u001b[1;32mc:\\Users\\liang\\anaconda3\\envs\\Anote_AI\\lib\\site-packages\\transformers\\training_args.py:1801\u001b[0m, in \u001b[0;36mTrainingArguments._setup_devices\u001b[1;34m(self)\u001b[0m\n\u001b[0;32m   1799\u001b[0m \u001b[39mif\u001b[39;00m \u001b[39mnot\u001b[39;00m is_sagemaker_mp_enabled():\n\u001b[0;32m   1800\u001b[0m     \u001b[39mif\u001b[39;00m \u001b[39mnot\u001b[39;00m is_accelerate_available(min_version\u001b[39m=\u001b[39m\u001b[39m\"\u001b[39m\u001b[39m0.20.1\u001b[39m\u001b[39m\"\u001b[39m):\n\u001b[1;32m-> 1801\u001b[0m         \u001b[39mraise\u001b[39;00m \u001b[39mImportError\u001b[39;00m(\n\u001b[0;32m   1802\u001b[0m             \u001b[39m\"\u001b[39m\u001b[39mUsing the `Trainer` with `PyTorch` requires `accelerate>=0.20.1`: Please run `pip install transformers[torch]` or `pip install accelerate -U`\u001b[39m\u001b[39m\"\u001b[39m\n\u001b[0;32m   1803\u001b[0m         )\n\u001b[0;32m   1804\u001b[0m     AcceleratorState\u001b[39m.\u001b[39m_reset_state(reset_partial_state\u001b[39m=\u001b[39m\u001b[39mTrue\u001b[39;00m)\n\u001b[0;32m   1805\u001b[0m \u001b[39mself\u001b[39m\u001b[39m.\u001b[39mdistributed_state \u001b[39m=\u001b[39m \u001b[39mNone\u001b[39;00m\n",
      "\u001b[1;31mImportError\u001b[0m: Using the `Trainer` with `PyTorch` requires `accelerate>=0.20.1`: Please run `pip install transformers[torch]` or `pip install accelerate -U`"
     ]
    }
   ],
   "source": [
    "training_args = TrainingArguments(\n",
    "    output_dir='./BERTModel2',\n",
    "    do_train=True,\n",
    "    do_eval=True,\n",
    "    num_train_epochs=7,  # Reduced number of epochs.\n",
    "    per_device_train_batch_size=10,  # Reduced batch size for training.\n",
    "    per_device_eval_batch_size=35,  # Reduced batch size for evaluation.\n",
    "    warmup_steps=100,\n",
    "    weight_decay=0.01,\n",
    "    logging_strategy='steps',\n",
    "    logging_dir='./multi-class-logs',\n",
    "    logging_steps=50,\n",
    "    evaluation_strategy=\"steps\",\n",
    "    eval_steps=50,\n",
    "    save_strategy=\"steps\",\n",
    "    #fp16=True,  # Enable mixed precision training.\n",
    ")"
   ]
  },
  {
   "cell_type": "code",
   "execution_count": null,
   "metadata": {},
   "outputs": [],
   "source": [
    "class DataLoader(Dataset):\n",
    "    def __init__(self, encodings, labels):\n",
    "        self.encodings = encodings\n",
    "        self.labels = labels\n",
    "    def __getitem__(self, idx):\n",
    "        \"\"\"\n",
    "          This construct a dict that is (index position) to encoding pairs.\n",
    "          Where the Encoding becomes tensor(Encoding), which is an requirements\n",
    "          for training the model\n",
    "        \"\"\"\n",
    "        item = {key: torch.tensor(val[idx]) for key, val in self.encodings.items()}\n",
    "        item['labels'] = torch.tensor(self.labels[idx])\n",
    "        return item\n",
    "    def __len__(self):\n",
    "        \"\"\"\n",
    "        Returns the number of data items in the dataset.\n",
    "\n",
    "        \"\"\"\n",
    "        return len(self.labels)"
   ]
  },
  {
   "cell_type": "code",
   "execution_count": null,
   "metadata": {},
   "outputs": [],
   "source": [
    "def compute_metrics(pred):\n",
    "    \n",
    "    ''' \n",
    "    Compute Metrics\n",
    "\n",
    "    This function computes various classification metrics based on the model's predictions and true labels, \n",
    "    including accuracy, F1 score, precision, and recall.\n",
    "\n",
    "    Args:\n",
    "        pred: A prediction object containing the true labels and predicted probabilities.\n",
    "\n",
    "    Returns:\n",
    "        metrics (dict): A dictionary containing the computed metrics:\n",
    "            - 'Accuracy': The accuracy of the model's predictions.\n",
    "            - 'F1': The macro F1 score.\n",
    "            - 'Precision': The macro precision score.\n",
    "            - 'Recall': The macro recall score.'''\n",
    "\n",
    "\n",
    "    # Extract true labels from the input object\n",
    "    labels = pred.label_ids\n",
    "\n",
    "    # Obtain predicted class labels by finding the column index with the maximum probability\n",
    "    preds = pred.predictions.argmax(-1)\n",
    "\n",
    "    # Compute macro precision, recall, and F1 score using sklearn's precision_recall_fscore_support function\n",
    "    precision, recall, f1, _ = precision_recall_fscore_support(labels, preds, average='macro',zero_division=1)\n",
    "\n",
    "    # Calculate the accuracy score using sklearn's accuracy_score function\n",
    "    acc = accuracy_score(labels, preds)\n",
    "\n",
    "    # Return the computed metrics as a dictionary\n",
    "    return {\n",
    "        'Accuracy': acc,\n",
    "        'F1': f1,\n",
    "        'Precision': precision,\n",
    "        'Recall': recall\n",
    "    }"
   ]
  },
  {
   "cell_type": "markdown",
   "metadata": {},
   "source": [
    "# Calling our Dataloader"
   ]
  },
  {
   "cell_type": "code",
   "execution_count": null,
   "metadata": {},
   "outputs": [],
   "source": [
    "train_dataloader = DataLoader(train_encodings,train_labels)\n",
    "test_dataloader = DataLoader(test_encodings,test_labels)"
   ]
  },
  {
   "cell_type": "code",
   "execution_count": null,
   "metadata": {},
   "outputs": [],
   "source": [
    "trainer = Trainer(\n",
    "    #the pre-trained bert model that will be fine-tuned\n",
    "    model=model,\n",
    "    #training arguments that we defined above\n",
    "    args=training_args,\n",
    "    train_dataset= train_dataloader,\n",
    "    eval_dataset = test_dataloader,\n",
    "    compute_metrics= compute_metrics\n",
    ")"
   ]
  },
  {
   "cell_type": "markdown",
   "metadata": {},
   "source": [
    "#  Evaluate the prediction accuracy of our model on the dataset without training or fine-tuning it"
   ]
  },
  {
   "cell_type": "code",
   "execution_count": null,
   "metadata": {},
   "outputs": [
    {
     "data": {
      "application/vnd.jupyter.widget-view+json": {
       "model_id": "1f817ee0f0274ff3bdbe2fc56cdb9760",
       "version_major": 2,
       "version_minor": 0
      },
      "text/plain": [
       "  0%|          | 0/15 [00:00<?, ?it/s]"
      ]
     },
     "metadata": {},
     "output_type": "display_data"
    }
   ],
   "source": [
    "predictions = trainer.predict(test_dataloader)\n"
   ]
  },
  {
   "cell_type": "code",
   "execution_count": null,
   "metadata": {},
   "outputs": [],
   "source": [
    "predicted_labels = predictions.predictions.argmax(axis=1)\n"
   ]
  },
  {
   "cell_type": "code",
   "execution_count": null,
   "metadata": {},
   "outputs": [],
   "source": [
    "probabilities = tf.nn.softmax(predictions.predictions[0] )\n"
   ]
  },
  {
   "cell_type": "code",
   "execution_count": 20,
   "metadata": {},
   "outputs": [
    {
     "data": {
      "text/plain": [
       "<tf.Tensor: shape=(6,), dtype=float32, numpy=\n",
       "array([0.1377683 , 0.09401771, 0.1562504 , 0.19946462, 0.08494098,\n",
       "       0.32755792], dtype=float32)>"
      ]
     },
     "execution_count": 20,
     "metadata": {},
     "output_type": "execute_result"
    }
   ],
   "source": [
    "probabilities"
   ]
  },
  {
   "cell_type": "markdown",
   "metadata": {},
   "source": [
    "## An Active Learning Approach Based On Uncertain Sampling"
   ]
  },
  {
   "cell_type": "code",
<<<<<<< Updated upstream
   "execution_count": 21,
=======
   "execution_count": null,
>>>>>>> Stashed changes
   "metadata": {},
   "outputs": [
    {
     "data": {
      "text/html": [
       "<div>\n",
       "<style scoped>\n",
       "    .dataframe tbody tr th:only-of-type {\n",
       "        vertical-align: middle;\n",
       "    }\n",
       "\n",
       "    .dataframe tbody tr th {\n",
       "        vertical-align: top;\n",
       "    }\n",
       "\n",
       "    .dataframe thead th {\n",
       "        text-align: right;\n",
       "    }\n",
       "</style>\n",
       "<table border=\"1\" class=\"dataframe\">\n",
       "  <thead>\n",
       "    <tr style=\"text-align: right;\">\n",
       "      <th></th>\n",
       "      <th>text</th>\n",
       "      <th>coarse_label</th>\n",
       "    </tr>\n",
       "  </thead>\n",
       "  <tbody>\n",
       "    <tr>\n",
       "      <th>4572</th>\n",
       "      <td>What is the world 's deadliest infectious dise...</td>\n",
       "      <td>1</td>\n",
       "    </tr>\n",
       "    <tr>\n",
       "      <th>2534</th>\n",
       "      <td>Which continent has the most roses ?</td>\n",
       "      <td>4</td>\n",
       "    </tr>\n",
       "    <tr>\n",
       "      <th>1745</th>\n",
       "      <td>What kind of weapons were used in Medieval war...</td>\n",
       "      <td>1</td>\n",
       "    </tr>\n",
       "    <tr>\n",
       "      <th>2225</th>\n",
       "      <td>How many wings does a flea have ?</td>\n",
       "      <td>5</td>\n",
       "    </tr>\n",
       "    <tr>\n",
       "      <th>3449</th>\n",
       "      <td>What is a fear of money ?</td>\n",
       "      <td>1</td>\n",
       "    </tr>\n",
       "  </tbody>\n",
       "</table>\n",
       "</div>"
      ],
      "text/plain": [
       "                                                   text  coarse_label\n",
       "4572  What is the world 's deadliest infectious dise...             1\n",
       "2534               Which continent has the most roses ?             4\n",
       "1745  What kind of weapons were used in Medieval war...             1\n",
       "2225                  How many wings does a flea have ?             5\n",
       "3449                          What is a fear of money ?             1"
      ]
     },
     "execution_count": 21,
     "metadata": {},
     "output_type": "execute_result"
    }
   ],
   "source": [
    "initial_labeled_set.head() # so we fine_tune with the inital_labeled data"
   ]
  },
  {
   "cell_type": "code",
<<<<<<< Updated upstream
   "execution_count": 22,
=======
   "execution_count": null,
>>>>>>> Stashed changes
   "metadata": {},
   "outputs": [
    {
     "data": {
      "text/plain": [
       "(272, 2)"
      ]
     },
     "execution_count": 22,
     "metadata": {},
     "output_type": "execute_result"
    }
   ],
   "source": [
    "initial_labeled_set.shape"
   ]
  },
  {
   "cell_type": "markdown",
   "metadata": {},
   "source": [
    "# "
   ]
  },
  {
   "cell_type": "code",
<<<<<<< Updated upstream
   "execution_count": 23,
=======
   "execution_count": null,
>>>>>>> Stashed changes
   "metadata": {},
   "outputs": [],
   "source": [
    "def entropy_for_each_row(class_probabilities):\n",
    "    \"\"\" Calculate entropy for each row in the array \"\"\"\n",
    "    return -tf.reduce_sum(class_probabilities * tf.math.log(class_probabilities),axis=1)"
   ]
  },
  {
   "cell_type": "code",
<<<<<<< Updated upstream
   "execution_count": 24,
=======
   "execution_count": null,
>>>>>>> Stashed changes
   "metadata": {},
   "outputs": [],
   "source": [
    "def predict_and_calculate_entropy(data):\n",
    "    \n",
    "    ''' \n",
    "    Predict and Calculate Entropy\n",
    "    \n",
    "    This function makes predictions using a pre-trained BERT model, calculates the entropy (uncertainty) of these predictions, \n",
    "    and creates a DataFrame containing relevant information.\n",
    "    \n",
    "    Args:\n",
    "        data (DataFrame): A Pandas DataFrame containing text data and associated labels. The DataFrame should have \n",
    "        columns 'text' for text data and 'coarse_label' for labels.\n",
    "\n",
    "    Returns:\n",
    "        final_df (DataFrame): A Pandas DataFrame containing the following columns:\n",
    "            - 'text': The original text data.\n",
    "            - 'predicted_Label': The predicted class labels based on the model's predictions.\n",
    "            - 'predicted_Probability': The maximum predicted probability for each instance.\n",
    "            - 'Entropy': The calculated entropy (uncertainty) for each instance.\n",
    "            - 'coarse_label': The original coarse labels from the input data. ''' \n",
    "\n",
    "    \n",
    "            \n",
    "    # Sample the Data \n",
    "    data_encodings = tokenizer(data['text'].to_list(), truncation=True, padding=True)\n",
    "    dataloader = DataLoader(data_encodings, data.coarse_label.to_list())\n",
    "\n",
    "    # Make predictions with class_probabilities and calculate entropy (uncertainty) \n",
    "    predictions = trainer.predict(dataloader)\n",
    "    prediction_probabilities = tf.constant(predictions.predictions)\n",
    "\n",
    "    # Predicted Labels \n",
    "    predicted_labels = predictions.predictions.argmax(axis=1)\n",
    "\n",
    "    \n",
    "    # Prediction probabilities, returning the highest probability for each instance\n",
    "    prediction_probabilities_max = np.amax(prediction_probabilities, axis=1)\n",
    "\n",
    "    # Calculate entropy for each instance\n",
    "    entropies = entropy_for_each_row(tf.nn.softmax(prediction_probabilities))\n",
    "\n",
    "    entropy_df = pd.DataFrame(\n",
    "        {'text' : data['text'].to_list(),\n",
    "         'predicted_Label': predicted_labels,\n",
    "         'predicted_Probability': prediction_probabilities_max,\n",
    "         'Entropy': entropies},\n",
    "        index=data.index\n",
    "    )\n",
    "\n",
    "    final_df = pd.concat([data['coarse_label'], entropy_df], axis=1)\n",
    "\n",
    "    return final_df.sort_values(by=['Entropy'],ascending=False)\n"
   ]
  },
  {
   "cell_type": "code",
<<<<<<< Updated upstream
   "execution_count": 25,
   "metadata": {},
   "outputs": [
    {
     "data": {
      "text/plain": [
       "0.09677453168815325"
      ]
     },
     "execution_count": 25,
     "metadata": {},
     "output_type": "execute_result"
    }
   ],
   "source": [
    "test_df['coarse_label'].skew()"
   ]
  },
  {
   "cell_type": "markdown",
   "metadata": {},
   "source": [
    "# Simulated Active Learning"
   ]
  },
  {
   "cell_type": "code",
   "execution_count": 26,
   "metadata": {},
   "outputs": [],
   "source": [
    "initial_labeled_set = test_df"
=======
   "execution_count": null,
   "metadata": {},
   "outputs": [],
   "source": [
    "data = initial_labeled_set.copy()"
>>>>>>> Stashed changes
   ]
  },
  {
   "cell_type": "code",
<<<<<<< Updated upstream
   "execution_count": 27,
=======
   "execution_count": null,
>>>>>>> Stashed changes
   "metadata": {},
   "outputs": [
    {
     "data": {
      "text/html": [
       "<div>\n",
       "<style scoped>\n",
       "    .dataframe tbody tr th:only-of-type {\n",
       "        vertical-align: middle;\n",
       "    }\n",
       "\n",
       "    .dataframe tbody tr th {\n",
       "        vertical-align: top;\n",
       "    }\n",
       "\n",
       "    .dataframe thead th {\n",
       "        text-align: right;\n",
       "    }\n",
       "</style>\n",
       "<table border=\"1\" class=\"dataframe\">\n",
       "  <thead>\n",
       "    <tr style=\"text-align: right;\">\n",
       "      <th></th>\n",
       "      <th>text</th>\n",
       "      <th>coarse_label</th>\n",
       "    </tr>\n",
       "  </thead>\n",
       "  <tbody>\n",
       "    <tr>\n",
       "      <th>0</th>\n",
       "      <td>How far is it from Denver to Aspen ?</td>\n",
       "      <td>5</td>\n",
       "    </tr>\n",
       "    <tr>\n",
       "      <th>1</th>\n",
       "      <td>What county is Modesto , California in ?</td>\n",
       "      <td>4</td>\n",
       "    </tr>\n",
       "    <tr>\n",
       "      <th>2</th>\n",
       "      <td>Who was Galileo ?</td>\n",
       "      <td>3</td>\n",
       "    </tr>\n",
       "    <tr>\n",
       "      <th>3</th>\n",
       "      <td>What is an atom ?</td>\n",
       "      <td>2</td>\n",
       "    </tr>\n",
       "    <tr>\n",
       "      <th>4</th>\n",
       "      <td>When did Hawaii become a state ?</td>\n",
       "      <td>5</td>\n",
       "    </tr>\n",
       "    <tr>\n",
       "      <th>...</th>\n",
       "      <td>...</td>\n",
       "      <td>...</td>\n",
       "    </tr>\n",
       "    <tr>\n",
       "      <th>495</th>\n",
       "      <td>Who was the 22nd President of the US ?</td>\n",
       "      <td>3</td>\n",
       "    </tr>\n",
       "    <tr>\n",
       "      <th>496</th>\n",
       "      <td>What is the money they use in Zambia ?</td>\n",
       "      <td>1</td>\n",
       "    </tr>\n",
       "    <tr>\n",
       "      <th>497</th>\n",
       "      <td>How many feet in a mile ?</td>\n",
       "      <td>5</td>\n",
       "    </tr>\n",
       "    <tr>\n",
       "      <th>498</th>\n",
       "      <td>What is the birthstone of October ?</td>\n",
       "      <td>1</td>\n",
       "    </tr>\n",
       "    <tr>\n",
       "      <th>499</th>\n",
       "      <td>What is e-coli ?</td>\n",
       "      <td>2</td>\n",
       "    </tr>\n",
       "  </tbody>\n",
       "</table>\n",
       "<p>500 rows × 2 columns</p>\n",
       "</div>"
      ],
      "text/plain": [
       "                                         text  coarse_label\n",
       "0        How far is it from Denver to Aspen ?             5\n",
       "1    What county is Modesto , California in ?             4\n",
       "2                           Who was Galileo ?             3\n",
       "3                           What is an atom ?             2\n",
       "4            When did Hawaii become a state ?             5\n",
       "..                                        ...           ...\n",
       "495    Who was the 22nd President of the US ?             3\n",
       "496    What is the money they use in Zambia ?             1\n",
       "497                 How many feet in a mile ?             5\n",
       "498       What is the birthstone of October ?             1\n",
       "499                          What is e-coli ?             2\n",
       "\n",
       "[500 rows x 2 columns]"
      ]
     },
     "execution_count": 27,
     "metadata": {},
     "output_type": "execute_result"
    }
   ],
   "source": [
    "initial_labeled_set"
   ]
  },
  {
   "cell_type": "code",
   "execution_count": 28,
   "metadata": {},
   "outputs": [
    {
     "data": {
      "application/vnd.jupyter.widget-view+json": {
       "model_id": "a7533fec96594c42b47befa7b023f6f9",
       "version_major": 2,
       "version_minor": 0
      },
      "text/plain": [
       "  0%|          | 0/15 [00:00<?, ?it/s]"
      ]
     },
     "metadata": {},
     "output_type": "display_data"
    }
   ],
   "source": [
    "hundreds_rows_pred = predict_and_calculate_entropy(initial_labeled_set)"
   ]
  },
  {
   "cell_type": "code",
   "execution_count": 29,
   "metadata": {},
   "outputs": [
    {
     "data": {
      "text/html": [
       "<div>\n",
       "<style scoped>\n",
       "    .dataframe tbody tr th:only-of-type {\n",
       "        vertical-align: middle;\n",
       "    }\n",
       "\n",
       "    .dataframe tbody tr th {\n",
       "        vertical-align: top;\n",
       "    }\n",
       "\n",
       "    .dataframe thead th {\n",
       "        text-align: right;\n",
       "    }\n",
       "</style>\n",
       "<table border=\"1\" class=\"dataframe\">\n",
       "  <thead>\n",
       "    <tr style=\"text-align: right;\">\n",
       "      <th></th>\n",
       "      <th>coarse_label</th>\n",
       "      <th>text</th>\n",
       "      <th>predicted_Label</th>\n",
       "      <th>predicted_Probability</th>\n",
       "      <th>Entropy</th>\n",
       "    </tr>\n",
       "  </thead>\n",
       "  <tbody>\n",
       "    <tr>\n",
       "      <th>82</th>\n",
       "      <td>3</td>\n",
       "      <td>Who was elected president of South Africa in 1...</td>\n",
       "      <td>5</td>\n",
       "      <td>0.832324</td>\n",
       "      <td>1.734356</td>\n",
       "    </tr>\n",
       "    <tr>\n",
       "      <th>90</th>\n",
       "      <td>1</td>\n",
       "      <td>The U.S. Department of Treasury first issued p...</td>\n",
       "      <td>5</td>\n",
       "      <td>0.825969</td>\n",
       "      <td>1.733765</td>\n",
       "    </tr>\n",
       "    <tr>\n",
       "      <th>380</th>\n",
       "      <td>3</td>\n",
       "      <td>Who killed John F. Kennedy ?</td>\n",
       "      <td>5</td>\n",
       "      <td>0.846331</td>\n",
       "      <td>1.732250</td>\n",
       "    </tr>\n",
       "    <tr>\n",
       "      <th>260</th>\n",
       "      <td>3</td>\n",
       "      <td>Who was the first African American to play for...</td>\n",
       "      <td>5</td>\n",
       "      <td>0.819470</td>\n",
       "      <td>1.730721</td>\n",
       "    </tr>\n",
       "    <tr>\n",
       "      <th>345</th>\n",
       "      <td>3</td>\n",
       "      <td>Who painted the ceiling of the Sistine Chapel ?</td>\n",
       "      <td>5</td>\n",
       "      <td>0.875188</td>\n",
       "      <td>1.730302</td>\n",
       "    </tr>\n",
       "    <tr>\n",
       "      <th>...</th>\n",
       "      <td>...</td>\n",
       "      <td>...</td>\n",
       "      <td>...</td>\n",
       "      <td>...</td>\n",
       "      <td>...</td>\n",
       "    </tr>\n",
       "    <tr>\n",
       "      <th>456</th>\n",
       "      <td>1</td>\n",
       "      <td>What is the most common eye color ?</td>\n",
       "      <td>5</td>\n",
       "      <td>1.091080</td>\n",
       "      <td>1.677892</td>\n",
       "    </tr>\n",
       "    <tr>\n",
       "      <th>78</th>\n",
       "      <td>5</td>\n",
       "      <td>How much does the human adult female brain wei...</td>\n",
       "      <td>5</td>\n",
       "      <td>1.082658</td>\n",
       "      <td>1.675189</td>\n",
       "    </tr>\n",
       "    <tr>\n",
       "      <th>218</th>\n",
       "      <td>5</td>\n",
       "      <td>How many pounds in a ton ?</td>\n",
       "      <td>5</td>\n",
       "      <td>1.136351</td>\n",
       "      <td>1.673016</td>\n",
       "    </tr>\n",
       "    <tr>\n",
       "      <th>5</th>\n",
       "      <td>5</td>\n",
       "      <td>How tall is the Sears Building ?</td>\n",
       "      <td>5</td>\n",
       "      <td>1.111017</td>\n",
       "      <td>1.672418</td>\n",
       "    </tr>\n",
       "    <tr>\n",
       "      <th>318</th>\n",
       "      <td>1</td>\n",
       "      <td>What are the two types of twins ?</td>\n",
       "      <td>5</td>\n",
       "      <td>1.126959</td>\n",
       "      <td>1.670754</td>\n",
       "    </tr>\n",
       "  </tbody>\n",
       "</table>\n",
       "<p>500 rows × 5 columns</p>\n",
       "</div>"
      ],
      "text/plain": [
       "     coarse_label                                               text  \\\n",
       "82              3  Who was elected president of South Africa in 1...   \n",
       "90              1  The U.S. Department of Treasury first issued p...   \n",
       "380             3                       Who killed John F. Kennedy ?   \n",
       "260             3  Who was the first African American to play for...   \n",
       "345             3    Who painted the ceiling of the Sistine Chapel ?   \n",
       "..            ...                                                ...   \n",
       "456             1                What is the most common eye color ?   \n",
       "78              5  How much does the human adult female brain wei...   \n",
       "218             5                         How many pounds in a ton ?   \n",
       "5               5                   How tall is the Sears Building ?   \n",
       "318             1                  What are the two types of twins ?   \n",
       "\n",
       "     predicted_Label  predicted_Probability   Entropy  \n",
       "82                 5               0.832324  1.734356  \n",
       "90                 5               0.825969  1.733765  \n",
       "380                5               0.846331  1.732250  \n",
       "260                5               0.819470  1.730721  \n",
       "345                5               0.875188  1.730302  \n",
       "..               ...                    ...       ...  \n",
       "456                5               1.091080  1.677892  \n",
       "78                 5               1.082658  1.675189  \n",
       "218                5               1.136351  1.673016  \n",
       "5                  5               1.111017  1.672418  \n",
       "318                5               1.126959  1.670754  \n",
       "\n",
       "[500 rows x 5 columns]"
      ]
     },
     "execution_count": 29,
     "metadata": {},
     "output_type": "execute_result"
    }
   ],
   "source": [
    "hundreds_rows_pred"
   ]
  },
  {
   "cell_type": "markdown",
   "metadata": {},
   "source": [
    "# Active Learning"
   ]
  },
  {
   "cell_type": "code",
   "execution_count": 30,
   "metadata": {},
   "outputs": [
    {
     "data": {
      "application/vnd.jupyter.widget-view+json": {
       "model_id": "a7e3c913274f44aca38505bab37d6b52",
       "version_major": 2,
       "version_minor": 0
      },
      "text/plain": [
       "  0%|          | 0/7 [00:00<?, ?it/s]"
      ]
     },
     "metadata": {},
     "output_type": "display_data"
    },
    {
     "name": "stdout",
     "output_type": "stream",
     "text": [
      "{'train_runtime': 0.8975, 'train_samples_per_second': 77.995, 'train_steps_per_second': 7.8, 'train_loss': 1.6369082587105888, 'epoch': 7.0}\n"
     ]
    },
    {
     "data": {
      "application/vnd.jupyter.widget-view+json": {
       "model_id": "c7cf69f361f84bc498b27d93d7fd3594",
       "version_major": 2,
       "version_minor": 0
      },
      "text/plain": [
       "  0%|          | 0/15 [00:00<?, ?it/s]"
      ]
     },
     "metadata": {},
     "output_type": "display_data"
    },
    {
     "name": "stdout",
     "output_type": "stream",
     "text": [
      "eval_Accuracy : 0.226\n"
     ]
    },
    {
     "data": {
      "application/vnd.jupyter.widget-view+json": {
       "model_id": "e1320badb97b494db40ba370a812b017",
       "version_major": 2,
       "version_minor": 0
      },
      "text/plain": [
       "  0%|          | 0/14 [00:00<?, ?it/s]"
      ]
     },
     "metadata": {},
     "output_type": "display_data"
    },
    {
     "name": "stdout",
     "output_type": "stream",
     "text": [
      "{'train_runtime': 1.5679, 'train_samples_per_second': 89.291, 'train_steps_per_second': 8.929, 'train_loss': 1.6592562539236886, 'epoch': 7.0}\n"
     ]
    },
    {
     "data": {
      "application/vnd.jupyter.widget-view+json": {
       "model_id": "49bd418c93d84529b119850f727e6c1e",
       "version_major": 2,
       "version_minor": 0
      },
      "text/plain": [
       "  0%|          | 0/15 [00:00<?, ?it/s]"
      ]
     },
     "metadata": {},
     "output_type": "display_data"
    },
    {
     "name": "stdout",
     "output_type": "stream",
     "text": [
      "eval_Accuracy : 0.266\n"
     ]
    },
    {
     "data": {
      "application/vnd.jupyter.widget-view+json": {
       "model_id": "e1eb6d736a7d4f35aaea98c98d9cca18",
       "version_major": 2,
       "version_minor": 0
      },
      "text/plain": [
       "  0%|          | 0/21 [00:00<?, ?it/s]"
      ]
     },
     "metadata": {},
     "output_type": "display_data"
    },
    {
     "name": "stdout",
     "output_type": "stream",
     "text": [
      "{'train_runtime': 2.2181, 'train_samples_per_second': 94.675, 'train_steps_per_second': 9.468, 'train_loss': 1.510508764357794, 'epoch': 7.0}\n"
     ]
    },
    {
     "data": {
      "application/vnd.jupyter.widget-view+json": {
       "model_id": "da2c7fc6950b44559167655deaa878c4",
       "version_major": 2,
       "version_minor": 0
      },
      "text/plain": [
       "  0%|          | 0/15 [00:00<?, ?it/s]"
      ]
     },
     "metadata": {},
     "output_type": "display_data"
    },
    {
     "name": "stdout",
     "output_type": "stream",
     "text": [
      "eval_Accuracy : 0.16\n"
     ]
    },
    {
     "data": {
      "application/vnd.jupyter.widget-view+json": {
       "model_id": "c489a38f6bc44c0f8217587dca8fccd1",
       "version_major": 2,
       "version_minor": 0
      },
      "text/plain": [
       "  0%|          | 0/28 [00:00<?, ?it/s]"
      ]
     },
     "metadata": {},
     "output_type": "display_data"
    },
    {
     "name": "stdout",
     "output_type": "stream",
     "text": [
      "{'train_runtime': 2.9782, 'train_samples_per_second': 94.015, 'train_steps_per_second': 9.402, 'train_loss': 1.2673357554844447, 'epoch': 7.0}\n"
     ]
    },
    {
     "data": {
      "application/vnd.jupyter.widget-view+json": {
       "model_id": "502af2482f2747f7a243e7bba68c78d6",
       "version_major": 2,
       "version_minor": 0
      },
      "text/plain": [
       "  0%|          | 0/15 [00:00<?, ?it/s]"
      ]
     },
     "metadata": {},
     "output_type": "display_data"
    },
    {
     "name": "stdout",
     "output_type": "stream",
     "text": [
      "eval_Accuracy : 0.27\n"
     ]
    },
    {
     "data": {
      "application/vnd.jupyter.widget-view+json": {
       "model_id": "a6dff62165da4e92ae928c6e280b2e22",
       "version_major": 2,
       "version_minor": 0
      },
      "text/plain": [
       "  0%|          | 0/35 [00:00<?, ?it/s]"
      ]
     },
     "metadata": {},
     "output_type": "display_data"
    },
    {
     "name": "stdout",
     "output_type": "stream",
     "text": [
      "{'train_runtime': 3.6934, 'train_samples_per_second': 94.764, 'train_steps_per_second': 9.476, 'train_loss': 0.9710617065429688, 'epoch': 7.0}\n"
     ]
    },
    {
     "data": {
      "application/vnd.jupyter.widget-view+json": {
       "model_id": "c288966c3a414671a78332f85d9906f5",
       "version_major": 2,
       "version_minor": 0
      },
      "text/plain": [
       "  0%|          | 0/15 [00:00<?, ?it/s]"
      ]
     },
     "metadata": {},
     "output_type": "display_data"
    },
    {
     "name": "stdout",
     "output_type": "stream",
     "text": [
      "eval_Accuracy : 0.394\n"
     ]
    },
    {
     "data": {
      "application/vnd.jupyter.widget-view+json": {
       "model_id": "3a88bdc3ae5345269bd3f9cd19973d94",
       "version_major": 2,
       "version_minor": 0
      },
      "text/plain": [
       "  0%|          | 0/42 [00:00<?, ?it/s]"
      ]
     },
     "metadata": {},
     "output_type": "display_data"
    },
    {
     "name": "stdout",
     "output_type": "stream",
     "text": [
      "{'train_runtime': 4.6538, 'train_samples_per_second': 90.249, 'train_steps_per_second': 9.025, 'train_loss': 0.656685057140532, 'epoch': 7.0}\n"
     ]
    },
    {
     "data": {
      "application/vnd.jupyter.widget-view+json": {
       "model_id": "4a72ea8e837b4013809d720716cff71c",
       "version_major": 2,
       "version_minor": 0
      },
      "text/plain": [
       "  0%|          | 0/15 [00:00<?, ?it/s]"
      ]
     },
     "metadata": {},
     "output_type": "display_data"
    },
    {
     "name": "stdout",
     "output_type": "stream",
     "text": [
      "eval_Accuracy : 0.702\n"
     ]
    },
    {
     "data": {
      "application/vnd.jupyter.widget-view+json": {
       "model_id": "5f3326a017a34a47a04c123e0e36047d",
       "version_major": 2,
       "version_minor": 0
      },
      "text/plain": [
       "  0%|          | 0/49 [00:00<?, ?it/s]"
      ]
     },
     "metadata": {},
     "output_type": "display_data"
    },
    {
     "name": "stdout",
     "output_type": "stream",
     "text": [
      "{'train_runtime': 5.8238, 'train_samples_per_second': 84.138, 'train_steps_per_second': 8.414, 'train_loss': 0.32085710642289145, 'epoch': 7.0}\n"
     ]
    },
    {
     "data": {
      "application/vnd.jupyter.widget-view+json": {
       "model_id": "69bb9c3790a64bacb3df9ce3b3320e28",
       "version_major": 2,
       "version_minor": 0
      },
      "text/plain": [
       "  0%|          | 0/15 [00:00<?, ?it/s]"
      ]
     },
     "metadata": {},
     "output_type": "display_data"
    },
    {
     "name": "stdout",
     "output_type": "stream",
     "text": [
      "eval_Accuracy : 0.802\n"
     ]
    },
    {
     "data": {
      "application/vnd.jupyter.widget-view+json": {
       "model_id": "6a6fc17e4f2549ba938b2ac99deb889d",
       "version_major": 2,
       "version_minor": 0
      },
      "text/plain": [
       "  0%|          | 0/56 [00:00<?, ?it/s]"
      ]
     },
     "metadata": {},
     "output_type": "display_data"
    },
    {
     "name": "stdout",
     "output_type": "stream",
     "text": [
      "{'loss': 0.1531, 'learning_rate': 2.5e-05, 'epoch': 6.25}\n"
     ]
    },
    {
     "data": {
      "application/vnd.jupyter.widget-view+json": {
       "model_id": "bb56bfdfdba54a028858379c23ccf9f3",
       "version_major": 2,
       "version_minor": 0
      },
      "text/plain": [
       "  0%|          | 0/15 [00:00<?, ?it/s]"
      ]
     },
     "metadata": {},
     "output_type": "display_data"
    },
    {
     "name": "stdout",
     "output_type": "stream",
     "text": [
      "{'eval_loss': 0.5104478597640991, 'eval_Accuracy': 0.842, 'eval_F1': 0.7088577742537466, 'eval_Precision': 0.8753587812515796, 'eval_Recall': 0.7111452267810824, 'eval_runtime': 0.7667, 'eval_samples_per_second': 652.134, 'eval_steps_per_second': 19.564, 'epoch': 6.25}\n",
      "{'train_runtime': 7.4378, 'train_samples_per_second': 75.291, 'train_steps_per_second': 7.529, 'train_loss': 0.14055744585181987, 'epoch': 7.0}\n"
     ]
    },
    {
     "data": {
      "application/vnd.jupyter.widget-view+json": {
       "model_id": "6719758381bf4086b661e13dc79e2132",
       "version_major": 2,
       "version_minor": 0
      },
      "text/plain": [
       "  0%|          | 0/15 [00:00<?, ?it/s]"
      ]
     },
     "metadata": {},
     "output_type": "display_data"
    },
    {
     "name": "stdout",
     "output_type": "stream",
     "text": [
      "eval_Accuracy : 0.832\n"
     ]
    },
    {
     "data": {
      "application/vnd.jupyter.widget-view+json": {
       "model_id": "3057fda801414e92bac27721727812a1",
       "version_major": 2,
       "version_minor": 0
      },
      "text/plain": [
       "  0%|          | 0/63 [00:00<?, ?it/s]"
      ]
     },
     "metadata": {},
     "output_type": "display_data"
    },
    {
     "name": "stdout",
     "output_type": "stream",
     "text": [
      "{'loss': 0.065, 'learning_rate': 2.5e-05, 'epoch': 5.56}\n"
     ]
    },
    {
     "data": {
      "application/vnd.jupyter.widget-view+json": {
       "model_id": "18959c627c194839a0b5c46cae32df93",
       "version_major": 2,
       "version_minor": 0
      },
      "text/plain": [
       "  0%|          | 0/15 [00:00<?, ?it/s]"
      ]
     },
     "metadata": {},
     "output_type": "display_data"
    },
    {
     "name": "stdout",
     "output_type": "stream",
     "text": [
      "{'eval_loss': 0.5096301436424255, 'eval_Accuracy': 0.856, 'eval_F1': 0.721602495970037, 'eval_Precision': 0.896520288761668, 'eval_Recall': 0.7233091614458971, 'eval_runtime': 0.7695, 'eval_samples_per_second': 649.734, 'eval_steps_per_second': 19.492, 'epoch': 5.56}\n",
      "{'train_runtime': 7.8425, 'train_samples_per_second': 80.331, 'train_steps_per_second': 8.033, 'train_loss': 0.0557500904514676, 'epoch': 7.0}\n"
     ]
    },
    {
     "data": {
      "application/vnd.jupyter.widget-view+json": {
       "model_id": "6769cb79be924612ab46608ffff9f69b",
       "version_major": 2,
       "version_minor": 0
      },
      "text/plain": [
       "  0%|          | 0/15 [00:00<?, ?it/s]"
      ]
     },
     "metadata": {},
     "output_type": "display_data"
    },
    {
     "name": "stdout",
     "output_type": "stream",
     "text": [
      "eval_Accuracy : 0.862\n"
     ]
    },
    {
     "data": {
      "application/vnd.jupyter.widget-view+json": {
       "model_id": "977a228991f143eab1ae7e8f4b48fa7c",
       "version_major": 2,
       "version_minor": 0
      },
      "text/plain": [
       "  0%|          | 0/70 [00:00<?, ?it/s]"
      ]
     },
     "metadata": {},
     "output_type": "display_data"
    },
    {
     "name": "stdout",
     "output_type": "stream",
     "text": [
      "{'loss': 0.0396, 'learning_rate': 2.5e-05, 'epoch': 5.0}\n"
     ]
    },
    {
     "data": {
      "application/vnd.jupyter.widget-view+json": {
       "model_id": "9b533bbbcc83404e9315c2658e2bb5d4",
       "version_major": 2,
       "version_minor": 0
      },
      "text/plain": [
       "  0%|          | 0/15 [00:00<?, ?it/s]"
      ]
     },
     "metadata": {},
     "output_type": "display_data"
    },
    {
     "name": "stdout",
     "output_type": "stream",
     "text": [
      "{'eval_loss': 0.6452326774597168, 'eval_Accuracy': 0.856, 'eval_F1': 0.7517431410454884, 'eval_Precision': 0.9009543821653861, 'eval_Recall': 0.7342134517175016, 'eval_runtime': 0.7711, 'eval_samples_per_second': 648.451, 'eval_steps_per_second': 19.454, 'epoch': 5.0}\n",
      "{'train_runtime': 8.4775, 'train_samples_per_second': 82.571, 'train_steps_per_second': 8.257, 'train_loss': 0.03116792142391205, 'epoch': 7.0}\n"
     ]
    },
    {
     "data": {
      "application/vnd.jupyter.widget-view+json": {
       "model_id": "7ce43f311ae74f12be62eee6a98eedbb",
       "version_major": 2,
       "version_minor": 0
      },
      "text/plain": [
       "  0%|          | 0/15 [00:00<?, ?it/s]"
      ]
     },
     "metadata": {},
     "output_type": "display_data"
    },
    {
     "name": "stdout",
     "output_type": "stream",
     "text": [
      "eval_Accuracy : 0.81\n"
     ]
    },
    {
     "data": {
      "application/vnd.jupyter.widget-view+json": {
       "model_id": "378d3daa839e41fda41cfb512381931f",
       "version_major": 2,
       "version_minor": 0
      },
      "text/plain": [
       "  0%|          | 0/77 [00:00<?, ?it/s]"
      ]
     },
     "metadata": {},
     "output_type": "display_data"
    },
    {
     "name": "stdout",
     "output_type": "stream",
     "text": [
      "{'loss': 0.0243, 'learning_rate': 2.5e-05, 'epoch': 4.55}\n"
     ]
    },
    {
     "data": {
      "application/vnd.jupyter.widget-view+json": {
       "model_id": "2473c7235b4a499a92a655d9f501e97f",
       "version_major": 2,
       "version_minor": 0
      },
      "text/plain": [
       "  0%|          | 0/15 [00:00<?, ?it/s]"
      ]
     },
     "metadata": {},
     "output_type": "display_data"
    },
    {
     "name": "stdout",
     "output_type": "stream",
     "text": [
      "{'eval_loss': 0.7100499272346497, 'eval_Accuracy': 0.85, 'eval_F1': 0.749592113137881, 'eval_Precision': 0.8978243736518997, 'eval_Recall': 0.7288977329810002, 'eval_runtime': 0.7747, 'eval_samples_per_second': 645.434, 'eval_steps_per_second': 19.363, 'epoch': 4.55}\n",
      "{'train_runtime': 9.5636, 'train_samples_per_second': 80.513, 'train_steps_per_second': 8.051, 'train_loss': 0.021352875542331052, 'epoch': 7.0}\n"
     ]
    },
    {
     "data": {
      "application/vnd.jupyter.widget-view+json": {
       "model_id": "fa5d1466d83447599e4df59c69f2ace7",
       "version_major": 2,
       "version_minor": 0
      },
      "text/plain": [
       "  0%|          | 0/15 [00:00<?, ?it/s]"
      ]
     },
     "metadata": {},
     "output_type": "display_data"
    },
    {
     "name": "stdout",
     "output_type": "stream",
     "text": [
      "eval_Accuracy : 0.858\n"
     ]
    },
    {
     "data": {
      "application/vnd.jupyter.widget-view+json": {
       "model_id": "a6a29121b5304ca5b21a151aeb0f0a60",
       "version_major": 2,
       "version_minor": 0
      },
      "text/plain": [
       "  0%|          | 0/84 [00:00<?, ?it/s]"
      ]
     },
     "metadata": {},
     "output_type": "display_data"
    },
    {
     "name": "stdout",
     "output_type": "stream",
     "text": [
      "{'loss': 0.056, 'learning_rate': 2.5e-05, 'epoch': 4.17}\n"
     ]
    },
    {
     "data": {
      "application/vnd.jupyter.widget-view+json": {
       "model_id": "cdc22a22fc3c42b29e832ee6c8015ee5",
       "version_major": 2,
       "version_minor": 0
      },
      "text/plain": [
       "  0%|          | 0/15 [00:00<?, ?it/s]"
      ]
     },
     "metadata": {},
     "output_type": "display_data"
    },
    {
     "name": "stdout",
     "output_type": "stream",
     "text": [
      "{'eval_loss': 0.5316433310508728, 'eval_Accuracy': 0.888, 'eval_F1': 0.7810930513906232, 'eval_Precision': 0.9220229789555762, 'eval_Recall': 0.7647144445784493, 'eval_runtime': 0.7776, 'eval_samples_per_second': 642.994, 'eval_steps_per_second': 19.29, 'epoch': 4.17}\n",
      "{'train_runtime': 10.1531, 'train_samples_per_second': 82.733, 'train_steps_per_second': 8.273, 'train_loss': 0.03386065315100409, 'epoch': 7.0}\n"
     ]
    },
    {
     "data": {
      "application/vnd.jupyter.widget-view+json": {
       "model_id": "af278d68a3c44f79b8d8251aa67dce9a",
       "version_major": 2,
       "version_minor": 0
      },
      "text/plain": [
       "  0%|          | 0/15 [00:00<?, ?it/s]"
      ]
     },
     "metadata": {},
     "output_type": "display_data"
    },
    {
     "name": "stdout",
     "output_type": "stream",
     "text": [
      "eval_Accuracy : 0.908\n"
     ]
    },
    {
     "data": {
      "application/vnd.jupyter.widget-view+json": {
       "model_id": "a3a38d53eb36470c912e9b7d1f5b1938",
       "version_major": 2,
       "version_minor": 0
      },
      "text/plain": [
       "  0%|          | 0/91 [00:00<?, ?it/s]"
      ]
     },
     "metadata": {},
     "output_type": "display_data"
    },
    {
     "name": "stdout",
     "output_type": "stream",
     "text": [
      "{'loss': 0.0168, 'learning_rate': 2.5e-05, 'epoch': 3.85}\n"
     ]
    },
    {
     "data": {
      "application/vnd.jupyter.widget-view+json": {
       "model_id": "297a00216f944b0c89380913690031e5",
       "version_major": 2,
       "version_minor": 0
      },
      "text/plain": [
       "  0%|          | 0/15 [00:00<?, ?it/s]"
      ]
     },
     "metadata": {},
     "output_type": "display_data"
    },
    {
     "name": "stdout",
     "output_type": "stream",
     "text": [
      "{'eval_loss': 0.6297459602355957, 'eval_Accuracy': 0.9, 'eval_F1': 0.7913217408168447, 'eval_Precision': 0.9282908263614255, 'eval_Recall': 0.7755619916275451, 'eval_runtime': 0.7868, 'eval_samples_per_second': 635.451, 'eval_steps_per_second': 19.064, 'epoch': 3.85}\n",
      "{'train_runtime': 11.4068, 'train_samples_per_second': 79.777, 'train_steps_per_second': 7.978, 'train_loss': 0.009456193258801659, 'epoch': 7.0}\n"
     ]
    },
    {
     "data": {
      "application/vnd.jupyter.widget-view+json": {
       "model_id": "e0b39091a32c4fb9939e311f1c57a082",
       "version_major": 2,
       "version_minor": 0
      },
      "text/plain": [
       "  0%|          | 0/15 [00:00<?, ?it/s]"
      ]
     },
     "metadata": {},
     "output_type": "display_data"
    },
    {
     "name": "stdout",
     "output_type": "stream",
     "text": [
      "eval_Accuracy : 0.866\n"
     ]
    },
    {
     "data": {
      "application/vnd.jupyter.widget-view+json": {
       "model_id": "50044188c60840fdbab3e507a952f03a",
       "version_major": 2,
       "version_minor": 0
      },
      "text/plain": [
       "  0%|          | 0/98 [00:00<?, ?it/s]"
      ]
     },
     "metadata": {},
     "output_type": "display_data"
    },
    {
     "name": "stdout",
     "output_type": "stream",
     "text": [
      "{'loss': 0.0006, 'learning_rate': 2.5e-05, 'epoch': 3.57}\n"
     ]
    },
    {
     "data": {
      "application/vnd.jupyter.widget-view+json": {
       "model_id": "26f4e366512442da95de2b8a63d5e939",
       "version_major": 2,
       "version_minor": 0
      },
      "text/plain": [
       "  0%|          | 0/15 [00:00<?, ?it/s]"
      ]
     },
     "metadata": {},
     "output_type": "display_data"
    },
    {
     "name": "stdout",
     "output_type": "stream",
     "text": [
      "{'eval_loss': 0.913695752620697, 'eval_Accuracy': 0.88, 'eval_F1': 0.8252041503498706, 'eval_Precision': 0.9167511256048276, 'eval_Recall': 0.7987129605263329, 'eval_runtime': 0.7855, 'eval_samples_per_second': 636.548, 'eval_steps_per_second': 19.096, 'epoch': 3.57}\n",
      "{'train_runtime': 11.7841, 'train_samples_per_second': 83.163, 'train_steps_per_second': 8.316, 'train_loss': 0.0003983870965941828, 'epoch': 7.0}\n"
     ]
    },
    {
     "data": {
      "application/vnd.jupyter.widget-view+json": {
       "model_id": "f2814cd136fb4a71bf9e2466a0551b24",
       "version_major": 2,
       "version_minor": 0
      },
      "text/plain": [
       "  0%|          | 0/15 [00:00<?, ?it/s]"
      ]
     },
     "metadata": {},
     "output_type": "display_data"
    },
    {
     "name": "stdout",
     "output_type": "stream",
     "text": [
      "eval_Accuracy : 0.916\n"
     ]
    },
    {
     "data": {
      "application/vnd.jupyter.widget-view+json": {
       "model_id": "4948baf616fb4412a0bc164475064de0",
       "version_major": 2,
       "version_minor": 0
      },
      "text/plain": [
       "  0%|          | 0/105 [00:00<?, ?it/s]"
      ]
     },
     "metadata": {},
     "output_type": "display_data"
    },
    {
     "name": "stdout",
     "output_type": "stream",
     "text": [
      "{'loss': 0.0559, 'learning_rate': 2.5e-05, 'epoch': 3.33}\n"
     ]
    },
    {
     "data": {
      "application/vnd.jupyter.widget-view+json": {
       "model_id": "9c50015ce82d4130a0c6a235e793e7dc",
       "version_major": 2,
       "version_minor": 0
      },
      "text/plain": [
       "  0%|          | 0/15 [00:00<?, ?it/s]"
      ]
     },
     "metadata": {},
     "output_type": "display_data"
    },
    {
     "name": "stdout",
     "output_type": "stream",
     "text": [
      "{'eval_loss': 1.0021882057189941, 'eval_Accuracy': 0.872, 'eval_F1': 0.8258234697634576, 'eval_Precision': 0.8539521156575929, 'eval_Recall': 0.8162758260391283, 'eval_runtime': 0.8004, 'eval_samples_per_second': 624.715, 'eval_steps_per_second': 18.741, 'epoch': 3.33}\n",
      "{'loss': 0.0129, 'learning_rate': 5e-05, 'epoch': 6.67}\n"
     ]
    },
    {
     "data": {
      "application/vnd.jupyter.widget-view+json": {
       "model_id": "081bb7340ef14c049146dddccfb35370",
       "version_major": 2,
       "version_minor": 0
      },
      "text/plain": [
       "  0%|          | 0/15 [00:00<?, ?it/s]"
      ]
     },
     "metadata": {},
     "output_type": "display_data"
    },
    {
     "name": "stdout",
     "output_type": "stream",
     "text": [
      "{'eval_loss': 0.8400993943214417, 'eval_Accuracy': 0.892, 'eval_F1': 0.8597997575556433, 'eval_Precision': 0.9271886613084436, 'eval_Recall': 0.8287692785922238, 'eval_runtime': 0.7959, 'eval_samples_per_second': 628.191, 'eval_steps_per_second': 18.846, 'epoch': 6.67}\n",
      "{'train_runtime': 13.5616, 'train_samples_per_second': 77.425, 'train_steps_per_second': 7.742, 'train_loss': 0.032770584562482934, 'epoch': 7.0}\n"
     ]
    },
    {
     "data": {
      "application/vnd.jupyter.widget-view+json": {
       "model_id": "c6242a98953244f4a011ad5254be430e",
       "version_major": 2,
       "version_minor": 0
      },
      "text/plain": [
       "  0%|          | 0/15 [00:00<?, ?it/s]"
      ]
     },
     "metadata": {},
     "output_type": "display_data"
    },
    {
     "name": "stdout",
     "output_type": "stream",
     "text": [
      "eval_Accuracy : 0.896\n"
     ]
    }
   ],
   "source": [
    "# Initialize empty lists to store metrics for each iteration\n",
    "accuracy_list = []\n",
    "precision_list = []\n",
    "recall_list = []\n",
    "loss_list = []\n",
    "x_labels = []\n",
    "n = 0\n",
    "\n",
    "for iteration in range(15):\n",
    "    n += 10\n",
    "    #print(n)\n",
    "    #print(hundreds_rows_pred[0:n])\n",
    "    initial_labeled_encoding = tokenizer(hundreds_rows_pred[0:n]['text'].to_list(), truncation=True, padding=True)\n",
    "    initial_labeled_labels = hundreds_rows_pred[0:n].coarse_label.to_list()\n",
    "    initial_labeled_dataloader = DataLoader(initial_labeled_encoding,initial_labeled_labels)\n",
    "\n",
    "   \n",
    "    trainer = Trainer(\n",
    "        #the pre-trained bert model that will be fine-tuned\n",
    "        model=model,\n",
    "        #training arguments that we defined above\n",
    "        args=training_args,\n",
    "        train_dataset= initial_labeled_dataloader,\n",
    "        eval_dataset = test_dataloader,\n",
    "        compute_metrics= compute_metrics\n",
    "    )\n",
    "\n",
    "    trainer.train()  \n",
    "\n",
    "\n",
    "    #hundreds_rows_pred = predict_and_calculate_entropy(hundreds_rows_pred)\n",
    "\n",
    "\n",
    "    metrics = trainer.evaluate()\n",
    "\n",
    "    print('eval_Accuracy :',metrics['eval_Accuracy'])\n",
    "\n",
    "    accuracy_list.append(metrics['eval_Accuracy'])\n",
    "    precision_list.append(metrics['eval_Precision'])\n",
    "    recall_list.append(metrics['eval_Recall'])\n",
    "    loss_list.append(metrics['eval_loss'])\n",
    "    x_labels.append(n)\n",
    "\n"
   ]
  },
  {
   "cell_type": "code",
<<<<<<< Updated upstream
   "execution_count": 31,
   "metadata": {},
   "outputs": [],
   "source": [
    "bert_pred_df = pd.DataFrame({'Bert_Pred' : predicted_labels, 'Label' : test_df['coarse_label'].to_list() }) \n",
    "\n",
    "bert_pred_df.to_csv('Trec_coarse_label_Bert_Pred.csv',index=False)"
   ]
  },
  {
   "cell_type": "code",
   "execution_count": 32,
=======
   "execution_count": null,
>>>>>>> Stashed changes
   "metadata": {},
   "outputs": [
    {
     "data": {
      "image/png": "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",
      "text/plain": [
       "<Figure size 1600x600 with 3 Axes>"
      ]
     },
     "metadata": {},
     "output_type": "display_data"
    }
   ],
   "source": [
    "# Plot the metrics\n",
    "plt.figure(figsize=(16, 6))\n",
    "plt.subplot(1, 3, 1)\n",
    "plt.plot(x_labels, accuracy_list, marker='o')\n",
    "plt.title('Accuracy Over Iterations')\n",
    "plt.xlabel('Number of Samples')\n",
    "plt.ylabel('Accuracy')\n",
    "\n",
    "plt.subplot(1, 3, 2)\n",
    "plt.plot(x_labels, precision_list, marker='o')\n",
    "plt.title('Precision Over Iterations')\n",
    "plt.xlabel('Number of Samples')\n",
    "plt.ylabel('Precision')\n",
    "\n",
    "plt.subplot(1, 3, 3)\n",
    "plt.plot(x_labels, recall_list, marker='o')\n",
    "plt.title('Recall Over Iterations')\n",
    "plt.xlabel('Number of Samples')\n",
    "plt.ylabel('Recall')\n",
    "\n",
    "plt.tight_layout()\n",
    "plt.show()"
   ]
  },
  {
   "cell_type": "code",
<<<<<<< Updated upstream
   "execution_count": 33,
=======
   "execution_count": null,
>>>>>>> Stashed changes
   "metadata": {},
   "outputs": [
    {
     "data": {
      "application/vnd.jupyter.widget-view+json": {
       "model_id": "52616613675a4f8f9bb7c2b8f044d3b7",
       "version_major": 2,
       "version_minor": 0
      },
      "text/plain": [
       "  0%|          | 0/15 [00:00<?, ?it/s]"
      ]
     },
     "metadata": {},
     "output_type": "display_data"
    },
    {
     "name": "stdout",
     "output_type": "stream",
     "text": [
      "accuracy 90.0% \n"
     ]
    }
   ],
   "source": [
    "predictions = trainer.predict(test_dataloader)\n",
    "predicted_labels = predictions.predictions.argmax(axis=1)\n",
    "accuracy = accuracy_score(test_df['coarse_label'].to_list(),predicted_labels)\n",
    "print('accuracy {}% '.format(np.round(accuracy * 100)))\n"
   ]
  },
  {
   "cell_type": "code",
   "execution_count": 34,
   "metadata": {},
   "outputs": [],
   "source": [
    "from sklearn.metrics import confusion_matrix\n"
   ]
  },
  {
   "cell_type": "markdown",
   "metadata": {},
   "source": [
    "# Confusion Matrix"
   ]
  },
  {
   "cell_type": "code",
   "execution_count": 35,
   "metadata": {},
   "outputs": [
    {
     "data": {
      "image/png": "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",
      "text/plain": [
       "<Figure size 1200x1000 with 2 Axes>"
      ]
     },
     "metadata": {},
     "output_type": "display_data"
    }
   ],
   "source": [
    "# Compute the confusion matrix\n",
    "cm = confusion_matrix(test_df['coarse_label'].to_list(),predicted_labels)\n",
    "\n",
    "# Create a heatmap of the confusion matrix\n",
    "plt.figure(figsize=(12, 10))\n",
    "sns.heatmap(cm, annot=True, fmt=\"d\", cmap=\"Blues\")\n",
    "plt.xlabel('Predicted Labels')\n",
    "plt.ylabel('True Labels')\n",
    "plt.title('Confusion Matrix')\n",
    "\n",
    "# Save the confusion matrix as an image\n",
    "plt.savefig('confusion_matrix.png')\n",
    "plt.show()"
   ]
  },
  {
   "cell_type": "code",
   "execution_count": 36,
   "metadata": {},
   "outputs": [
    {
     "data": {
      "application/vnd.jupyter.widget-view+json": {
       "model_id": "aefa02705a8540ad9fcf3d4de626080a",
       "version_major": 2,
       "version_minor": 0
      },
      "text/plain": [
       "  0%|          | 0/8 [00:00<?, ?it/s]"
      ]
     },
     "metadata": {},
     "output_type": "display_data"
    }
   ],
   "source": [
    "predictions = trainer.predict(train_dataloader)"
   ]
  },
  {
   "cell_type": "code",
   "execution_count": 37,
   "metadata": {},
   "outputs": [],
   "source": [
    "predicted_labels = predictions.predictions.argmax(axis=1)"
   ]
  },
  {
   "cell_type": "code",
   "execution_count": 38,
   "metadata": {},
   "outputs": [
    {
     "data": {
      "text/plain": [
       "array([1, 4, 1, 5, 2, 2, 4, 2, 4, 1, 1, 2, 5, 1, 3, 1, 4, 2, 5, 1, 5, 1,\n",
       "       1, 4, 1, 5, 3, 3, 4, 1, 5, 2, 2, 5, 3, 2, 1, 4, 5, 4, 4, 0, 1, 4,\n",
       "       1, 1, 1, 1, 2, 1, 1, 1, 5, 1, 1, 1, 5, 3, 2, 1, 3, 1, 2, 5, 1, 3,\n",
       "       5, 4, 1, 1, 5, 5, 3, 3, 1, 1, 2, 1, 2, 1, 1, 4, 1, 2, 1, 1, 4, 2,\n",
       "       5, 4, 3, 2, 3, 1, 3, 4, 3, 2, 5, 5, 4, 3, 3, 1, 3, 5, 5, 5, 3, 4,\n",
       "       1, 1, 5, 1, 5, 3, 2, 1, 3, 1, 3, 1, 5, 4, 2, 1, 3, 3, 3, 5, 3, 1,\n",
       "       3, 3, 1, 4, 2, 3, 4, 3, 1, 2, 3, 5, 2, 4, 4, 5, 1, 5, 5, 2, 1, 5,\n",
       "       1, 1, 1, 1, 1, 4, 1, 1, 5, 1, 2, 1, 5, 1, 1, 4, 1, 3, 2, 3, 1, 3,\n",
       "       5, 1, 2, 3, 4, 2, 0, 1, 3, 5, 5, 5, 3, 1, 3, 3, 3, 1, 1, 5, 1, 4,\n",
       "       5, 1, 1, 3, 3, 1, 2, 1, 0, 1, 1, 4, 1, 3, 5, 4, 5, 2, 5, 3, 4, 5,\n",
       "       3, 5, 1, 5, 3, 1, 3, 3, 0, 3, 3, 1, 4, 1, 1, 1, 1, 1, 3, 1, 3, 1,\n",
       "       1, 0, 5, 5, 5, 1, 5, 1, 5, 1, 1, 2, 5, 5, 3, 2, 5, 2, 3, 4, 5, 1,\n",
       "       3, 5, 3, 1, 1, 2, 3, 0], dtype=int64)"
      ]
     },
     "execution_count": 38,
     "metadata": {},
     "output_type": "execute_result"
    }
   ],
   "source": [
    "predicted_labels"
   ]
  },
  {
   "cell_type": "code",
   "execution_count": 39,
   "metadata": {},
   "outputs": [
    {
     "data": {
      "text/plain": [
       "[10, 20, 30, 40, 50, 60, 70, 80, 90, 100, 110, 120, 130, 140, 150]"
      ]
     },
     "execution_count": 39,
     "metadata": {},
     "output_type": "execute_result"
    }
   ],
   "source": [
    "x_labels"
   ]
  },
  {
   "cell_type": "code",
   "execution_count": 41,
   "metadata": {},
   "outputs": [
    {
     "name": "stdout",
     "output_type": "stream",
     "text": [
      "CSV file 'TREC_ACC.csv' has been created.\n"
     ]
    }
   ],
   "source": [
    "import csv\n",
    "\n",
    "\n",
    "# Combine the lists into a list of tuples\n",
    "data = list(zip(x_labels, accuracy_list, precision_list, recall_list, loss_list))\n",
    "\n",
    "# Specify the file name\n",
    "csv_file_name = \"TREC_ACC.csv\"\n",
    "\n",
    "# Write the data to a CSV file\n",
    "with open(csv_file_name, 'w', newline='') as csv_file:\n",
    "    csv_writer = csv.writer(csv_file)\n",
    "    \n",
    "    csv_writer.writerow(['Labels', 'accuracy', 'precision', 'recall', 'loss'])\n",
    "    \n",
    "    # Write the data\n",
    "    csv_writer.writerows(data)\n",
    "\n",
    "print(f\"CSV file '{csv_file_name}' has been created.\")\n"
   ]
  }
 ],
 "metadata": {
  "kernelspec": {
   "display_name": "base",
   "language": "python",
   "name": "python3"
  },
  "language_info": {
   "codemirror_mode": {
    "name": "ipython",
    "version": 3
   },
   "file_extension": ".py",
   "mimetype": "text/x-python",
   "name": "python",
   "nbconvert_exporter": "python",
   "pygments_lexer": "ipython3",
   "version": "3.10.13"
  }
 },
 "nbformat": 4,
 "nbformat_minor": 2
}
