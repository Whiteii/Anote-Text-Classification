{
 "cells": [
  {
   "cell_type": "code",
   "execution_count": 1,
   "metadata": {},
   "outputs": [],
   "source": [
    "import pandas as pd\n",
    "from datasets import load_dataset\n",
    "import matplotlib.pyplot as plt\n",
    "import torch, os\n",
    "from torch.utils.data import Dataset\n",
    "from ipywidgets import interact \n",
    "import seaborn as sns\n",
    "from transformers import BertTokenizerFast, BertForSequenceClassification, TrainingArguments, Trainer\n",
    "from sklearn.model_selection import train_test_split\n",
    "from sklearn.metrics import accuracy_score, precision_recall_fscore_support\n",
    "import tensorflow as tf\n",
    "import numpy as np"
   ]
  },
  {
   "cell_type": "code",
   "execution_count": 2,
   "metadata": {},
   "outputs": [
    {
     "data": {
      "text/plain": [
       "'2.1.0'"
      ]
     },
     "execution_count": 2,
     "metadata": {},
     "output_type": "execute_result"
    }
   ],
   "source": [
    "torch.__version__"
   ]
  },
  {
   "cell_type": "code",
   "execution_count": null,
   "metadata": {},
   "outputs": [],
   "source": [
    "pd.read_csv('Amazon.csv')"
   ]
  },
  {
   "cell_type": "markdown",
   "metadata": {},
   "source": [
    "# Loading Data"
   ]
  },
  {
   "cell_type": "code",
   "execution_count": 4,
   "metadata": {},
   "outputs": [],
   "source": [
    "train_df, test_df = pd.read_csv('Amazon_Reviews_Train.csv'), pd.read_csv('Amazon_Reviews_Test.csv')"
   ]
  },
  {
   "cell_type": "code",
   "execution_count": 5,
   "metadata": {},
   "outputs": [
    {
     "data": {
      "text/html": [
       "<div>\n",
       "<style scoped>\n",
       "    .dataframe tbody tr th:only-of-type {\n",
       "        vertical-align: middle;\n",
       "    }\n",
       "\n",
       "    .dataframe tbody tr th {\n",
       "        vertical-align: top;\n",
       "    }\n",
       "\n",
       "    .dataframe thead th {\n",
       "        text-align: right;\n",
       "    }\n",
       "</style>\n",
       "<table border=\"1\" class=\"dataframe\">\n",
       "  <thead>\n",
       "    <tr style=\"text-align: right;\">\n",
       "      <th></th>\n",
       "      <th>brand</th>\n",
       "      <th>primaryCategories</th>\n",
       "      <th>reviews.numHelpful</th>\n",
       "      <th>reviews.rating</th>\n",
       "      <th>reviews.text</th>\n",
       "    </tr>\n",
       "  </thead>\n",
       "  <tbody>\n",
       "    <tr>\n",
       "      <th>0</th>\n",
       "      <td>2</td>\n",
       "      <td>Health &amp; Beauty</td>\n",
       "      <td>NaN</td>\n",
       "      <td>4</td>\n",
       "      <td>Amazon's batteries are great. I've had no prob...</td>\n",
       "    </tr>\n",
       "    <tr>\n",
       "      <th>1</th>\n",
       "      <td>2</td>\n",
       "      <td>Health &amp; Beauty</td>\n",
       "      <td>NaN</td>\n",
       "      <td>4</td>\n",
       "      <td>always need batteries</td>\n",
       "    </tr>\n",
       "    <tr>\n",
       "      <th>2</th>\n",
       "      <td>0</td>\n",
       "      <td>Electronics</td>\n",
       "      <td>0.0</td>\n",
       "      <td>3</td>\n",
       "      <td>It's pretty good for what it is designed to do...</td>\n",
       "    </tr>\n",
       "    <tr>\n",
       "      <th>3</th>\n",
       "      <td>0</td>\n",
       "      <td>Electronics</td>\n",
       "      <td>0.0</td>\n",
       "      <td>3</td>\n",
       "      <td>I love it it comes with a 12 month kids subscr...</td>\n",
       "    </tr>\n",
       "    <tr>\n",
       "      <th>4</th>\n",
       "      <td>0</td>\n",
       "      <td>Electronics</td>\n",
       "      <td>0.0</td>\n",
       "      <td>3</td>\n",
       "      <td>For the price, it is quite a nice tablet. I mu...</td>\n",
       "    </tr>\n",
       "    <tr>\n",
       "      <th>...</th>\n",
       "      <td>...</td>\n",
       "      <td>...</td>\n",
       "      <td>...</td>\n",
       "      <td>...</td>\n",
       "      <td>...</td>\n",
       "    </tr>\n",
       "    <tr>\n",
       "      <th>5995</th>\n",
       "      <td>0</td>\n",
       "      <td>Electronics</td>\n",
       "      <td>0.0</td>\n",
       "      <td>3</td>\n",
       "      <td>Bought for wife who is not into the techie wor...</td>\n",
       "    </tr>\n",
       "    <tr>\n",
       "      <th>5996</th>\n",
       "      <td>0</td>\n",
       "      <td>Electronics</td>\n",
       "      <td>0.0</td>\n",
       "      <td>3</td>\n",
       "      <td>I thought it would be good for my 2year old he...</td>\n",
       "    </tr>\n",
       "    <tr>\n",
       "      <th>5997</th>\n",
       "      <td>2</td>\n",
       "      <td>Health &amp; Beauty</td>\n",
       "      <td>NaN</td>\n",
       "      <td>0</td>\n",
       "      <td>Wrong Item</td>\n",
       "    </tr>\n",
       "    <tr>\n",
       "      <th>5998</th>\n",
       "      <td>0</td>\n",
       "      <td>Electronics,Media</td>\n",
       "      <td>16.0</td>\n",
       "      <td>3</td>\n",
       "      <td>I got oasis yesterday, very lighweight compare...</td>\n",
       "    </tr>\n",
       "    <tr>\n",
       "      <th>5999</th>\n",
       "      <td>0</td>\n",
       "      <td>Office Supplies,Electronics</td>\n",
       "      <td>0.0</td>\n",
       "      <td>3</td>\n",
       "      <td>Nice alternative for reading kindle books for ...</td>\n",
       "    </tr>\n",
       "  </tbody>\n",
       "</table>\n",
       "<p>6000 rows × 5 columns</p>\n",
       "</div>"
      ],
      "text/plain": [
       "      brand            primaryCategories  reviews.numHelpful  reviews.rating  \\\n",
       "0         2              Health & Beauty                 NaN               4   \n",
       "1         2              Health & Beauty                 NaN               4   \n",
       "2         0                  Electronics                 0.0               3   \n",
       "3         0                  Electronics                 0.0               3   \n",
       "4         0                  Electronics                 0.0               3   \n",
       "...     ...                          ...                 ...             ...   \n",
       "5995      0                  Electronics                 0.0               3   \n",
       "5996      0                  Electronics                 0.0               3   \n",
       "5997      2              Health & Beauty                 NaN               0   \n",
       "5998      0            Electronics,Media                16.0               3   \n",
       "5999      0  Office Supplies,Electronics                 0.0               3   \n",
       "\n",
       "                                           reviews.text  \n",
       "0     Amazon's batteries are great. I've had no prob...  \n",
       "1                                 always need batteries  \n",
       "2     It's pretty good for what it is designed to do...  \n",
       "3     I love it it comes with a 12 month kids subscr...  \n",
       "4     For the price, it is quite a nice tablet. I mu...  \n",
       "...                                                 ...  \n",
       "5995  Bought for wife who is not into the techie wor...  \n",
       "5996  I thought it would be good for my 2year old he...  \n",
       "5997                                         Wrong Item  \n",
       "5998  I got oasis yesterday, very lighweight compare...  \n",
       "5999  Nice alternative for reading kindle books for ...  \n",
       "\n",
       "[6000 rows x 5 columns]"
      ]
     },
     "execution_count": 5,
     "metadata": {},
     "output_type": "execute_result"
    }
   ],
   "source": [
    "train_df"
   ]
  },
  {
   "cell_type": "code",
   "execution_count": 7,
   "metadata": {},
   "outputs": [
    {
     "data": {
      "text/plain": [
       "(2000, 5)"
      ]
     },
     "execution_count": 7,
     "metadata": {},
     "output_type": "execute_result"
    }
   ],
   "source": [
    "test_df.shape"
   ]
  },
  {
   "cell_type": "code",
   "execution_count": 12,
   "metadata": {},
   "outputs": [],
   "source": [
    "from sklearn.model_selection import train_test_split\n",
    "initial_labeled_set, pool = train_test_split(train_df, test_size=0.95, stratify=train_df['reviews.rating'])"
   ]
  },
  {
   "cell_type": "code",
   "execution_count": 18,
   "metadata": {},
   "outputs": [],
   "source": [
    "num_labels = 5\n",
    "id_to_label = {\n",
    "    0: \"Bad\",\n",
    "    1: \"Good\",\n",
    "    2: \"Neutral\",\n",
    "    3: \"Very Good\",\n",
    "    4: \"Excellent\"\n",
    "}\n",
    "\n",
    "label_to_id = {value : key for key , value in  id_to_label.items()}\n",
    "\n",
    "\n"
   ]
  },
  {
   "cell_type": "markdown",
   "metadata": {},
   "source": [
    "# Spliting Data into train_encodings, test_encodings"
   ]
  },
  {
   "cell_type": "code",
   "execution_count": 20,
   "metadata": {},
   "outputs": [],
   "source": [
    "tokenizer = BertTokenizerFast.from_pretrained(\"bert-base-uncased\", max_length=512)"
   ]
  },
  {
   "cell_type": "code",
   "execution_count": 24,
   "metadata": {},
   "outputs": [],
   "source": [
    "train_encodings = tokenizer(train_df['reviews.text'].to_list(), truncation=True, padding=True)\n",
    "test_encodings = tokenizer(test_df['reviews.text'].to_list(), truncation=True, padding=True)\n",
    "train_labels = train_df['reviews.rating'].to_list()\n",
    "test_labels = test_df['reviews.rating'].to_list()"
   ]
  },
  {
   "cell_type": "code",
   "execution_count": 26,
   "metadata": {},
   "outputs": [
    {
     "name": "stderr",
     "output_type": "stream",
     "text": [
      "Some weights of BertForSequenceClassification were not initialized from the model checkpoint at bert-base-uncased and are newly initialized: ['classifier.weight', 'classifier.bias']\n",
      "You should probably TRAIN this model on a down-stream task to be able to use it for predictions and inference.\n"
     ]
    }
   ],
   "source": [
    "model = BertForSequenceClassification.from_pretrained('bert-base-uncased', num_labels=5, id2label = id_to_label, label2id = label_to_id)"
   ]
  },
  {
   "cell_type": "markdown",
   "metadata": {},
   "source": [
    "### TrainingArguments, Dataloader, Metrics are needed to construct this Fine-tune the model"
   ]
  },
  {
   "cell_type": "code",
   "execution_count": 27,
   "metadata": {},
   "outputs": [],
   "source": [
    "training_args = TrainingArguments(\n",
    "    output_dir='./BERTModel2',\n",
    "    do_train=True,\n",
    "    do_eval=True,\n",
    "    num_train_epochs=3,  # Reduced number of epochs.\n",
    "    per_device_train_batch_size=5,  # Reduced batch size for training.\n",
    "    per_device_eval_batch_size=20,  # Reduced batch size for evaluation.\n",
    "    warmup_steps=100,\n",
    "    weight_decay=0.01,\n",
    "    logging_strategy='steps',\n",
    "    logging_dir='./multi-class-logs',\n",
    "    logging_steps=50,\n",
    "    evaluation_strategy=\"steps\",\n",
    "    eval_steps=50,\n",
    "    save_strategy=\"steps\",\n",
    "    fp16=True,  # Enable mixed precision training.\n",
    ")\n"
   ]
  },
  {
   "cell_type": "code",
   "execution_count": 28,
   "metadata": {},
   "outputs": [],
   "source": [
    "class DataLoader(Dataset):\n",
    "    def __init__(self, encodings, labels):\n",
    "        self.encodings = encodings\n",
    "        self.labels = labels\n",
    "    def __getitem__(self, idx):\n",
    "        \"\"\"\n",
    "          This construct a dict that is (index position) to encoding pairs.\n",
    "          Where the Encoding becomes tensor(Encoding), which is an requirements\n",
    "          for training the model\n",
    "        \"\"\"\n",
    "        item = {key: torch.tensor(val[idx]) for key, val in self.encodings.items()}\n",
    "        item['labels'] = torch.tensor(self.labels[idx])\n",
    "        return item\n",
    "    def __len__(self):\n",
    "        \"\"\"\n",
    "        Returns the number of data items in the dataset.\n",
    "\n",
    "        \"\"\"\n",
    "        return len(self.labels)"
   ]
  },
  {
   "cell_type": "code",
   "execution_count": 29,
   "metadata": {},
   "outputs": [],
   "source": [
    "def compute_metrics(pred):\n",
    "    \n",
    "   \n",
    "    # Extract true labels from the input object\n",
    "    labels = pred.label_ids\n",
    "\n",
    "    # Obtain predicted class labels by finding the column index with the maximum probability\n",
    "    preds = pred.predictions.argmax(-1)\n",
    "\n",
    "    # Compute macro precision, recall, and F1 score using sklearn's precision_recall_fscore_support function\n",
    "    precision, recall, f1, _ = precision_recall_fscore_support(labels, preds, average='macro',zero_division=1)\n",
    "\n",
    "    # Calculate the accuracy score using sklearn's accuracy_score function\n",
    "    acc = accuracy_score(labels, preds)\n",
    "\n",
    "    # Return the computed metrics as a dictionary\n",
    "    return {\n",
    "        'Accuracy': acc,\n",
    "        'F1': f1,\n",
    "        'Precision': precision,\n",
    "        'Recall': recall\n",
    "    }"
   ]
  },
  {
   "cell_type": "markdown",
   "metadata": {},
   "source": [
    "# Calling our Dataloader"
   ]
  },
  {
   "cell_type": "code",
   "execution_count": 30,
   "metadata": {},
   "outputs": [],
   "source": [
    "train_dataloader = DataLoader(train_encodings,train_labels)\n",
    "test_dataloader = DataLoader(test_encodings,test_labels)"
   ]
  },
  {
   "cell_type": "code",
   "execution_count": 31,
   "metadata": {},
   "outputs": [],
   "source": [
    "trainer = Trainer(\n",
    "    #the pre-trained bert model that will be fine-tuned\n",
    "    model=model,\n",
    "    #training arguments that we defined above\n",
    "    args=training_args,\n",
    "    train_dataset= train_dataloader,\n",
    "    eval_dataset = test_dataloader,\n",
    "    compute_metrics= compute_metrics\n",
    ")"
   ]
  },
  {
   "cell_type": "markdown",
   "metadata": {},
   "source": [
    "#  Evaluate the prediction accuracy of our model on the dataset without training or fine-tuning it"
   ]
  },
  {
   "cell_type": "code",
   "execution_count": 32,
   "metadata": {},
   "outputs": [
    {
     "data": {
      "application/vnd.jupyter.widget-view+json": {
       "model_id": "a8b80298ecea48858780fb46977b14e4",
       "version_major": 2,
       "version_minor": 0
      },
      "text/plain": [
       "  0%|          | 0/100 [00:00<?, ?it/s]"
      ]
     },
     "metadata": {},
     "output_type": "display_data"
    }
   ],
   "source": [
    "predictions = trainer.predict(test_dataloader)\n"
   ]
  },
  {
   "cell_type": "code",
   "execution_count": 33,
   "metadata": {},
   "outputs": [],
   "source": [
    "predicted_labels = predictions.predictions.argmax(axis=1)\n"
   ]
  },
  {
   "cell_type": "code",
   "execution_count": 35,
   "metadata": {},
   "outputs": [
    {
     "name": "stdout",
     "output_type": "stream",
     "text": [
      "accuracy 10.0% \n"
     ]
    }
   ],
   "source": [
    "accuracy = accuracy_score(test_df['reviews.rating'].to_list(),predicted_labels)\n",
    "print('accuracy {}% '.format(np.round(accuracy * 100)))"
   ]
  },
  {
   "cell_type": "markdown",
   "metadata": {},
   "source": [
    "## An Active Learning Approach Based On Uncertain Sampling"
   ]
  },
  {
   "cell_type": "code",
   "execution_count": 36,
   "metadata": {},
   "outputs": [
    {
     "data": {
      "text/html": [
       "<div>\n",
       "<style scoped>\n",
       "    .dataframe tbody tr th:only-of-type {\n",
       "        vertical-align: middle;\n",
       "    }\n",
       "\n",
       "    .dataframe tbody tr th {\n",
       "        vertical-align: top;\n",
       "    }\n",
       "\n",
       "    .dataframe thead th {\n",
       "        text-align: right;\n",
       "    }\n",
       "</style>\n",
       "<table border=\"1\" class=\"dataframe\">\n",
       "  <thead>\n",
       "    <tr style=\"text-align: right;\">\n",
       "      <th></th>\n",
       "      <th>brand</th>\n",
       "      <th>primaryCategories</th>\n",
       "      <th>reviews.numHelpful</th>\n",
       "      <th>reviews.rating</th>\n",
       "      <th>reviews.text</th>\n",
       "    </tr>\n",
       "  </thead>\n",
       "  <tbody>\n",
       "    <tr>\n",
       "      <th>2175</th>\n",
       "      <td>2</td>\n",
       "      <td>Health &amp; Beauty</td>\n",
       "      <td>NaN</td>\n",
       "      <td>4</td>\n",
       "      <td>Great batteries, great price, fast shipping.</td>\n",
       "    </tr>\n",
       "    <tr>\n",
       "      <th>3573</th>\n",
       "      <td>2</td>\n",
       "      <td>Health &amp; Beauty</td>\n",
       "      <td>NaN</td>\n",
       "      <td>3</td>\n",
       "      <td>good value and time will tell if they last as ...</td>\n",
       "    </tr>\n",
       "    <tr>\n",
       "      <th>5196</th>\n",
       "      <td>2</td>\n",
       "      <td>Health &amp; Beauty</td>\n",
       "      <td>NaN</td>\n",
       "      <td>3</td>\n",
       "      <td>Some of the batteries were already dead, but n...</td>\n",
       "    </tr>\n",
       "    <tr>\n",
       "      <th>3258</th>\n",
       "      <td>0</td>\n",
       "      <td>Electronics</td>\n",
       "      <td>1.0</td>\n",
       "      <td>3</td>\n",
       "      <td>After dropping my Kindle with a keyboard (not ...</td>\n",
       "    </tr>\n",
       "    <tr>\n",
       "      <th>5642</th>\n",
       "      <td>2</td>\n",
       "      <td>Health &amp; Beauty</td>\n",
       "      <td>NaN</td>\n",
       "      <td>1</td>\n",
       "      <td>Only 3 worked out of the entire pack.</td>\n",
       "    </tr>\n",
       "  </tbody>\n",
       "</table>\n",
       "</div>"
      ],
      "text/plain": [
       "      brand primaryCategories  reviews.numHelpful  reviews.rating  \\\n",
       "2175      2   Health & Beauty                 NaN               4   \n",
       "3573      2   Health & Beauty                 NaN               3   \n",
       "5196      2   Health & Beauty                 NaN               3   \n",
       "3258      0       Electronics                 1.0               3   \n",
       "5642      2   Health & Beauty                 NaN               1   \n",
       "\n",
       "                                           reviews.text  \n",
       "2175       Great batteries, great price, fast shipping.  \n",
       "3573  good value and time will tell if they last as ...  \n",
       "5196  Some of the batteries were already dead, but n...  \n",
       "3258  After dropping my Kindle with a keyboard (not ...  \n",
       "5642              Only 3 worked out of the entire pack.  "
      ]
     },
     "execution_count": 36,
     "metadata": {},
     "output_type": "execute_result"
    }
   ],
   "source": [
    "initial_labeled_set.head() # so we fine_tune with the inital_labeled data"
   ]
  },
  {
   "cell_type": "code",
   "execution_count": 37,
   "metadata": {},
   "outputs": [
    {
     "data": {
      "text/plain": [
       "(300, 5)"
      ]
     },
     "execution_count": 37,
     "metadata": {},
     "output_type": "execute_result"
    }
   ],
   "source": [
    "initial_labeled_set.shape"
   ]
  },
  {
   "cell_type": "markdown",
   "metadata": {},
   "source": [
    "# "
   ]
  },
  {
   "cell_type": "code",
   "execution_count": 38,
   "metadata": {},
   "outputs": [],
   "source": [
    "def entropy_for_each_row(class_probabilities):\n",
    "    \"\"\" Calculate entropy for each row in the array \"\"\"\n",
    "    return -tf.reduce_sum(class_probabilities * tf.math.log(class_probabilities),axis=1)"
   ]
  },
  {
   "cell_type": "code",
   "execution_count": 48,
   "metadata": {},
   "outputs": [],
   "source": [
    "def predict_and_calculate_entropy(data):\n",
    "    \n",
    "    ''' \n",
    "    Predict and Calculate Entropy\n",
    "    \n",
    "    This function makes predictions using a pre-trained BERT model, calculates the entropy (uncertainty) of these predictions, \n",
    "    and creates a DataFrame containing relevant information.\n",
    "    \n",
    "    Args:\n",
    "        data (DataFrame): A Pandas DataFrame containing text data and associated labels. The DataFrame should have \n",
    "        columns 'example' for text data and 'label' for labels.\n",
    "\n",
    "    Returns:\n",
    "        final_df (DataFrame): A Pandas DataFrame containing the following columns:\n",
    "            - 'example': The original text data.\n",
    "            - 'predicted_Label': The predicted class labels based on the model's predictions.\n",
    "            - 'predicted_Probability': The maximum predicted probability for each instance.\n",
    "            - 'Entropy': The calculated entropy (uncertainty) for each instance.\n",
    "            - 'label': The original labels from the input data.\n",
    "    ''' \n",
    "\n",
    "    \n",
    "            \n",
    "    # Sample the Data \n",
    "    data_encodings = tokenizer(data['reviews.text'].to_list(), truncation=True, padding=True)\n",
    "    dataloader = DataLoader(data_encodings, data['reviews.rating'].to_list())\n",
    "\n",
    "    # Make predictions with class_probabilities and calculate entropy (uncertainty) \n",
    "    predictions = trainer.predict(dataloader)\n",
    "    prediction_probabilities = tf.constant(predictions.predictions)\n",
    "\n",
    "    # Predicted Labels \n",
    "    predicted_labels = predictions.predictions.argmax(axis=1)\n",
    "\n",
    "    \n",
    "    # Prediction probabilities, returning the highest probability for each instance\n",
    "    prediction_probabilities_max = np.amax(prediction_probabilities, axis=1)\n",
    "\n",
    "    # Calculate entropy for each instance\n",
    "    entropies = entropy_for_each_row(tf.nn.softmax(prediction_probabilities))\n",
    "\n",
    "    entropy_df = pd.DataFrame(\n",
    "        {'reviews.text' : data['reviews.text'].to_list(),\n",
    "         'predicted_Label': predicted_labels,\n",
    "         'predicted_Probability': prediction_probabilities_max,\n",
    "         'Entropy': entropies},\n",
    "        index=data.index\n",
    "    )\n",
    "\n",
    "    final_df = pd.concat([data['reviews.rating'], entropy_df], axis=1)\n",
    "\n",
    "    return final_df.sort_values(by=['Entropy'],ascending=False)\n"
   ]
  },
  {
   "cell_type": "markdown",
   "metadata": {},
   "source": [
    "# Simulated Active Learning"
   ]
  },
  {
   "cell_type": "code",
   "execution_count": 43,
   "metadata": {},
   "outputs": [],
   "source": [
    "initial_labeled_set2 = test_df.head(150)"
   ]
  },
  {
   "cell_type": "code",
   "execution_count": 44,
   "metadata": {},
   "outputs": [
    {
     "data": {
      "text/html": [
       "<div>\n",
       "<style scoped>\n",
       "    .dataframe tbody tr th:only-of-type {\n",
       "        vertical-align: middle;\n",
       "    }\n",
       "\n",
       "    .dataframe tbody tr th {\n",
       "        vertical-align: top;\n",
       "    }\n",
       "\n",
       "    .dataframe thead th {\n",
       "        text-align: right;\n",
       "    }\n",
       "</style>\n",
       "<table border=\"1\" class=\"dataframe\">\n",
       "  <thead>\n",
       "    <tr style=\"text-align: right;\">\n",
       "      <th></th>\n",
       "      <th>brand</th>\n",
       "      <th>primaryCategories</th>\n",
       "      <th>reviews.numHelpful</th>\n",
       "      <th>reviews.rating</th>\n",
       "      <th>reviews.text</th>\n",
       "    </tr>\n",
       "  </thead>\n",
       "  <tbody>\n",
       "    <tr>\n",
       "      <th>0</th>\n",
       "      <td>2</td>\n",
       "      <td>Health &amp; Beauty</td>\n",
       "      <td>NaN</td>\n",
       "      <td>3</td>\n",
       "      <td>A lot of battery for the buck.</td>\n",
       "    </tr>\n",
       "    <tr>\n",
       "      <th>1</th>\n",
       "      <td>0</td>\n",
       "      <td>Electronics</td>\n",
       "      <td>0.0</td>\n",
       "      <td>3</td>\n",
       "      <td>Great tablet for toddlers. Easy yet fun. I pur...</td>\n",
       "    </tr>\n",
       "    <tr>\n",
       "      <th>2</th>\n",
       "      <td>2</td>\n",
       "      <td>Health &amp; Beauty</td>\n",
       "      <td>NaN</td>\n",
       "      <td>0</td>\n",
       "      <td>I love Amazon and Amazon products but....MAJOR...</td>\n",
       "    </tr>\n",
       "    <tr>\n",
       "      <th>3</th>\n",
       "      <td>2</td>\n",
       "      <td>Health &amp; Beauty</td>\n",
       "      <td>NaN</td>\n",
       "      <td>4</td>\n",
       "      <td>Fast delivery of product as advertised.</td>\n",
       "    </tr>\n",
       "    <tr>\n",
       "      <th>4</th>\n",
       "      <td>2</td>\n",
       "      <td>Health &amp; Beauty</td>\n",
       "      <td>NaN</td>\n",
       "      <td>3</td>\n",
       "      <td>Battery life is equivalent to name-brand, mid-...</td>\n",
       "    </tr>\n",
       "    <tr>\n",
       "      <th>...</th>\n",
       "      <td>...</td>\n",
       "      <td>...</td>\n",
       "      <td>...</td>\n",
       "      <td>...</td>\n",
       "      <td>...</td>\n",
       "    </tr>\n",
       "    <tr>\n",
       "      <th>145</th>\n",
       "      <td>0</td>\n",
       "      <td>Electronics</td>\n",
       "      <td>0.0</td>\n",
       "      <td>3</td>\n",
       "      <td>So I think I would have rated 5 stars however ...</td>\n",
       "    </tr>\n",
       "    <tr>\n",
       "      <th>146</th>\n",
       "      <td>0</td>\n",
       "      <td>Toys &amp; Games,Electronics</td>\n",
       "      <td>0.0</td>\n",
       "      <td>3</td>\n",
       "      <td>This is a great tablet for young children. Our...</td>\n",
       "    </tr>\n",
       "    <tr>\n",
       "      <th>147</th>\n",
       "      <td>2</td>\n",
       "      <td>Health &amp; Beauty</td>\n",
       "      <td>NaN</td>\n",
       "      <td>3</td>\n",
       "      <td>These are great! They work well. A great price...</td>\n",
       "    </tr>\n",
       "    <tr>\n",
       "      <th>148</th>\n",
       "      <td>2</td>\n",
       "      <td>Health &amp; Beauty</td>\n",
       "      <td>NaN</td>\n",
       "      <td>4</td>\n",
       "      <td>Long lasting in a high drain device</td>\n",
       "    </tr>\n",
       "    <tr>\n",
       "      <th>149</th>\n",
       "      <td>0</td>\n",
       "      <td>Electronics</td>\n",
       "      <td>0.0</td>\n",
       "      <td>3</td>\n",
       "      <td>It's alright to browse the Internet and watch ...</td>\n",
       "    </tr>\n",
       "  </tbody>\n",
       "</table>\n",
       "<p>150 rows × 5 columns</p>\n",
       "</div>"
      ],
      "text/plain": [
       "     brand         primaryCategories  reviews.numHelpful  reviews.rating  \\\n",
       "0        2           Health & Beauty                 NaN               3   \n",
       "1        0               Electronics                 0.0               3   \n",
       "2        2           Health & Beauty                 NaN               0   \n",
       "3        2           Health & Beauty                 NaN               4   \n",
       "4        2           Health & Beauty                 NaN               3   \n",
       "..     ...                       ...                 ...             ...   \n",
       "145      0               Electronics                 0.0               3   \n",
       "146      0  Toys & Games,Electronics                 0.0               3   \n",
       "147      2           Health & Beauty                 NaN               3   \n",
       "148      2           Health & Beauty                 NaN               4   \n",
       "149      0               Electronics                 0.0               3   \n",
       "\n",
       "                                          reviews.text  \n",
       "0                       A lot of battery for the buck.  \n",
       "1    Great tablet for toddlers. Easy yet fun. I pur...  \n",
       "2    I love Amazon and Amazon products but....MAJOR...  \n",
       "3              Fast delivery of product as advertised.  \n",
       "4    Battery life is equivalent to name-brand, mid-...  \n",
       "..                                                 ...  \n",
       "145  So I think I would have rated 5 stars however ...  \n",
       "146  This is a great tablet for young children. Our...  \n",
       "147  These are great! They work well. A great price...  \n",
       "148                Long lasting in a high drain device  \n",
       "149  It's alright to browse the Internet and watch ...  \n",
       "\n",
       "[150 rows x 5 columns]"
      ]
     },
     "execution_count": 44,
     "metadata": {},
     "output_type": "execute_result"
    }
   ],
   "source": [
    "initial_labeled_set2"
   ]
  },
  {
   "cell_type": "code",
   "execution_count": 49,
   "metadata": {},
   "outputs": [
    {
     "data": {
      "application/vnd.jupyter.widget-view+json": {
       "model_id": "011963f539ff4edf94457c88b678381c",
       "version_major": 2,
       "version_minor": 0
      },
      "text/plain": [
       "  0%|          | 0/8 [00:00<?, ?it/s]"
      ]
     },
     "metadata": {},
     "output_type": "display_data"
    }
   ],
   "source": [
    "hundreds_rows_pred = predict_and_calculate_entropy(initial_labeled_set2)"
   ]
  },
  {
   "cell_type": "code",
   "execution_count": 50,
   "metadata": {},
   "outputs": [
    {
     "data": {
      "text/html": [
       "<div>\n",
       "<style scoped>\n",
       "    .dataframe tbody tr th:only-of-type {\n",
       "        vertical-align: middle;\n",
       "    }\n",
       "\n",
       "    .dataframe tbody tr th {\n",
       "        vertical-align: top;\n",
       "    }\n",
       "\n",
       "    .dataframe thead th {\n",
       "        text-align: right;\n",
       "    }\n",
       "</style>\n",
       "<table border=\"1\" class=\"dataframe\">\n",
       "  <thead>\n",
       "    <tr style=\"text-align: right;\">\n",
       "      <th></th>\n",
       "      <th>reviews.rating</th>\n",
       "      <th>reviews.text</th>\n",
       "      <th>predicted_Label</th>\n",
       "      <th>predicted_Probability</th>\n",
       "      <th>Entropy</th>\n",
       "    </tr>\n",
       "  </thead>\n",
       "  <tbody>\n",
       "    <tr>\n",
       "      <th>62</th>\n",
       "      <td>2</td>\n",
       "      <td>I'll be paying extra for energizers they last ...</td>\n",
       "      <td>2</td>\n",
       "      <td>0.128662</td>\n",
       "      <td>1.580889</td>\n",
       "    </tr>\n",
       "    <tr>\n",
       "      <th>12</th>\n",
       "      <td>4</td>\n",
       "      <td>They work</td>\n",
       "      <td>2</td>\n",
       "      <td>0.401123</td>\n",
       "      <td>1.563986</td>\n",
       "    </tr>\n",
       "    <tr>\n",
       "      <th>53</th>\n",
       "      <td>4</td>\n",
       "      <td>great value</td>\n",
       "      <td>2</td>\n",
       "      <td>0.429199</td>\n",
       "      <td>1.560337</td>\n",
       "    </tr>\n",
       "    <tr>\n",
       "      <th>59</th>\n",
       "      <td>3</td>\n",
       "      <td>For the price it's a bargain. This is a perfec...</td>\n",
       "      <td>2</td>\n",
       "      <td>0.183228</td>\n",
       "      <td>1.557272</td>\n",
       "    </tr>\n",
       "    <tr>\n",
       "      <th>80</th>\n",
       "      <td>4</td>\n",
       "      <td>satisfied</td>\n",
       "      <td>2</td>\n",
       "      <td>0.464600</td>\n",
       "      <td>1.551230</td>\n",
       "    </tr>\n",
       "    <tr>\n",
       "      <th>...</th>\n",
       "      <td>...</td>\n",
       "      <td>...</td>\n",
       "      <td>...</td>\n",
       "      <td>...</td>\n",
       "      <td>...</td>\n",
       "    </tr>\n",
       "    <tr>\n",
       "      <th>32</th>\n",
       "      <td>4</td>\n",
       "      <td>Great bargain.</td>\n",
       "      <td>2</td>\n",
       "      <td>0.679688</td>\n",
       "      <td>1.441965</td>\n",
       "    </tr>\n",
       "    <tr>\n",
       "      <th>89</th>\n",
       "      <td>4</td>\n",
       "      <td>Seem to last. Can't beat price point.</td>\n",
       "      <td>2</td>\n",
       "      <td>0.707520</td>\n",
       "      <td>1.430040</td>\n",
       "    </tr>\n",
       "    <tr>\n",
       "      <th>130</th>\n",
       "      <td>4</td>\n",
       "      <td>Great batteries.</td>\n",
       "      <td>2</td>\n",
       "      <td>0.725586</td>\n",
       "      <td>1.430027</td>\n",
       "    </tr>\n",
       "    <tr>\n",
       "      <th>106</th>\n",
       "      <td>3</td>\n",
       "      <td>PURCHASED THIS WITH A STORE CREDIT AND LIKE IT...</td>\n",
       "      <td>2</td>\n",
       "      <td>0.718750</td>\n",
       "      <td>1.429536</td>\n",
       "    </tr>\n",
       "    <tr>\n",
       "      <th>3</th>\n",
       "      <td>4</td>\n",
       "      <td>Fast delivery of product as advertised.</td>\n",
       "      <td>2</td>\n",
       "      <td>0.743164</td>\n",
       "      <td>1.418004</td>\n",
       "    </tr>\n",
       "  </tbody>\n",
       "</table>\n",
       "<p>150 rows × 5 columns</p>\n",
       "</div>"
      ],
      "text/plain": [
       "     reviews.rating                                       reviews.text  \\\n",
       "62                2  I'll be paying extra for energizers they last ...   \n",
       "12                4                                          They work   \n",
       "53                4                                        great value   \n",
       "59                3  For the price it's a bargain. This is a perfec...   \n",
       "80                4                                          satisfied   \n",
       "..              ...                                                ...   \n",
       "32                4                                     Great bargain.   \n",
       "89                4              Seem to last. Can't beat price point.   \n",
       "130               4                                   Great batteries.   \n",
       "106               3  PURCHASED THIS WITH A STORE CREDIT AND LIKE IT...   \n",
       "3                 4            Fast delivery of product as advertised.   \n",
       "\n",
       "     predicted_Label  predicted_Probability   Entropy  \n",
       "62                 2               0.128662  1.580889  \n",
       "12                 2               0.401123  1.563986  \n",
       "53                 2               0.429199  1.560337  \n",
       "59                 2               0.183228  1.557272  \n",
       "80                 2               0.464600  1.551230  \n",
       "..               ...                    ...       ...  \n",
       "32                 2               0.679688  1.441965  \n",
       "89                 2               0.707520  1.430040  \n",
       "130                2               0.725586  1.430027  \n",
       "106                2               0.718750  1.429536  \n",
       "3                  2               0.743164  1.418004  \n",
       "\n",
       "[150 rows x 5 columns]"
      ]
     },
     "execution_count": 50,
     "metadata": {},
     "output_type": "execute_result"
    }
   ],
   "source": [
    "hundreds_rows_pred"
   ]
  },
  {
   "cell_type": "markdown",
   "metadata": {},
   "source": [
    "# Active Learning"
   ]
  },
  {
   "cell_type": "code",
   "execution_count": 52,
   "metadata": {},
   "outputs": [
    {
     "name": "stdout",
     "output_type": "stream",
     "text": [
      "10\n"
     ]
    },
    {
     "data": {
      "application/vnd.jupyter.widget-view+json": {
       "model_id": "26ab3523b3f64d7e9a9336efc24f4fe4",
       "version_major": 2,
       "version_minor": 0
      },
      "text/plain": [
       "  0%|          | 0/6 [00:00<?, ?it/s]"
      ]
     },
     "metadata": {},
     "output_type": "display_data"
    },
    {
     "name": "stdout",
     "output_type": "stream",
     "text": [
      "{'train_runtime': 1.329, 'train_samples_per_second': 22.574, 'train_steps_per_second': 4.515, 'train_loss': 1.7027344703674316, 'epoch': 3.0}\n"
     ]
    },
    {
     "data": {
      "application/vnd.jupyter.widget-view+json": {
       "model_id": "123fcfb018cd490d80a7fa07381f8b75",
       "version_major": 2,
       "version_minor": 0
      },
      "text/plain": [
       "  0%|          | 0/100 [00:00<?, ?it/s]"
      ]
     },
     "metadata": {},
     "output_type": "display_data"
    },
    {
     "name": "stdout",
     "output_type": "stream",
     "text": [
      "eval_Accuracy : 0.1005\n",
      "20\n"
     ]
    },
    {
     "data": {
      "application/vnd.jupyter.widget-view+json": {
       "model_id": "d4558c4007bb451a9add7d1f5c4c19da",
       "version_major": 2,
       "version_minor": 0
      },
      "text/plain": [
       "  0%|          | 0/12 [00:00<?, ?it/s]"
      ]
     },
     "metadata": {},
     "output_type": "display_data"
    },
    {
     "name": "stdout",
     "output_type": "stream",
     "text": [
      "{'train_runtime': 1.4665, 'train_samples_per_second': 40.913, 'train_steps_per_second': 8.183, 'train_loss': 1.7119628588358562, 'epoch': 3.0}\n"
     ]
    },
    {
     "data": {
      "application/vnd.jupyter.widget-view+json": {
       "model_id": "ceb6666aa29d41ca9b8e5f408493309a",
       "version_major": 2,
       "version_minor": 0
      },
      "text/plain": [
       "  0%|          | 0/100 [00:00<?, ?it/s]"
      ]
     },
     "metadata": {},
     "output_type": "display_data"
    },
    {
     "name": "stdout",
     "output_type": "stream",
     "text": [
      "eval_Accuracy : 0.101\n",
      "30\n"
     ]
    },
    {
     "data": {
      "application/vnd.jupyter.widget-view+json": {
       "model_id": "6a0267406ae044098c670eab37b75c4e",
       "version_major": 2,
       "version_minor": 0
      },
      "text/plain": [
       "  0%|          | 0/18 [00:00<?, ?it/s]"
      ]
     },
     "metadata": {},
     "output_type": "display_data"
    },
    {
     "name": "stdout",
     "output_type": "stream",
     "text": [
      "{'train_runtime': 2.2644, 'train_samples_per_second': 39.745, 'train_steps_per_second': 7.949, 'train_loss': 1.6363336775037978, 'epoch': 3.0}\n"
     ]
    },
    {
     "data": {
      "application/vnd.jupyter.widget-view+json": {
       "model_id": "9598e58596d34e74b1d1c60307ef1e21",
       "version_major": 2,
       "version_minor": 0
      },
      "text/plain": [
       "  0%|          | 0/100 [00:00<?, ?it/s]"
      ]
     },
     "metadata": {},
     "output_type": "display_data"
    },
    {
     "name": "stdout",
     "output_type": "stream",
     "text": [
      "eval_Accuracy : 0.1005\n",
      "40\n"
     ]
    },
    {
     "data": {
      "application/vnd.jupyter.widget-view+json": {
       "model_id": "866312b1b0c74384b1c37a96d56e73a6",
       "version_major": 2,
       "version_minor": 0
      },
      "text/plain": [
       "  0%|          | 0/24 [00:00<?, ?it/s]"
      ]
     },
     "metadata": {},
     "output_type": "display_data"
    },
    {
     "name": "stdout",
     "output_type": "stream",
     "text": [
      "{'train_runtime': 3.2889, 'train_samples_per_second': 36.486, 'train_steps_per_second': 7.297, 'train_loss': 1.513810157775879, 'epoch': 3.0}\n"
     ]
    },
    {
     "data": {
      "application/vnd.jupyter.widget-view+json": {
       "model_id": "4cca3373381d4b46898c4ac3fc8b3c35",
       "version_major": 2,
       "version_minor": 0
      },
      "text/plain": [
       "  0%|          | 0/100 [00:00<?, ?it/s]"
      ]
     },
     "metadata": {},
     "output_type": "display_data"
    },
    {
     "name": "stdout",
     "output_type": "stream",
     "text": [
      "eval_Accuracy : 0.1825\n",
      "50\n"
     ]
    },
    {
     "data": {
      "application/vnd.jupyter.widget-view+json": {
       "model_id": "9bb23ef2ee28400881a175e907fc5fdb",
       "version_major": 2,
       "version_minor": 0
      },
      "text/plain": [
       "  0%|          | 0/30 [00:00<?, ?it/s]"
      ]
     },
     "metadata": {},
     "output_type": "display_data"
    },
    {
     "name": "stdout",
     "output_type": "stream",
     "text": [
      "{'train_runtime': 3.7755, 'train_samples_per_second': 39.73, 'train_steps_per_second': 7.946, 'train_loss': 1.281448491414388, 'epoch': 3.0}\n"
     ]
    },
    {
     "data": {
      "application/vnd.jupyter.widget-view+json": {
       "model_id": "33816ecde2694d149e5d0bbcdf3e62e9",
       "version_major": 2,
       "version_minor": 0
      },
      "text/plain": [
       "  0%|          | 0/100 [00:00<?, ?it/s]"
      ]
     },
     "metadata": {},
     "output_type": "display_data"
    },
    {
     "name": "stdout",
     "output_type": "stream",
     "text": [
      "eval_Accuracy : 0.5185\n",
      "60\n"
     ]
    },
    {
     "data": {
      "application/vnd.jupyter.widget-view+json": {
       "model_id": "993e3b7a28f14907bb3d28f6ca7a9ddf",
       "version_major": 2,
       "version_minor": 0
      },
      "text/plain": [
       "  0%|          | 0/36 [00:00<?, ?it/s]"
      ]
     },
     "metadata": {},
     "output_type": "display_data"
    },
    {
     "name": "stdout",
     "output_type": "stream",
     "text": [
      "{'train_runtime': 4.9679, 'train_samples_per_second': 36.233, 'train_steps_per_second': 7.247, 'train_loss': 1.0105875862969294, 'epoch': 3.0}\n"
     ]
    },
    {
     "data": {
      "application/vnd.jupyter.widget-view+json": {
       "model_id": "ec6a793084cd46a9847177bfcf301719",
       "version_major": 2,
       "version_minor": 0
      },
      "text/plain": [
       "  0%|          | 0/100 [00:00<?, ?it/s]"
      ]
     },
     "metadata": {},
     "output_type": "display_data"
    },
    {
     "name": "stdout",
     "output_type": "stream",
     "text": [
      "eval_Accuracy : 0.5345\n",
      "70\n"
     ]
    },
    {
     "data": {
      "application/vnd.jupyter.widget-view+json": {
       "model_id": "59bcdeeeeb084de0a02bbe5e54666665",
       "version_major": 2,
       "version_minor": 0
      },
      "text/plain": [
       "  0%|          | 0/42 [00:00<?, ?it/s]"
      ]
     },
     "metadata": {},
     "output_type": "display_data"
    },
    {
     "name": "stdout",
     "output_type": "stream",
     "text": [
      "{'train_runtime': 5.791, 'train_samples_per_second': 36.263, 'train_steps_per_second': 7.253, 'train_loss': 0.85432007199242, 'epoch': 3.0}\n"
     ]
    },
    {
     "data": {
      "application/vnd.jupyter.widget-view+json": {
       "model_id": "2e4b4e43c0724f70bb4bc639aa618941",
       "version_major": 2,
       "version_minor": 0
      },
      "text/plain": [
       "  0%|          | 0/100 [00:00<?, ?it/s]"
      ]
     },
     "metadata": {},
     "output_type": "display_data"
    },
    {
     "name": "stdout",
     "output_type": "stream",
     "text": [
      "eval_Accuracy : 0.493\n",
      "80\n"
     ]
    },
    {
     "data": {
      "application/vnd.jupyter.widget-view+json": {
       "model_id": "a82eaf7aee454155808e0f5c2e5f2002",
       "version_major": 2,
       "version_minor": 0
      },
      "text/plain": [
       "  0%|          | 0/48 [00:00<?, ?it/s]"
      ]
     },
     "metadata": {},
     "output_type": "display_data"
    },
    {
     "name": "stdout",
     "output_type": "stream",
     "text": [
      "{'train_runtime': 6.4989, 'train_samples_per_second': 36.929, 'train_steps_per_second': 7.386, 'train_loss': 0.7551875114440918, 'epoch': 3.0}\n"
     ]
    },
    {
     "data": {
      "application/vnd.jupyter.widget-view+json": {
       "model_id": "4d7f7c04eb434e5d8140f9bcbc4d397d",
       "version_major": 2,
       "version_minor": 0
      },
      "text/plain": [
       "  0%|          | 0/100 [00:00<?, ?it/s]"
      ]
     },
     "metadata": {},
     "output_type": "display_data"
    },
    {
     "name": "stdout",
     "output_type": "stream",
     "text": [
      "eval_Accuracy : 0.5685\n",
      "90\n"
     ]
    },
    {
     "data": {
      "application/vnd.jupyter.widget-view+json": {
       "model_id": "2fff9d10999a45efa50234883e0f9cc6",
       "version_major": 2,
       "version_minor": 0
      },
      "text/plain": [
       "  0%|          | 0/54 [00:00<?, ?it/s]"
      ]
     },
     "metadata": {},
     "output_type": "display_data"
    },
    {
     "name": "stdout",
     "output_type": "stream",
     "text": [
      "{'loss': 0.5435, 'learning_rate': 2.4e-05, 'epoch': 2.78}\n"
     ]
    },
    {
     "data": {
      "application/vnd.jupyter.widget-view+json": {
       "model_id": "2355feb982b34193b8f2557c1df45dbc",
       "version_major": 2,
       "version_minor": 0
      },
      "text/plain": [
       "  0%|          | 0/100 [00:00<?, ?it/s]"
      ]
     },
     "metadata": {},
     "output_type": "display_data"
    },
    {
     "name": "stdout",
     "output_type": "stream",
     "text": [
      "{'eval_loss': 1.2118996381759644, 'eval_Accuracy': 0.5795, 'eval_F1': 0.2866460250250227, 'eval_Precision': 0.6958476619278903, 'eval_Recall': 0.292367476445403, 'eval_runtime': 31.7021, 'eval_samples_per_second': 63.087, 'eval_steps_per_second': 3.154, 'epoch': 2.78}\n",
      "{'train_runtime': 39.012, 'train_samples_per_second': 6.921, 'train_steps_per_second': 1.384, 'train_loss': 0.5510782665676541, 'epoch': 3.0}\n"
     ]
    },
    {
     "data": {
      "application/vnd.jupyter.widget-view+json": {
       "model_id": "00875198391e476593b70509f6bac4bd",
       "version_major": 2,
       "version_minor": 0
      },
      "text/plain": [
       "  0%|          | 0/100 [00:00<?, ?it/s]"
      ]
     },
     "metadata": {},
     "output_type": "display_data"
    },
    {
     "name": "stdout",
     "output_type": "stream",
     "text": [
      "eval_Accuracy : 0.5095\n",
      "100\n"
     ]
    },
    {
     "data": {
      "application/vnd.jupyter.widget-view+json": {
       "model_id": "471c851be1d640e0a550c5e6555aa355",
       "version_major": 2,
       "version_minor": 0
      },
      "text/plain": [
       "  0%|          | 0/60 [00:00<?, ?it/s]"
      ]
     },
     "metadata": {},
     "output_type": "display_data"
    },
    {
     "name": "stdout",
     "output_type": "stream",
     "text": [
      "{'loss': 0.5097, 'learning_rate': 2.3000000000000003e-05, 'epoch': 2.5}\n"
     ]
    },
    {
     "data": {
      "application/vnd.jupyter.widget-view+json": {
       "model_id": "b0f018e11b274e758d706f14b7f50611",
       "version_major": 2,
       "version_minor": 0
      },
      "text/plain": [
       "  0%|          | 0/100 [00:00<?, ?it/s]"
      ]
     },
     "metadata": {},
     "output_type": "display_data"
    },
    {
     "name": "stdout",
     "output_type": "stream",
     "text": [
      "{'eval_loss': 1.2427372932434082, 'eval_Accuracy': 0.597, 'eval_F1': 0.35152337936905736, 'eval_Precision': 0.6338065981806693, 'eval_Recall': 0.3422501275394302, 'eval_runtime': 31.7646, 'eval_samples_per_second': 62.963, 'eval_steps_per_second': 3.148, 'epoch': 2.5}\n",
      "{'train_runtime': 39.9814, 'train_samples_per_second': 7.503, 'train_steps_per_second': 1.501, 'train_loss': 0.4744236946105957, 'epoch': 3.0}\n"
     ]
    },
    {
     "data": {
      "application/vnd.jupyter.widget-view+json": {
       "model_id": "bd09da683e084f048f9f14ee7259d598",
       "version_major": 2,
       "version_minor": 0
      },
      "text/plain": [
       "  0%|          | 0/100 [00:00<?, ?it/s]"
      ]
     },
     "metadata": {},
     "output_type": "display_data"
    },
    {
     "name": "stdout",
     "output_type": "stream",
     "text": [
      "eval_Accuracy : 0.613\n",
      "110\n"
     ]
    },
    {
     "data": {
      "application/vnd.jupyter.widget-view+json": {
       "model_id": "2f240be854d64a6895135b3a3c3ff4d0",
       "version_major": 2,
       "version_minor": 0
      },
      "text/plain": [
       "  0%|          | 0/66 [00:00<?, ?it/s]"
      ]
     },
     "metadata": {},
     "output_type": "display_data"
    },
    {
     "name": "stdout",
     "output_type": "stream",
     "text": [
      "{'loss': 0.2774, 'learning_rate': 2.35e-05, 'epoch': 2.27}\n"
     ]
    },
    {
     "data": {
      "application/vnd.jupyter.widget-view+json": {
       "model_id": "3da0971cfaba4f239bf1a1f1a698e801",
       "version_major": 2,
       "version_minor": 0
      },
      "text/plain": [
       "  0%|          | 0/100 [00:00<?, ?it/s]"
      ]
     },
     "metadata": {},
     "output_type": "display_data"
    },
    {
     "name": "stdout",
     "output_type": "stream",
     "text": [
      "{'eval_loss': 1.1778534650802612, 'eval_Accuracy': 0.6145, 'eval_F1': 0.4141126689738347, 'eval_Precision': 0.5363550703769286, 'eval_Recall': 0.42494667268338804, 'eval_runtime': 31.8365, 'eval_samples_per_second': 62.821, 'eval_steps_per_second': 3.141, 'epoch': 2.27}\n",
      "{'train_runtime': 41.0613, 'train_samples_per_second': 8.037, 'train_steps_per_second': 1.607, 'train_loss': 0.2533946362408725, 'epoch': 3.0}\n"
     ]
    },
    {
     "data": {
      "application/vnd.jupyter.widget-view+json": {
       "model_id": "81e3eeefe17a4a21928934a8ed9a6da9",
       "version_major": 2,
       "version_minor": 0
      },
      "text/plain": [
       "  0%|          | 0/100 [00:00<?, ?it/s]"
      ]
     },
     "metadata": {},
     "output_type": "display_data"
    },
    {
     "name": "stdout",
     "output_type": "stream",
     "text": [
      "eval_Accuracy : 0.6235\n",
      "120\n"
     ]
    },
    {
     "data": {
      "application/vnd.jupyter.widget-view+json": {
       "model_id": "33f1b2f4f6c54da4a1f39ad82a557aaa",
       "version_major": 2,
       "version_minor": 0
      },
      "text/plain": [
       "  0%|          | 0/72 [00:00<?, ?it/s]"
      ]
     },
     "metadata": {},
     "output_type": "display_data"
    },
    {
     "name": "stdout",
     "output_type": "stream",
     "text": [
      "{'loss': 0.2559, 'learning_rate': 2.35e-05, 'epoch': 2.08}\n"
     ]
    },
    {
     "data": {
      "application/vnd.jupyter.widget-view+json": {
       "model_id": "9774aef4c3084279910466d43f3f3b5a",
       "version_major": 2,
       "version_minor": 0
      },
      "text/plain": [
       "  0%|          | 0/100 [00:00<?, ?it/s]"
      ]
     },
     "metadata": {},
     "output_type": "display_data"
    },
    {
     "name": "stdout",
     "output_type": "stream",
     "text": [
      "{'eval_loss': 1.4325240850448608, 'eval_Accuracy': 0.6275, 'eval_F1': 0.41284416060664597, 'eval_Precision': 0.5835545504387749, 'eval_Recall': 0.397293461592509, 'eval_runtime': 31.9805, 'eval_samples_per_second': 62.538, 'eval_steps_per_second': 3.127, 'epoch': 2.08}\n",
      "{'train_runtime': 42.9942, 'train_samples_per_second': 8.373, 'train_steps_per_second': 1.675, 'train_loss': 0.23594063520431519, 'epoch': 3.0}\n"
     ]
    },
    {
     "data": {
      "application/vnd.jupyter.widget-view+json": {
       "model_id": "ff95b78c738b4f6c90755b63c3a129f4",
       "version_major": 2,
       "version_minor": 0
      },
      "text/plain": [
       "  0%|          | 0/100 [00:00<?, ?it/s]"
      ]
     },
     "metadata": {},
     "output_type": "display_data"
    },
    {
     "name": "stdout",
     "output_type": "stream",
     "text": [
      "eval_Accuracy : 0.6345\n",
      "130\n"
     ]
    },
    {
     "data": {
      "application/vnd.jupyter.widget-view+json": {
       "model_id": "a10467245bdc4e2cb63cf6e80845d9f2",
       "version_major": 2,
       "version_minor": 0
      },
      "text/plain": [
       "  0%|          | 0/78 [00:00<?, ?it/s]"
      ]
     },
     "metadata": {},
     "output_type": "display_data"
    },
    {
     "name": "stdout",
     "output_type": "stream",
     "text": [
      "{'loss': 0.1702, 'learning_rate': 2.4e-05, 'epoch': 1.92}\n"
     ]
    },
    {
     "data": {
      "application/vnd.jupyter.widget-view+json": {
       "model_id": "2c0b3dcb49a04267bcdaa9a63bbd460f",
       "version_major": 2,
       "version_minor": 0
      },
      "text/plain": [
       "  0%|          | 0/100 [00:00<?, ?it/s]"
      ]
     },
     "metadata": {},
     "output_type": "display_data"
    },
    {
     "name": "stdout",
     "output_type": "stream",
     "text": [
      "{'eval_loss': 1.870599389076233, 'eval_Accuracy': 0.602, 'eval_F1': 0.416487953115163, 'eval_Precision': 0.5828593066836617, 'eval_Recall': 0.40986060437414495, 'eval_runtime': 31.838, 'eval_samples_per_second': 62.818, 'eval_steps_per_second': 3.141, 'epoch': 1.92}\n",
      "{'train_runtime': 42.8445, 'train_samples_per_second': 9.103, 'train_steps_per_second': 1.821, 'train_loss': 0.14400280133271828, 'epoch': 3.0}\n"
     ]
    },
    {
     "data": {
      "application/vnd.jupyter.widget-view+json": {
       "model_id": "934e96053fdc41e3ad74566959d3f5c0",
       "version_major": 2,
       "version_minor": 0
      },
      "text/plain": [
       "  0%|          | 0/100 [00:00<?, ?it/s]"
      ]
     },
     "metadata": {},
     "output_type": "display_data"
    },
    {
     "name": "stdout",
     "output_type": "stream",
     "text": [
      "eval_Accuracy : 0.638\n",
      "140\n"
     ]
    },
    {
     "data": {
      "application/vnd.jupyter.widget-view+json": {
       "model_id": "24fb732b985e4c19950b2e60efc5ac49",
       "version_major": 2,
       "version_minor": 0
      },
      "text/plain": [
       "  0%|          | 0/84 [00:00<?, ?it/s]"
      ]
     },
     "metadata": {},
     "output_type": "display_data"
    },
    {
     "name": "stdout",
     "output_type": "stream",
     "text": [
      "{'loss': 0.1311, 'learning_rate': 2.4e-05, 'epoch': 1.79}\n"
     ]
    },
    {
     "data": {
      "application/vnd.jupyter.widget-view+json": {
       "model_id": "39153b34cbda4b95bd1a86781ea41b10",
       "version_major": 2,
       "version_minor": 0
      },
      "text/plain": [
       "  0%|          | 0/100 [00:00<?, ?it/s]"
      ]
     },
     "metadata": {},
     "output_type": "display_data"
    },
    {
     "name": "stdout",
     "output_type": "stream",
     "text": [
      "{'eval_loss': 1.6262563467025757, 'eval_Accuracy': 0.6175, 'eval_F1': 0.4784968853270664, 'eval_Precision': 0.4978277113279296, 'eval_Recall': 0.47741440811074354, 'eval_runtime': 31.8524, 'eval_samples_per_second': 62.79, 'eval_steps_per_second': 3.139, 'epoch': 1.79}\n",
      "{'train_runtime': 43.8199, 'train_samples_per_second': 9.585, 'train_steps_per_second': 1.917, 'train_loss': 0.10633389155069987, 'epoch': 3.0}\n"
     ]
    },
    {
     "data": {
      "application/vnd.jupyter.widget-view+json": {
       "model_id": "9e1fb451a8c04859826afdd8dd75a480",
       "version_major": 2,
       "version_minor": 0
      },
      "text/plain": [
       "  0%|          | 0/100 [00:00<?, ?it/s]"
      ]
     },
     "metadata": {},
     "output_type": "display_data"
    },
    {
     "name": "stdout",
     "output_type": "stream",
     "text": [
      "eval_Accuracy : 0.622\n",
      "150\n"
     ]
    },
    {
     "data": {
      "application/vnd.jupyter.widget-view+json": {
       "model_id": "64ecfc2be8ff4657916621942eb0c6f2",
       "version_major": 2,
       "version_minor": 0
      },
      "text/plain": [
       "  0%|          | 0/90 [00:00<?, ?it/s]"
      ]
     },
     "metadata": {},
     "output_type": "display_data"
    },
    {
     "name": "stdout",
     "output_type": "stream",
     "text": [
      "{'loss': 0.0514, 'learning_rate': 2.4e-05, 'epoch': 1.67}\n"
     ]
    },
    {
     "data": {
      "application/vnd.jupyter.widget-view+json": {
       "model_id": "d5413a9bb1c04cc18e4844c649c9d2cb",
       "version_major": 2,
       "version_minor": 0
      },
      "text/plain": [
       "  0%|          | 0/100 [00:00<?, ?it/s]"
      ]
     },
     "metadata": {},
     "output_type": "display_data"
    },
    {
     "name": "stdout",
     "output_type": "stream",
     "text": [
      "{'eval_loss': 1.9406825304031372, 'eval_Accuracy': 0.6345, 'eval_F1': 0.47205210569114053, 'eval_Precision': 0.512751429603195, 'eval_Recall': 0.46806211037246204, 'eval_runtime': 31.8559, 'eval_samples_per_second': 62.783, 'eval_steps_per_second': 3.139, 'epoch': 1.67}\n",
      "{'train_runtime': 44.4966, 'train_samples_per_second': 10.113, 'train_steps_per_second': 2.023, 'train_loss': 0.0772996187210083, 'epoch': 3.0}\n"
     ]
    },
    {
     "data": {
      "application/vnd.jupyter.widget-view+json": {
       "model_id": "003c512b1fd5413b9fb2771ce7953bbc",
       "version_major": 2,
       "version_minor": 0
      },
      "text/plain": [
       "  0%|          | 0/100 [00:00<?, ?it/s]"
      ]
     },
     "metadata": {},
     "output_type": "display_data"
    },
    {
     "name": "stdout",
     "output_type": "stream",
     "text": [
      "eval_Accuracy : 0.6075\n"
     ]
    }
   ],
   "source": [
    "# Initialize empty lists to store metrics for each iteration\n",
    "accuracy_list = []\n",
    "precision_list = []\n",
    "recall_list = []\n",
    "loss_list = []\n",
    "x_labels = []\n",
    "n = 0\n",
    "\n",
    "for iteration in range(15):\n",
    "    n += 10\n",
    "    print(n)\n",
    "    initial_labeled_encoding = tokenizer(hundreds_rows_pred[0:n]['reviews.text'].to_list(), truncation=True, padding=True)\n",
    "    initial_labeled_labels = hundreds_rows_pred[0:n]['reviews.rating'].to_list()\n",
    "    initial_labeled_dataloader = DataLoader(initial_labeled_encoding,initial_labeled_labels)\n",
    "\n",
    "   \n",
    "    trainer = Trainer(\n",
    "        #the pre-trained bert model that will be fine-tuned\n",
    "        model=model,\n",
    "        #training arguments that we defined above\n",
    "        args=training_args,\n",
    "        train_dataset= initial_labeled_dataloader,\n",
    "        eval_dataset = test_dataloader,\n",
    "        compute_metrics= compute_metrics\n",
    "    )\n",
    "\n",
    "    trainer.train()\n",
    "\n",
    "    metrics = trainer.evaluate()\n",
    "\n",
    "    print('eval_Accuracy :',metrics['eval_Accuracy'])\n",
    "\n",
    "    accuracy_list.append(metrics['eval_Accuracy'])\n",
    "    precision_list.append(metrics['eval_Precision'])\n",
    "    recall_list.append(metrics['eval_Recall'])\n",
    "    loss_list.append(metrics['eval_loss'])\n",
    "    x_labels.append(n)\n",
    "\n"
   ]
  },
  {
   "cell_type": "code",
   "execution_count": 31,
   "metadata": {},
   "outputs": [
    {
     "data": {
      "image/png": "[encoded data removed]",
      "text/plain": [
       "<Figure size 1600x600 with 3 Axes>"
      ]
     },
     "metadata": {},
     "output_type": "display_data"
    }
   ],
   "source": [
    "# Plot the metrics\n",
    "plt.figure(figsize=(16, 6))\n",
    "plt.subplot(1, 3, 1)\n",
    "plt.plot(x_labels, accuracy_list, marker='o')\n",
    "plt.title('Accuracy Over Iterations')\n",
    "plt.xlabel('Number of Samples')\n",
    "plt.ylabel('Accuracy')\n",
    "\n",
    "plt.subplot(1, 3, 2)\n",
    "plt.plot(x_labels, precision_list, marker='o')\n",
    "plt.title('Precision Over Iterations')\n",
    "plt.xlabel('Number of Samples')\n",
    "plt.ylabel('Precision')\n",
    "\n",
    "plt.subplot(1, 3, 3)\n",
    "plt.plot(x_labels, recall_list, marker='o')\n",
    "plt.title('Recall Over Iterations')\n",
    "plt.xlabel('Number of Samples')\n",
    "plt.ylabel('Recall')\n",
    "\n",
    "plt.tight_layout()\n",
    "plt.show()"
   ]
  },
  {
   "cell_type": "code",
   "execution_count": 53,
   "metadata": {},
   "outputs": [
    {
     "data": {
      "text/html": [
       "<div>\n",
       "<style scoped>\n",
       "    .dataframe tbody tr th:only-of-type {\n",
       "        vertical-align: middle;\n",
       "    }\n",
       "\n",
       "    .dataframe tbody tr th {\n",
       "        vertical-align: top;\n",
       "    }\n",
       "\n",
       "    .dataframe thead th {\n",
       "        text-align: right;\n",
       "    }\n",
       "</style>\n",
       "<table border=\"1\" class=\"dataframe\">\n",
       "  <thead>\n",
       "    <tr style=\"text-align: right;\">\n",
       "      <th></th>\n",
       "      <th>brand</th>\n",
       "      <th>primaryCategories</th>\n",
       "      <th>reviews.numHelpful</th>\n",
       "      <th>reviews.rating</th>\n",
       "      <th>reviews.text</th>\n",
       "    </tr>\n",
       "  </thead>\n",
       "  <tbody>\n",
       "    <tr>\n",
       "      <th>0</th>\n",
       "      <td>2</td>\n",
       "      <td>Health &amp; Beauty</td>\n",
       "      <td>NaN</td>\n",
       "      <td>3</td>\n",
       "      <td>A lot of battery for the buck.</td>\n",
       "    </tr>\n",
       "    <tr>\n",
       "      <th>1</th>\n",
       "      <td>0</td>\n",
       "      <td>Electronics</td>\n",
       "      <td>0.0</td>\n",
       "      <td>3</td>\n",
       "      <td>Great tablet for toddlers. Easy yet fun. I pur...</td>\n",
       "    </tr>\n",
       "    <tr>\n",
       "      <th>2</th>\n",
       "      <td>2</td>\n",
       "      <td>Health &amp; Beauty</td>\n",
       "      <td>NaN</td>\n",
       "      <td>0</td>\n",
       "      <td>I love Amazon and Amazon products but....MAJOR...</td>\n",
       "    </tr>\n",
       "    <tr>\n",
       "      <th>3</th>\n",
       "      <td>2</td>\n",
       "      <td>Health &amp; Beauty</td>\n",
       "      <td>NaN</td>\n",
       "      <td>4</td>\n",
       "      <td>Fast delivery of product as advertised.</td>\n",
       "    </tr>\n",
       "    <tr>\n",
       "      <th>4</th>\n",
       "      <td>2</td>\n",
       "      <td>Health &amp; Beauty</td>\n",
       "      <td>NaN</td>\n",
       "      <td>3</td>\n",
       "      <td>Battery life is equivalent to name-brand, mid-...</td>\n",
       "    </tr>\n",
       "    <tr>\n",
       "      <th>...</th>\n",
       "      <td>...</td>\n",
       "      <td>...</td>\n",
       "      <td>...</td>\n",
       "      <td>...</td>\n",
       "      <td>...</td>\n",
       "    </tr>\n",
       "    <tr>\n",
       "      <th>1995</th>\n",
       "      <td>0</td>\n",
       "      <td>Electronics</td>\n",
       "      <td>0.0</td>\n",
       "      <td>3</td>\n",
       "      <td>I exchanged a highly unsatisfactory Insignia u...</td>\n",
       "    </tr>\n",
       "    <tr>\n",
       "      <th>1996</th>\n",
       "      <td>0</td>\n",
       "      <td>Electronics</td>\n",
       "      <td>0.0</td>\n",
       "      <td>3</td>\n",
       "      <td>we're early in the stages of home smartness bu...</td>\n",
       "    </tr>\n",
       "    <tr>\n",
       "      <th>1997</th>\n",
       "      <td>0</td>\n",
       "      <td>Electronics</td>\n",
       "      <td>0.0</td>\n",
       "      <td>3</td>\n",
       "      <td>my grandson had one and likes it. so i bought ...</td>\n",
       "    </tr>\n",
       "    <tr>\n",
       "      <th>1998</th>\n",
       "      <td>0</td>\n",
       "      <td>Electronics</td>\n",
       "      <td>4.0</td>\n",
       "      <td>3</td>\n",
       "      <td>This is a nice bare-bones reading device. Easy...</td>\n",
       "    </tr>\n",
       "    <tr>\n",
       "      <th>1999</th>\n",
       "      <td>0</td>\n",
       "      <td>Electronics</td>\n",
       "      <td>0.0</td>\n",
       "      <td>1</td>\n",
       "      <td>I loved this tablet. I did! BUT I did not love...</td>\n",
       "    </tr>\n",
       "  </tbody>\n",
       "</table>\n",
       "<p>2000 rows × 5 columns</p>\n",
       "</div>"
      ],
      "text/plain": [
       "      brand primaryCategories  reviews.numHelpful  reviews.rating  \\\n",
       "0         2   Health & Beauty                 NaN               3   \n",
       "1         0       Electronics                 0.0               3   \n",
       "2         2   Health & Beauty                 NaN               0   \n",
       "3         2   Health & Beauty                 NaN               4   \n",
       "4         2   Health & Beauty                 NaN               3   \n",
       "...     ...               ...                 ...             ...   \n",
       "1995      0       Electronics                 0.0               3   \n",
       "1996      0       Electronics                 0.0               3   \n",
       "1997      0       Electronics                 0.0               3   \n",
       "1998      0       Electronics                 4.0               3   \n",
       "1999      0       Electronics                 0.0               1   \n",
       "\n",
       "                                           reviews.text  \n",
       "0                        A lot of battery for the buck.  \n",
       "1     Great tablet for toddlers. Easy yet fun. I pur...  \n",
       "2     I love Amazon and Amazon products but....MAJOR...  \n",
       "3               Fast delivery of product as advertised.  \n",
       "4     Battery life is equivalent to name-brand, mid-...  \n",
       "...                                                 ...  \n",
       "1995  I exchanged a highly unsatisfactory Insignia u...  \n",
       "1996  we're early in the stages of home smartness bu...  \n",
       "1997  my grandson had one and likes it. so i bought ...  \n",
       "1998  This is a nice bare-bones reading device. Easy...  \n",
       "1999  I loved this tablet. I did! BUT I did not love...  \n",
       "\n",
       "[2000 rows x 5 columns]"
      ]
     },
     "execution_count": 53,
     "metadata": {},
     "output_type": "execute_result"
    }
   ],
   "source": [
    "test_df"
   ]
  },
  {
   "cell_type": "code",
   "execution_count": 55,
   "metadata": {},
   "outputs": [
    {
     "data": {
      "application/vnd.jupyter.widget-view+json": {
       "model_id": "ccec2898c005410aa985c8d29201a70c",
       "version_major": 2,
       "version_minor": 0
      },
      "text/plain": [
       "  0%|          | 0/100 [00:00<?, ?it/s]"
      ]
     },
     "metadata": {},
     "output_type": "display_data"
    },
    {
     "name": "stdout",
     "output_type": "stream",
     "text": [
      "accuracy 61.0% \n"
     ]
    }
   ],
   "source": [
    "predictions = trainer.predict(test_dataloader)\n",
    "predicted_labels = predictions.predictions.argmax(axis=1)\n",
    "accuracy = accuracy_score(test_df['reviews.rating'].to_list(),predicted_labels)\n",
    "print('accuracy {}% '.format(np.round(accuracy * 100)))\n"
   ]
  },
  {
   "cell_type": "code",
   "execution_count": 56,
   "metadata": {},
   "outputs": [],
   "source": [
    "bert_pred_df = pd.DataFrame({'Bert_Pred' : predicted_labels, 'reviews.rating' : test_df['reviews.rating'].to_list() })"
   ]
  },
  {
   "cell_type": "code",
   "execution_count": 57,
   "metadata": {},
   "outputs": [],
   "source": [
    "bert_pred_df.to_csv('Amazon_Bert_Pred.csv',index=False)"
   ]
  },
  {
   "cell_type": "code",
   "execution_count": 58,
   "metadata": {},
   "outputs": [],
   "source": [
    "from sklearn.metrics import confusion_matrix"
   ]
  },
  {
   "cell_type": "markdown",
   "metadata": {},
   "source": [
    "# Confusion Matrix"
   ]
  },
  {
   "cell_type": "code",
   "execution_count": 60,
   "metadata": {},
   "outputs": [
    {
     "data": {
      "image/png": "[encoded data removed]",
      "text/plain": [
       "<Figure size 1200x1000 with 2 Axes>"
      ]
     },
     "metadata": {},
     "output_type": "display_data"
    }
   ],
   "source": [
    "# Compute the confusion matrix\n",
    "cm = confusion_matrix(test_df['reviews.rating'].to_list(),predicted_labels)\n",
    "\n",
    "# Create a heatmap of the confusion matrix\n",
    "plt.figure(figsize=(12, 10))\n",
    "sns.heatmap(cm, annot=True, fmt=\"d\", cmap=\"Blues\")\n",
    "plt.xlabel('Predicted Labels')\n",
    "plt.ylabel('True Labels')\n",
    "plt.title('Confusion Matrix Amazon BERT Prediction')\n",
    "\n",
    "\n",
    "# Save the confusion matrix as an image\n",
    "plt.savefig('confusion_matrix.png')\n",
    "plt.show()"
   ]
  },
  {
   "cell_type": "code",
   "execution_count": 61,
   "metadata": {},
   "outputs": [
    {
     "name": "stdout",
     "output_type": "stream",
     "text": [
      "CSV file 'Amazon_Label_Accuracies.csv' has been created.\n"
     ]
    }
   ],
   "source": [
    "import csv\n",
    "\n",
    "\n",
    "# Combine the lists into a list of tuples\n",
    "data = list(zip(x_labels, accuracy_list, precision_list, recall_list, loss_list))\n",
    "\n",
    "# Specify the file name\n",
    "csv_file_name = \"Amazon_Label_Accuracies.csv\"\n",
    "\n",
    "# Write the data to a CSV file\n",
    "with open(csv_file_name, 'w', newline='') as csv_file:\n",
    "    csv_writer = csv.writer(csv_file)\n",
    "    \n",
    "    csv_writer.writerow(['Labels', 'accuracy', 'precision', 'recall', 'loss'])\n",
    "    \n",
    "    # Write the data\n",
    "    csv_writer.writerows(data)\n",
    "\n",
    "print(f\"CSV file '{csv_file_name}' has been created.\")"
   ]
  }
 ],
 "metadata": {
  "kernelspec": {
   "display_name": "base",
   "language": "python",
   "name": "python3"
  },
  "language_info": {
   "codemirror_mode": {
    "name": "ipython",
    "version": 3
   },
   "file_extension": ".py",
   "mimetype": "text/x-python",
   "name": "python",
   "nbconvert_exporter": "python",
   "pygments_lexer": "ipython3",
   "version": "3.10.13"
  }
 },
 "nbformat": 4,
 "nbformat_minor": 2
}
